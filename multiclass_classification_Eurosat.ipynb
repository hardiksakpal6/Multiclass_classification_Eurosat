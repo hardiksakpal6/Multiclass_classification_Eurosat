{
  "cells": [
    {
      "cell_type": "markdown",
      "metadata": {
        "id": "It_mz6dTeMTM"
      },
      "source": [
        "# Project: Multiclass Classification on EUROSAT"
      ]
    },
    {
      "cell_type": "markdown",
      "metadata": {
        "id": "o_rqESvZeMTW"
      },
      "source": [
        "Welcome to the project *Multiclass Classification on EUROSAT*! This notebook will guide you through elementary steps that need to be taken in many machine learning projects."
      ]
    },
    {
      "cell_type": "markdown",
      "metadata": {
        "id": "cRkCzuN_eMTb"
      },
      "source": [
        "1. Execute the following code to import required packages."
      ]
    },
    {
      "cell_type": "code",
      "execution_count": null,
      "metadata": {
        "id": "nX_dHvAleMTd"
      },
      "outputs": [],
      "source": [
        "import matplotlib.pyplot as plt\n",
        "import matplotlib.colors as mcolors\n",
        "import numpy as np\n",
        "import pandas as pd\n",
        "import seaborn as sns\n",
        "import tensorflow as tf\n",
        "import tensorflow_datasets as tfds\n",
        "from tensorflow import keras"
      ]
    },
    {
      "cell_type": "markdown",
      "metadata": {
        "id": "rxuYQ8gEeMTg"
      },
      "source": [
        "## 1.1 Before Training"
      ]
    },
    {
      "cell_type": "markdown",
      "metadata": {
        "id": "za63p8D7d2_v"
      },
      "source": []
    },
    {
      "cell_type": "markdown",
      "metadata": {
        "id": "1q20zqdWeMTh"
      },
      "source": [
        "### Loading the data\n",
        "\n",
        "2. Load the dataset ```EUROSAT``` in the version ```2.0.0```. To that end, call the function ```tfds.load``` only once and such that it returns a list ```[train_ds, val_ds, test_ds]``` as well as an object ```info``` of type ```tfds.core.DatasetInfo```. As a result, ```train_ds``` shall contain the first ```80%``` of the training split, ```val_ds``` shall contain the next ```10%``` of the training split, and ```test_ds``` shall contain the last ```10%``` of the training split of ```EUROSAT```.\n",
        "\n",
        "Useful information can be found under https://www.tensorflow.org/datasets/catalog/eurosat and https://www.tensorflow.org/datasets/overview."
      ]
    },
    {
      "cell_type": "code",
      "execution_count": null,
      "metadata": {
        "colab": {
          "base_uri": "https://localhost:8080/",
          "height": 918,
          "referenced_widgets": [
            "eee5dc9e1b2342d8b553256c27e3c9f4",
            "e094822e1a994d388757f1f3ec60c28e",
            "3cea6df4a866403891f0ec16804b11a0",
            "4bc65fa7a25f41dfacb5eb0ca58ff22c",
            "a060b9114ca7465c9c14ab408c5730f7",
            "f9d483447f154becaa7e4afa9975846f",
            "a4a6dfffcc9442588a369e1f6db246af",
            "102ccb7943aa43c38fd6cc85f9cc072c",
            "da1c7e07585948d388eebe5c58f46a5a",
            "8e930d9120ef453a8fc73233e106de16",
            "30933700de06456c93fe7300389c5cc0",
            "f64da74e841e49ad83e15d044199bd0a",
            "3789fc91cc9946858058518ccc6463c9",
            "55bd74c838374360ac0b4c3eaadf31e3",
            "e84cdc5cfb774789b1f2c062b025a807",
            "fa411b2cc2ed469796bc78af26cb0435",
            "1f0dd61a92184299954d87b159107d12",
            "7bf1bb5676634163892a6fd135931c34",
            "7e4b351d393144d4b378954267e86454",
            "84dd639d031048adb8a8e35738d6fbe2",
            "f35ccc7047bc41dcadef7061eb61b786",
            "968fc6b112fb45fdb6698bf33c1ea0a7",
            "6486bef5806d4d98b29fd4c5ce5f9ade",
            "8fe3ff01e9114649ab46ebe4cc574323",
            "7a484339d34a412b8a5cd17c59d1dcd9",
            "56f62437ee3649d496718539dae9ffd1",
            "66e34dc1df014a24acbf86cae1a72aee",
            "e6d9d5a84c584c31aaff300e07c83838",
            "21619bf6cbc04b5f9b5fb43400d5d2e5",
            "34f06627acd84f62ad837c0d5a2c6898",
            "91675d94d970413d9b88b2be750fc2dd",
            "bb22b50ae92845f7879bfd53b70404c0",
            "91780ac6aec24968b3f8ac1dfec441b4",
            "0b2a1671d28a4588aa8749b8a727cd23",
            "212ba0eb2a9b429ea2ab32d8ffad9f19",
            "cc58d6522be944fca831fb45f3f9d3a4",
            "ed8a92e799074fd387c4ba769e1f71e7",
            "637a66af84294dabb69d089fb654a7f6",
            "417e6898f9fe4280a244c711c56c56f8",
            "823072a2c62e44bbae0e37b6f5f4d65c",
            "a57a49e3fb3c47c9b03d56b750ae71f1",
            "0c5cf373d2e147a6b727bdbdc0b2664f",
            "fa28abad3c37400ea009ad53764ca4e2",
            "f6001946ea4047e996a4a4acdcb321d9",
            "0983439fa9544ba198d6197460ad5da3",
            "580ecc6d89a34a5eaa5d3e8dc7f27cad",
            "32e258e7360d4598ac95e2b9bd6c8a21",
            "ef01068c1fb44a3fb4ec1f9d5dda9e60",
            "5b59358a717149aca562b0d697e400dc",
            "ef2eae73d2aa4dae848046131b6873a0",
            "d5bbfe8ca5fb43dda41be56f8c8560ad",
            "52957eb585b8496cbec165041f9e2179",
            "0bf25860d8014180804664cb7636f649",
            "39cfb4c7aabb45c9b03af12cd88efde5",
            "200b529a0e0243b2b5e057bce4ae59ba",
            "5072266bddf640708628f4ee4fdbd0b1",
            "4147716ffb75497696d52f383db8d15c",
            "947ccb4272a04d2e80a4c98f4892a419",
            "96eead6828a24b50bedcb5b1630cfc1a",
            "cf9d5f383e3744dba19bf374351b60e6",
            "c2bea92e813d4b6295aac507802e8dbe",
            "517f855b323f4853aab7924592616582",
            "d91038efd4fa42a197f531bd4b90c536",
            "ddd93acb9b9d459187a7fecf03a9880d",
            "19f8901abb6a4abeac22022fec95bd97",
            "6a249e10e17345e5938c8390df6d2bc2"
          ]
        },
        "id": "2U3h5a0XeMTk",
        "outputId": "8e9fe285-8b35-4258-a789-2a024d9ad6ca",
        "scrolled": false
      },
      "outputs": [
        {
          "name": "stdout",
          "output_type": "stream",
          "text": [
            "Downloading and preparing dataset 89.91 MiB (download: 89.91 MiB, generated: Unknown size, total: 89.91 MiB) to ~/tensorflow_datasets/eurosat/rgb/2.0.0...\n"
          ]
        },
        {
          "data": {
            "application/vnd.jupyter.widget-view+json": {
              "model_id": "eee5dc9e1b2342d8b553256c27e3c9f4",
              "version_major": 2,
              "version_minor": 0
            },
            "text/plain": [
              "Dl Completed...: 0 url [00:00, ? url/s]"
            ]
          },
          "metadata": {},
          "output_type": "display_data"
        },
        {
          "data": {
            "application/vnd.jupyter.widget-view+json": {
              "model_id": "f64da74e841e49ad83e15d044199bd0a",
              "version_major": 2,
              "version_minor": 0
            },
            "text/plain": [
              "Dl Size...: 0 MiB [00:00, ? MiB/s]"
            ]
          },
          "metadata": {},
          "output_type": "display_data"
        },
        {
          "data": {
            "application/vnd.jupyter.widget-view+json": {
              "model_id": "6486bef5806d4d98b29fd4c5ce5f9ade",
              "version_major": 2,
              "version_minor": 0
            },
            "text/plain": [
              "Extraction completed...: 0 file [00:00, ? file/s]"
            ]
          },
          "metadata": {},
          "output_type": "display_data"
        },
        {
          "data": {
            "application/vnd.jupyter.widget-view+json": {
              "model_id": "0b2a1671d28a4588aa8749b8a727cd23",
              "version_major": 2,
              "version_minor": 0
            },
            "text/plain": [
              "Generating splits...:   0%|          | 0/1 [00:00<?, ? splits/s]"
            ]
          },
          "metadata": {},
          "output_type": "display_data"
        },
        {
          "data": {
            "application/vnd.jupyter.widget-view+json": {
              "model_id": "0983439fa9544ba198d6197460ad5da3",
              "version_major": 2,
              "version_minor": 0
            },
            "text/plain": [
              "Generating train examples...:   0%|          | 0/27000 [00:00<?, ? examples/s]"
            ]
          },
          "metadata": {},
          "output_type": "display_data"
        },
        {
          "data": {
            "application/vnd.jupyter.widget-view+json": {
              "model_id": "5072266bddf640708628f4ee4fdbd0b1",
              "version_major": 2,
              "version_minor": 0
            },
            "text/plain": [
              "Shuffling ~/tensorflow_datasets/eurosat/rgb/2.0.0.incompleteU15NQ2/eurosat-train.tfrecord*...:   0%|          …"
            ]
          },
          "metadata": {},
          "output_type": "display_data"
        },
        {
          "name": "stdout",
          "output_type": "stream",
          "text": [
            "Dataset eurosat downloaded and prepared to ~/tensorflow_datasets/eurosat/rgb/2.0.0. Subsequent calls will reuse this data.\n",
            "tfds.core.DatasetInfo(\n",
            "    name='eurosat',\n",
            "    full_name='eurosat/rgb/2.0.0',\n",
            "    description=\"\"\"\n",
            "    EuroSAT dataset is based on Sentinel-2 satellite images covering 13 spectral\n",
            "    bands and consisting of 10 classes with 27000 labeled and\n",
            "    geo-referenced samples.\n",
            "    \n",
            "    Two datasets are offered:\n",
            "    - rgb: Contains only the optical R, G, B frequency bands encoded as JPEG image.\n",
            "    - all: Contains all 13 bands in the original value range (float32).\n",
            "    \n",
            "    URL: https://github.com/phelber/eurosat\n",
            "    \"\"\",\n",
            "    config_description=\"\"\"\n",
            "    Sentinel-2 RGB channels\n",
            "    \"\"\",\n",
            "    homepage='https://github.com/phelber/eurosat',\n",
            "    data_path='~/tensorflow_datasets/eurosat/rgb/2.0.0',\n",
            "    file_format=tfrecord,\n",
            "    download_size=89.91 MiB,\n",
            "    dataset_size=89.50 MiB,\n",
            "    features=FeaturesDict({\n",
            "        'filename': Text(shape=(), dtype=tf.string),\n",
            "        'image': Image(shape=(64, 64, 3), dtype=tf.uint8),\n",
            "        'label': ClassLabel(shape=(), dtype=tf.int64, num_classes=10),\n",
            "    }),\n",
            "    supervised_keys=('image', 'label'),\n",
            "    disable_shuffling=False,\n",
            "    splits={\n",
            "        'train': <SplitInfo num_examples=27000, num_shards=1>,\n",
            "    },\n",
            "    citation=\"\"\"@misc{helber2017eurosat,\n",
            "        title={EuroSAT: A Novel Dataset and Deep Learning Benchmark for Land Use and Land Cover Classification},\n",
            "        author={Patrick Helber and Benjamin Bischke and Andreas Dengel and Damian Borth},\n",
            "        year={2017},\n",
            "        eprint={1709.00029},\n",
            "        archivePrefix={arXiv},\n",
            "        primaryClass={cs.CV}\n",
            "    }\"\"\",\n",
            ")\n"
          ]
        }
      ],
      "source": [
        "# Loading and splitting the dataset into training, validation and testing datasets v\n",
        "\n",
        "[train_ds, val_ds, test_ds], ds = tfds.load('eurosat',\n",
        "                                            split=[\"train[:80%]\", \"train[80%:90%]\", \"train[90%:]\"],\n",
        "                                            with_info=True,\n",
        "                                            shuffle_files= True,\n",
        "                                            as_supervised=True,\n",
        "                                            )\n",
        "print(ds)"
      ]
    },
    {
      "cell_type": "markdown",
      "metadata": {
        "id": "G9tvtqvoeMTm"
      },
      "source": [
        "The loaded datasets ```train_ds```, ```val_ds``` and ```test_ds``` are objects of type ```tensorflow.data.Dataset``` (or of a derived class). Moreover, ```info``` is an object of type ```tfds.core.DatasetInfo``` that contains useful information about the loaded data. In the following, you will first take a closer look at ```info```. Afterwards, you will learn how to access dataset items."
      ]
    },
    {
      "cell_type": "markdown",
      "metadata": {
        "id": "Aebzoc6WeMTn"
      },
      "source": [
        "### Looking at the big picture\n",
        "\n",
        "Use ```info``` to get a rough overview about ```EUROSAT```. Each ```item``` contained in ```train_ds```, ```val_ds``` and ```test_ds``` is a ```dictionary``` with keys ```\"image\"``` and ```\"label\"```.\n",
        "\n",
        "3. Print the following information in the specified order:\n",
        "   - Image shape (shape of ```item[\"image\"]```)\n",
        "   - Label shape (shape of ```item[\"label\"]```)\n",
        "   - Number of classes\n",
        "   - Class names\n",
        "   - Number of training examples\n",
        "\n",
        "All these information can be extracted from ```info```. Do **not** use ```train_ds```, ```val_ds``` or ```test_ds``` directly. Print the first information using ```print(\"Image shape: {}\".format(YOUR_CODE))``` and proceed analogously in the other cases."
      ]
    },
    {
      "cell_type": "code",
      "execution_count": null,
      "metadata": {
        "colab": {
          "base_uri": "https://localhost:8080/"
        },
        "id": "H9TL7t24eMTn",
        "outputId": "269ecd80-8b1f-4fa9-c250-31210b270310",
        "scrolled": true
      },
      "outputs": [
        {
          "name": "stdout",
          "output_type": "stream",
          "text": [
            "Image shape: (64, 64, 3)\n",
            "Label shape: ()\n",
            "Number of classes: 10\n",
            "Class names: ['AnnualCrop', 'Forest', 'HerbaceousVegetation', 'Highway', 'Industrial', 'Pasture', 'PermanentCrop', 'Residential', 'River', 'SeaLake']\n",
            "Number of training examples: 27000\n"
          ]
        }
      ],
      "source": [
        "# In this part we are extracting basic information such as image shape, label shape, number of classes, class names and number of training examples\n",
        "\n",
        "builder = tfds.builder('eurosat')\n",
        "info_ds = builder.info\n",
        "print(\"Image shape: {}\".format(info_ds.features[\"image\"].shape))\n",
        "print(\"Label shape: {}\".format(info_ds.features[\"label\"].shape))\n",
        "print(\"Number of classes: {}\".format(info_ds.features[\"label\"].num_classes))\n",
        "print(\"Class names: {}\".format(info_ds.features[\"label\"].names))\n",
        "print(\"Number of training examples: {}\".format(info_ds.splits[\"train\"].num_examples))"
      ]
    },
    {
      "cell_type": "markdown",
      "metadata": {
        "id": "frl5x9USeMTo"
      },
      "source": [
        "**Checkpoint**: Your code should produce the following output.\n",
        "\n",
        "```\n",
        "Image shape: (64, 64, 3)\n",
        "Label shape: ()\n",
        "Number of classes: 10\n",
        "Class names: ['AnnualCrop', 'Forest', 'HerbaceousVegetation', 'Highway', 'Industrial', 'Pasture', 'PermanentCrop', 'Residential', 'River', 'SeaLake']\n",
        "Number of training examples: 27000\n",
        "```"
      ]
    },
    {
      "cell_type": "markdown",
      "metadata": {
        "id": "RuAtMIyOeMTp"
      },
      "source": [
        "Next, we will display a subset of the loaded images.\n",
        "\n",
        "4. Use the function ```tfds.show_examples``` with optional arguments ```rows=2``` and ```cols=5```, to display ten items from ```train_ds```."
      ]
    },
    {
      "cell_type": "code",
      "execution_count": null,
      "metadata": {
        "colab": {
          "base_uri": "https://localhost:8080/",
          "height": 349
        },
        "id": "GjSSWB5veMTp",
        "outputId": "493e02b1-a218-47b7-a88a-91ff466a27f2",
        "scrolled": false
      },
      "outputs": [
        {
          "data": {
            "image/png": "[encoded data removed]",
            "text/plain": [
              "<Figure size 1080x432 with 10 Axes>"
            ]
          },
          "metadata": {},
          "output_type": "display_data"
        }
      ],
      "source": [
        "# Displaying the subset of images with the given arguments\n",
        "\n",
        "fig = tfds.show_examples(train_ds, info_ds, rows = 2, cols = 5)"
      ]
    },
    {
      "cell_type": "markdown",
      "metadata": {
        "id": "D_eJfPckeMTq"
      },
      "source": [
        "We do already know the number of elements in the full ```EUROSAT``` dataset. However, we subdivided the original training split into training, validation and test data. Moreover, we do not know how many items from which class are in the respective subsets.\n",
        "\n",
        "5. Write a function ```count_occurences``` that takes as input a dataset ```ds``` and an object ```info```, and returns an array ```num_occurences```. Therein, ```num_occurences[i]``` represents the number of elements with ```item[\"label\"] = i``` in ```ds```.\n",
        "\n",
        "You can iterate over all elements in ```ds``` using a loop in the form of ```for item in ds: ...```."
      ]
    },
    {
      "cell_type": "code",
      "execution_count": null,
      "metadata": {
        "id": "B8g9QOtjeMTq"
      },
      "outputs": [],
      "source": [
        "# function for returning number of occurances\n",
        "\n",
        "def count_occurences(ds, info):\n",
        "  num_occurences = [0,0,0,0,0,0,0,0,0,0]\n",
        "  for item in ds:\n",
        "    label = item[1]\n",
        "    num_occurences[label] += 1\n",
        "  return num_occurences"
      ]
    },
    {
      "cell_type": "markdown",
      "metadata": {
        "id": "PGQVtQQkeMTr"
      },
      "source": [
        "6. Apply your function to ```train_ds```, ```val_ds``` und ```test_ds``` and print the frequencies of occurence of all classes in the respective datasets. Use\n",
        "```python\n",
        "train_occurences = YOUR_CODE\n",
        "print(\"train_ds:\\t {}\".format(train_occurences))\n",
        "```\n",
        "for the first output, and format the other two accordingly."
      ]
    },
    {
      "cell_type": "code",
      "execution_count": null,
      "metadata": {
        "colab": {
          "base_uri": "https://localhost:8080/"
        },
        "id": "NIh-rTMUeMTr",
        "outputId": "01273949-ad44-4f03-97ad-02653d585c41"
      },
      "outputs": [
        {
          "name": "stdout",
          "output_type": "stream",
          "text": [
            "train_ds:\t [2427, 2425, 2379, 1996, 1999, 1603, 1996, 2392, 1989, 2394]\n",
            "val_ds:\t [297, 289, 304, 252, 244, 206, 237, 298, 266, 307]\n",
            "test_ds:\t [276, 286, 317, 252, 257, 191, 267, 310, 245, 299]\n"
          ]
        }
      ],
      "source": [
        "# Applying the function and printing the frequencies of occurences\n",
        "\n",
        "train_occurences = count_occurences(ds = train_ds, info = info_ds)\n",
        "val_occurences = count_occurences(ds = val_ds, info =  info_ds)\n",
        "test_occurences = count_occurences(ds = test_ds, info = info_ds)\n",
        "\n",
        "print(\"train_ds:\\t {}\".format(train_occurences))\n",
        "print(\"val_ds:\\t {}\".format(val_occurences))\n",
        "print(\"test_ds:\\t {}\".format(test_occurences))\n"
      ]
    },
    {
      "cell_type": "markdown",
      "metadata": {
        "id": "9HinKulceMTr"
      },
      "source": [
        "**Checkpoint:** Your code should produce the following output.\n",
        "\n",
        "```\n",
        "train_ds:\t [2427 2425 2379 1996 1999 1603 1996 2392 1989 2394]\n",
        "val_ds:\t\t [297 289 304 252 244 206 237 298 266 307]\n",
        "test_ds:\t [276 286 317 252 257 191 267 310 245 299]\n",
        "```\n",
        "\n",
        "The number of elements in a dataset can alternatively be accessed via the method ```tensorflow.data.Dataset.cardinality```."
      ]
    },
    {
      "cell_type": "markdown",
      "metadata": {
        "id": "9S26QhbzeMTs"
      },
      "source": [
        "Finally, let us get an idea of the range of values of the loaded images.\n",
        "\n",
        "7. Print the data format ```item[\"image\"].dtype``` as well as the smallest and largest entry of an arbitrary element ```item``` from ```train_ds```. Format the output analogous to above.\n",
        "\n",
        "By calling ```train_ds.take(1)``` you obtain a new dataset of type ```tensorflow.data.Dataset``` that contains only one item from ```train_ds```. The functions ```np.min``` and ```np.max``` can be helpful in order to compute the smallest and largest entries of an image. Although ```item[\"image\"]``` is a tensor, you can apply ```numpy``` functions directly to it. In case you ever want to cast ```item[\"image\"]``` (or any other tensor) explicitly as a ```numpy``` array (which does not apply here), the method ```item[\"image\"].numpy()``` is for you."
      ]
    },
    {
      "cell_type": "code",
      "execution_count": null,
      "metadata": {
        "colab": {
          "base_uri": "https://localhost:8080/"
        },
        "id": "0TJcStpDeMTs",
        "outputId": "e18c2f88-a986-479a-e6b7-aeb372db3ea9",
        "scrolled": true
      },
      "outputs": [
        {
          "name": "stdout",
          "output_type": "stream",
          "text": [
            "data format: <dtype: 'int64'>\n",
            "smallest entry: 1\n",
            "largest entry: 1\n"
          ]
        }
      ],
      "source": [
        "# Getting the range of values of the loaded images\n",
        "\n",
        "item, = train_ds.take(1)\n",
        "print(\"data format: {}\".format(item[1].dtype))\n",
        "print(\"smallest entry: {}\".format(np.min(item[1].numpy())))\n",
        "print(\"largest entry: {}\".format(np.max(item[1].numpy())))\n"
      ]
    },
    {
      "cell_type": "markdown",
      "metadata": {
        "id": "CqZ_EE9GeMTs"
      },
      "source": [
        "### Preprocessing the data\n",
        "In the previous step we have seen that the data are in integer format with entries in the range $\\{0,\\dots,255\\}$ (well, we actually only looked at a single image, but a look at the entire dataset would reveal that this is true). In terms of a training algorithm to be used later, it is often advantageous to rescale the data to a smaller interval. Now, we will rescale all images from ```train_ds```, ```val_ds``` und ```test_ds``` to the range $[0, 1]$ through division by $255$. At the same time, we will transform all elements ```item``` from a ```dictionary``` to a tuple ```(item[\"image\"] / 255, item[\"label\"])```.\n",
        "\n",
        "8. Write a function ```preprocess``` that takes as input an element ```item``` and returns a tuple as described above."
      ]
    },
    {
      "cell_type": "code",
      "execution_count": null,
      "metadata": {
        "id": "X7wNsdheeMTt"
      },
      "outputs": [],
      "source": [
        "# Describing function for rescaling the images into the range [0,1]\n",
        "\n",
        "def preprocess(image, label):\n",
        "  return tf.cast(image, tf.float32) / 255., label"
      ]
    },
    {
      "cell_type": "markdown",
      "metadata": {
        "id": "PVvDw__GeMTt"
      },
      "source": [
        "9. Transform the datasets ```train_ds```, ```val_ds``` und ```test_ds``` using your function ```preprocess```. One call ```ds = ds.map(preprocess)``` is enough to transform a full dataset."
      ]
    },
    {
      "cell_type": "code",
      "execution_count": null,
      "metadata": {
        "id": "XO6QDKzleMTt"
      },
      "outputs": [],
      "source": [
        "# Mapping the datasets to preprocessing function\n",
        "\n",
        "train_ds = train_ds.map(preprocess)\n",
        "val_ds = val_ds.map(preprocess)\n",
        "test_ds = test_ds.map(preprocess)\n",
        "#list(train_ds.as_numpy_iterator())\n",
        "#list(val_ds.as_numpy_iterator())\n",
        "#list(test_ds.as_numpy_iterator())"
      ]
    },
    {
      "cell_type": "markdown",
      "metadata": {
        "id": "A0PYxr6XeMTt"
      },
      "source": [
        "The class ```tf.data.Dataset``` provides various methods that can simplify the transformation of single items or entire datasets drastically. Two such methods are the above-mentioned ```tf.data.Dataset.take```, which requires an argument ```count``` and returns a new dataset including the first ```count``` elements of the calling dataset, as well as ```tf.data.Dataset.map```, which requires a function ```preprocess``` as input and applies this function automatically to all items in the dataset.\n",
        "\n",
        "Further methods from ```tf.data.Dataset```, which we will now use to construct an **input pipeline**, are\n",
        "- ```tf.data.Dataset.repeat``` to repeat a dataset a certain number of times,\n",
        "- ```tf.data.Dataset.shuffle``` to shuffle the items of a dataset randomly,\n",
        "- ```tf.data.Dataset.batch``` to group items of a dataset in batches of a certain size,\n",
        "- ```tf.data.Dataset.prefetch```.\n",
        "\n",
        "The usage of ```tf.data.Dataset``` is particularly efficient because only a fraction of the entire dataset is kept in the working memory at each time during training. Required data are loaded sequentially from disk into working memory and preprocessed. The method ```prefetch``` takes care that a specific number of batches will always be buffered ahead of time in the working memory. This prevents delays during training that could be caused by data loading and preprocessing. Further information can be found under https://www.tensorflow.org/api_docs/python/tf/data/Dataset.\n",
        "\n",
        "10. Define ```batch_size = 32``` (will be needed in the next step). Then, apply the methods ```repeat``` (without argument), ```shuffle``` (with arguments ```buffer_size=1024``` and ```seed=0```), ```batch``` (with argument ```batch_size=batch_size```) and ```prefetch``` (with argument ```buffer_size=1```) to ```train_ds``` (in the specified order)."
      ]
    },
    {
      "cell_type": "code",
      "execution_count": null,
      "metadata": {
        "id": "25jDwMgAeMTu"
      },
      "outputs": [],
      "source": [
        "# application of the above mentioned methods\n",
        "\n",
        "batch_size = 32\n",
        "train_ds = train_ds.cache()\n",
        "train_ds = train_ds.repeat()\n",
        "train_ds = train_ds.shuffle(buffer_size=1024)\n",
        "train_ds = train_ds.batch(batch_size = batch_size)\n",
        "train_ds = train_ds.prefetch(buffer_size = 1)"
      ]
    },
    {
      "cell_type": "markdown",
      "metadata": {
        "id": "SqQkraW4eMTu"
      },
      "source": [
        "11. Execute the follwing code:"
      ]
    },
    {
      "cell_type": "code",
      "execution_count": null,
      "metadata": {
        "colab": {
          "base_uri": "https://localhost:8080/",
          "height": 280
        },
        "id": "rtASvU9peMTu",
        "outputId": "c6f6be4b-cf08-4505-baf2-b99003242708",
        "scrolled": true
      },
      "outputs": [
        {
          "name": "stdout",
          "output_type": "stream",
          "text": [
            "(32, 64, 64, 3)\n"
          ]
        },
        {
          "data": {
            "image/png": "[encoded data removed]",
            "text/plain": [
              "<Figure size 432x288 with 1 Axes>"
            ]
          },
          "metadata": {},
          "output_type": "display_data"
        }
      ],
      "source": [
        "for item in train_ds.take(1):\n",
        "    print(item[0].shape)\n",
        "    plt.imshow(item[0][0, ...], cmap='gray')\n",
        "    plt.xticks([])\n",
        "    plt.yticks([])\n",
        "    plt.xlabel(f'Label: {item[1][0]}')\n",
        "    plt.show()"
      ]
    },
    {
      "cell_type": "markdown",
      "metadata": {
        "id": "VHlReK3peMTu"
      },
      "source": [
        "**Checkpoint:** You should get as output ```(32, 64, 64, 3)``` as well as (on first execution) an image showing forest."
      ]
    },
    {
      "cell_type": "markdown",
      "metadata": {
        "id": "UFZ2PMKleMTv"
      },
      "source": [
        "12. Transform ```val_ds``` and ```test_ds``` in the same way, only omit calls of ```repeat``` and ```shuffle``` (would be without effect here) and use ```batch_size=1``` in the case of ```test_ds```.\n",
        "\n",
        "You can either put all these calls into one line of code per dataset, or use a new line for each transformation. Be aware that each above-mentioned method returns a new dataset, as opposed to modifying a dataset in place."
      ]
    },
    {
      "cell_type": "code",
      "execution_count": null,
      "metadata": {
        "id": "HZax5bpPeMTv"
      },
      "outputs": [],
      "source": [
        "# Tranforming the validationand testing dataset\n",
        "\n",
        "# validation\n",
        "val_ds = val_ds.cache()\n",
        "val_ds = val_ds.batch(batch_size = 32)\n",
        "val_ds = val_ds.prefetch(buffer_size = 1)\n",
        "\n",
        "# test\n",
        "test_ds = test_ds.cache()\n",
        "test_ds = test_ds.batch(batch_size = 1)\n",
        "test_ds = test_ds.prefetch(buffer_size = 1)"
      ]
    },
    {
      "cell_type": "markdown",
      "metadata": {
        "id": "YwFUbNwYeMTv"
      },
      "source": [
        "## 1.2 Training phase\n",
        "\n",
        "Now that inspection and preprocessing of the data are finished, we will use ```tensorflow.keras``` to define a first neural network model and train that model on the ```EUROSAT``` data."
      ]
    },
    {
      "cell_type": "markdown",
      "metadata": {
        "id": "YIz789TKeMTv"
      },
      "source": [
        "### Model definition\n",
        "\n",
        "13. Use the Keras Sequential API to define a *fully connected* model ```model``` featuring the following architecture:\n",
        "\n",
        " - One (parameter-free) input layer to vectorize the input data,\n",
        " - one hidden layer with 256 neurons and ReLU activation function,\n",
        " - one output layer with a suitable number of neurons and softmax activation function.\n",
        "\n",
        "    \n",
        "Helpful information can be found under https://www.tensorflow.org/api_docs/python/tf/keras/Sequential/. Regarding the input layer, use ```keras.layers.Flatten()``` and submit the argument ```input_shape``` to inform the model about the input data format. To that end, you can use ```info.features[\"image\"].shape``` again."
      ]
    },
    {
      "cell_type": "code",
      "execution_count": null,
      "metadata": {
        "id": "HfRADIHyeMTw"
      },
      "outputs": [],
      "source": [
        "# Defining the neural network model for training using Keras Sequential\n",
        "# Importing the Keras Library and packages\n",
        "\n",
        "builder = tfds.builder('eurosat')\n",
        "info_ds = builder.info\n",
        "\n",
        "model = tf.keras.Sequential()\n",
        "model.add(tf.keras.layers.Flatten(input_shape=info_ds.features[\"image\"].shape))\n",
        "model.add(tf.keras.layers.Dense(256, activation = 'relu'))\n",
        "model.add(tf.keras.layers.Dense(10, activation = 'softmax'))"
      ]
    },
    {
      "cell_type": "markdown",
      "metadata": {
        "id": "9KbC8tW0eMTw"
      },
      "source": [
        "### Model summary\n",
        "\n",
        "14. Use ```model.summary``` to display a summary of your model."
      ]
    },
    {
      "cell_type": "code",
      "execution_count": null,
      "metadata": {
        "colab": {
          "base_uri": "https://localhost:8080/"
        },
        "id": "nPdt8QrqeMTw",
        "outputId": "b21ab29d-375c-4c27-842f-c50529c35feb",
        "scrolled": true
      },
      "outputs": [
        {
          "name": "stdout",
          "output_type": "stream",
          "text": [
            "Model: \"sequential\"\n",
            "_________________________________________________________________\n",
            " Layer (type)                Output Shape              Param #   \n",
            "=================================================================\n",
            " flatten (Flatten)           (None, 12288)             0         \n",
            "                                                                 \n",
            " dense (Dense)               (None, 256)               3145984   \n",
            "                                                                 \n",
            " dense_1 (Dense)             (None, 10)                2570      \n",
            "                                                                 \n",
            "=================================================================\n",
            "Total params: 3,148,554\n",
            "Trainable params: 3,148,554\n",
            "Non-trainable params: 0\n",
            "_________________________________________________________________\n"
          ]
        }
      ],
      "source": [
        "# displaying summary of the model\n",
        "\n",
        "model.summary()"
      ]
    },
    {
      "cell_type": "markdown",
      "metadata": {
        "id": "Q7PKROCIeMTx"
      },
      "source": [
        "**Checkpoint:** The end of the output of ```model.summary()``` should be as follows.\n",
        "\n",
        "```\n",
        "Total params: 3,148,554\n",
        "Trainable params: 3,148,554\n",
        "Non-trainable params: 0\n",
        "```"
      ]
    },
    {
      "cell_type": "markdown",
      "metadata": {
        "id": "SEhxbORjeMTx"
      },
      "source": [
        "### Training\n",
        "\n",
        "15. Call ```model.compile``` to compile your model. Use the loss function ```keras.losses.sparse_categorical_crossentropy```, the optimizer ```keras.optimizers.Adam```, as well as the metric ```keras.metrics.sparse_categorical_accuracy```. Moreover, use a learning rate rate schedule to implement a learning rate decay from initially ```1e-4``` to eventually ```1e-8```. Be sure to set the argument ```decay_steps``` of the schedule appropriately. Useful information can be found under https://www.tensorflow.org/api_docs/python/tf/keras/optimizers/schedules/PolynomialDecay."
      ]
    },
    {
      "cell_type": "code",
      "execution_count": null,
      "metadata": {
        "id": "V3flHPwEeMTx"
      },
      "outputs": [],
      "source": [
        "# training part\n",
        "\n",
        "epochs = 100\n",
        "start_learning_rate = 1e-4\n",
        "end_learning_rate = 1e-8\n",
        "decay_steps = epochs * sum(train_occurences) // batch_size\n",
        "learning_rate_fn = tf.keras.optimizers.schedules.PolynomialDecay(start_learning_rate,\n",
        "                                                          decay_steps,\n",
        "                                                          end_learning_rate,\n",
        "                                                          power=0.5)\n",
        "\n",
        "model.compile(\n",
        "    loss=tf.keras.losses.SparseCategoricalCrossentropy(),\n",
        "    optimizer=tf.keras.optimizers.Adam(learning_rate = learning_rate_fn),\n",
        "    metrics=[tf.keras.metrics.SparseCategoricalAccuracy()],\n",
        ")"
      ]
    },
    {
      "cell_type": "markdown",
      "metadata": {
        "id": "FnN1RTcTeMTy"
      },
      "source": [
        "16. Call ```model.fit``` with return value ```history``` to train your model for 100 epochs (as indicated in the previous cell) on ```train_ds```. Use the argument ```steps_per_epoch``` to pass the number of batches that need to be processed in each epoch. This number corresponds to the sum of entries of ```train_occurences``` divided by ```batch_size``` (round up). Also pass validation data ```val_ds```."
      ]
    },
    {
      "cell_type": "code",
      "execution_count": null,
      "metadata": {
        "colab": {
          "base_uri": "https://localhost:8080/"
        },
        "id": "Fe2_JExxeMTz",
        "outputId": "cac25e5b-57c7-4661-d9d9-b571f4ca7573",
        "scrolled": true
      },
      "outputs": [
        {
          "name": "stdout",
          "output_type": "stream",
          "text": [
            "Epoch 1/100\n",
            "675/675 [==============================] - 12s 12ms/step - loss: 1.8373 - sparse_categorical_accuracy: 0.3165 - val_loss: 1.7807 - val_sparse_categorical_accuracy: 0.3674\n",
            "Epoch 2/100\n",
            "675/675 [==============================] - 7s 10ms/step - loss: 1.6948 - sparse_categorical_accuracy: 0.3750 - val_loss: 1.6031 - val_sparse_categorical_accuracy: 0.4270\n",
            "Epoch 3/100\n",
            "675/675 [==============================] - 7s 10ms/step - loss: 1.6244 - sparse_categorical_accuracy: 0.4029 - val_loss: 1.6151 - val_sparse_categorical_accuracy: 0.3907\n",
            "Epoch 4/100\n",
            "675/675 [==============================] - 7s 10ms/step - loss: 1.5705 - sparse_categorical_accuracy: 0.4291 - val_loss: 1.5967 - val_sparse_categorical_accuracy: 0.3815\n",
            "Epoch 5/100\n",
            "675/675 [==============================] - 7s 10ms/step - loss: 1.5447 - sparse_categorical_accuracy: 0.4308 - val_loss: 1.5111 - val_sparse_categorical_accuracy: 0.4600\n",
            "Epoch 6/100\n",
            "675/675 [==============================] - 8s 12ms/step - loss: 1.5161 - sparse_categorical_accuracy: 0.4466 - val_loss: 1.5146 - val_sparse_categorical_accuracy: 0.4556\n",
            "Epoch 7/100\n",
            "675/675 [==============================] - 7s 10ms/step - loss: 1.4953 - sparse_categorical_accuracy: 0.4557 - val_loss: 1.5194 - val_sparse_categorical_accuracy: 0.4511\n",
            "Epoch 8/100\n",
            "675/675 [==============================] - 7s 10ms/step - loss: 1.4769 - sparse_categorical_accuracy: 0.4611 - val_loss: 1.4726 - val_sparse_categorical_accuracy: 0.4548\n",
            "Epoch 9/100\n",
            "675/675 [==============================] - 7s 10ms/step - loss: 1.4601 - sparse_categorical_accuracy: 0.4701 - val_loss: 1.4688 - val_sparse_categorical_accuracy: 0.4811\n",
            "Epoch 10/100\n",
            "675/675 [==============================] - 7s 10ms/step - loss: 1.4454 - sparse_categorical_accuracy: 0.4794 - val_loss: 1.5170 - val_sparse_categorical_accuracy: 0.4426\n",
            "Epoch 11/100\n",
            "675/675 [==============================] - 7s 10ms/step - loss: 1.4397 - sparse_categorical_accuracy: 0.4791 - val_loss: 1.4888 - val_sparse_categorical_accuracy: 0.4378\n",
            "Epoch 12/100\n",
            "675/675 [==============================] - 7s 11ms/step - loss: 1.4231 - sparse_categorical_accuracy: 0.4903 - val_loss: 1.4401 - val_sparse_categorical_accuracy: 0.4874\n",
            "Epoch 13/100\n",
            "675/675 [==============================] - 7s 10ms/step - loss: 1.4138 - sparse_categorical_accuracy: 0.4904 - val_loss: 1.4292 - val_sparse_categorical_accuracy: 0.4874\n",
            "Epoch 14/100\n",
            "675/675 [==============================] - 7s 10ms/step - loss: 1.4046 - sparse_categorical_accuracy: 0.4939 - val_loss: 1.4865 - val_sparse_categorical_accuracy: 0.4478\n",
            "Epoch 15/100\n",
            "675/675 [==============================] - 7s 10ms/step - loss: 1.3895 - sparse_categorical_accuracy: 0.5008 - val_loss: 1.4407 - val_sparse_categorical_accuracy: 0.4774\n",
            "Epoch 16/100\n",
            "675/675 [==============================] - 7s 10ms/step - loss: 1.3818 - sparse_categorical_accuracy: 0.5056 - val_loss: 1.4178 - val_sparse_categorical_accuracy: 0.4919\n",
            "Epoch 17/100\n",
            "675/675 [==============================] - 7s 10ms/step - loss: 1.3672 - sparse_categorical_accuracy: 0.5105 - val_loss: 1.4132 - val_sparse_categorical_accuracy: 0.4985\n",
            "Epoch 18/100\n",
            "675/675 [==============================] - 7s 10ms/step - loss: 1.3598 - sparse_categorical_accuracy: 0.5119 - val_loss: 1.4628 - val_sparse_categorical_accuracy: 0.4637\n",
            "Epoch 19/100\n",
            "675/675 [==============================] - 7s 11ms/step - loss: 1.3472 - sparse_categorical_accuracy: 0.5202 - val_loss: 1.4329 - val_sparse_categorical_accuracy: 0.4789\n",
            "Epoch 20/100\n",
            "675/675 [==============================] - 7s 10ms/step - loss: 1.3403 - sparse_categorical_accuracy: 0.5218 - val_loss: 1.4065 - val_sparse_categorical_accuracy: 0.5030\n",
            "Epoch 21/100\n",
            "675/675 [==============================] - 7s 10ms/step - loss: 1.3215 - sparse_categorical_accuracy: 0.5298 - val_loss: 1.3891 - val_sparse_categorical_accuracy: 0.5022\n",
            "Epoch 22/100\n",
            "675/675 [==============================] - 7s 10ms/step - loss: 1.3126 - sparse_categorical_accuracy: 0.5334 - val_loss: 1.3749 - val_sparse_categorical_accuracy: 0.4956\n",
            "Epoch 23/100\n",
            "675/675 [==============================] - 7s 10ms/step - loss: 1.3059 - sparse_categorical_accuracy: 0.5323 - val_loss: 1.3709 - val_sparse_categorical_accuracy: 0.5096\n",
            "Epoch 24/100\n",
            "675/675 [==============================] - 7s 10ms/step - loss: 1.2951 - sparse_categorical_accuracy: 0.5399 - val_loss: 1.3663 - val_sparse_categorical_accuracy: 0.5048\n",
            "Epoch 25/100\n",
            "675/675 [==============================] - 7s 11ms/step - loss: 1.2888 - sparse_categorical_accuracy: 0.5408 - val_loss: 1.3971 - val_sparse_categorical_accuracy: 0.4919\n",
            "Epoch 26/100\n",
            "675/675 [==============================] - 7s 10ms/step - loss: 1.2779 - sparse_categorical_accuracy: 0.5453 - val_loss: 1.3393 - val_sparse_categorical_accuracy: 0.5093\n",
            "Epoch 27/100\n",
            "675/675 [==============================] - 7s 10ms/step - loss: 1.2708 - sparse_categorical_accuracy: 0.5475 - val_loss: 1.3321 - val_sparse_categorical_accuracy: 0.5333\n",
            "Epoch 28/100\n",
            "675/675 [==============================] - 7s 10ms/step - loss: 1.2568 - sparse_categorical_accuracy: 0.5529 - val_loss: 1.3489 - val_sparse_categorical_accuracy: 0.5137\n",
            "Epoch 29/100\n",
            "675/675 [==============================] - 7s 10ms/step - loss: 1.2501 - sparse_categorical_accuracy: 0.5566 - val_loss: 1.3679 - val_sparse_categorical_accuracy: 0.5037\n",
            "Epoch 30/100\n",
            "675/675 [==============================] - 7s 10ms/step - loss: 1.2405 - sparse_categorical_accuracy: 0.5608 - val_loss: 1.3378 - val_sparse_categorical_accuracy: 0.5222\n",
            "Epoch 31/100\n",
            "675/675 [==============================] - 7s 10ms/step - loss: 1.2349 - sparse_categorical_accuracy: 0.5600 - val_loss: 1.3254 - val_sparse_categorical_accuracy: 0.5378\n",
            "Epoch 32/100\n",
            "675/675 [==============================] - 8s 12ms/step - loss: 1.2189 - sparse_categorical_accuracy: 0.5706 - val_loss: 1.3002 - val_sparse_categorical_accuracy: 0.5422\n",
            "Epoch 33/100\n",
            "675/675 [==============================] - 7s 10ms/step - loss: 1.2126 - sparse_categorical_accuracy: 0.5745 - val_loss: 1.3047 - val_sparse_categorical_accuracy: 0.5196\n",
            "Epoch 34/100\n",
            "675/675 [==============================] - 7s 10ms/step - loss: 1.2106 - sparse_categorical_accuracy: 0.5683 - val_loss: 1.3047 - val_sparse_categorical_accuracy: 0.5352\n",
            "Epoch 35/100\n",
            "675/675 [==============================] - 7s 10ms/step - loss: 1.1987 - sparse_categorical_accuracy: 0.5785 - val_loss: 1.3574 - val_sparse_categorical_accuracy: 0.5167\n",
            "Epoch 36/100\n",
            "675/675 [==============================] - 7s 10ms/step - loss: 1.1916 - sparse_categorical_accuracy: 0.5795 - val_loss: 1.3210 - val_sparse_categorical_accuracy: 0.5293\n",
            "Epoch 37/100\n",
            "675/675 [==============================] - 7s 10ms/step - loss: 1.1832 - sparse_categorical_accuracy: 0.5816 - val_loss: 1.3308 - val_sparse_categorical_accuracy: 0.5396\n",
            "Epoch 38/100\n",
            "675/675 [==============================] - 7s 11ms/step - loss: 1.1714 - sparse_categorical_accuracy: 0.5871 - val_loss: 1.3107 - val_sparse_categorical_accuracy: 0.5311\n",
            "Epoch 39/100\n",
            "675/675 [==============================] - 7s 10ms/step - loss: 1.1719 - sparse_categorical_accuracy: 0.5858 - val_loss: 1.3231 - val_sparse_categorical_accuracy: 0.5185\n",
            "Epoch 40/100\n",
            "675/675 [==============================] - 7s 10ms/step - loss: 1.1622 - sparse_categorical_accuracy: 0.5880 - val_loss: 1.2906 - val_sparse_categorical_accuracy: 0.5226\n",
            "Epoch 41/100\n",
            "675/675 [==============================] - 7s 10ms/step - loss: 1.1580 - sparse_categorical_accuracy: 0.5898 - val_loss: 1.2946 - val_sparse_categorical_accuracy: 0.5326\n",
            "Epoch 42/100\n",
            "675/675 [==============================] - 7s 10ms/step - loss: 1.1528 - sparse_categorical_accuracy: 0.5927 - val_loss: 1.2708 - val_sparse_categorical_accuracy: 0.5511\n",
            "Epoch 43/100\n",
            "675/675 [==============================] - 7s 10ms/step - loss: 1.1395 - sparse_categorical_accuracy: 0.5996 - val_loss: 1.2830 - val_sparse_categorical_accuracy: 0.5493\n",
            "Epoch 44/100\n",
            "675/675 [==============================] - 7s 11ms/step - loss: 1.1417 - sparse_categorical_accuracy: 0.5983 - val_loss: 1.3101 - val_sparse_categorical_accuracy: 0.5230\n",
            "Epoch 45/100\n",
            "675/675 [==============================] - 7s 10ms/step - loss: 1.1289 - sparse_categorical_accuracy: 0.6032 - val_loss: 1.2792 - val_sparse_categorical_accuracy: 0.5522\n",
            "Epoch 46/100\n",
            "675/675 [==============================] - 7s 10ms/step - loss: 1.1290 - sparse_categorical_accuracy: 0.6014 - val_loss: 1.2671 - val_sparse_categorical_accuracy: 0.5526\n",
            "Epoch 47/100\n",
            "675/675 [==============================] - 7s 11ms/step - loss: 1.1175 - sparse_categorical_accuracy: 0.6066 - val_loss: 1.2579 - val_sparse_categorical_accuracy: 0.5552\n",
            "Epoch 48/100\n",
            "675/675 [==============================] - 7s 10ms/step - loss: 1.1147 - sparse_categorical_accuracy: 0.6087 - val_loss: 1.2659 - val_sparse_categorical_accuracy: 0.5452\n",
            "Epoch 49/100\n",
            "675/675 [==============================] - 7s 10ms/step - loss: 1.1079 - sparse_categorical_accuracy: 0.6072 - val_loss: 1.2733 - val_sparse_categorical_accuracy: 0.5556\n",
            "Epoch 50/100\n",
            "675/675 [==============================] - 7s 10ms/step - loss: 1.1063 - sparse_categorical_accuracy: 0.6123 - val_loss: 1.2630 - val_sparse_categorical_accuracy: 0.5556\n",
            "Epoch 51/100\n",
            "675/675 [==============================] - 7s 10ms/step - loss: 1.1009 - sparse_categorical_accuracy: 0.6131 - val_loss: 1.2968 - val_sparse_categorical_accuracy: 0.5489\n",
            "Epoch 52/100\n",
            "675/675 [==============================] - 7s 10ms/step - loss: 1.0946 - sparse_categorical_accuracy: 0.6157 - val_loss: 1.2703 - val_sparse_categorical_accuracy: 0.5467\n",
            "Epoch 53/100\n",
            "675/675 [==============================] - 7s 10ms/step - loss: 1.0895 - sparse_categorical_accuracy: 0.6154 - val_loss: 1.2447 - val_sparse_categorical_accuracy: 0.5533\n",
            "Epoch 54/100\n",
            "675/675 [==============================] - 7s 10ms/step - loss: 1.0825 - sparse_categorical_accuracy: 0.6205 - val_loss: 1.2329 - val_sparse_categorical_accuracy: 0.5607\n",
            "Epoch 55/100\n",
            "675/675 [==============================] - 7s 10ms/step - loss: 1.0805 - sparse_categorical_accuracy: 0.6223 - val_loss: 1.2515 - val_sparse_categorical_accuracy: 0.5519\n",
            "Epoch 56/100\n",
            "675/675 [==============================] - 7s 10ms/step - loss: 1.0744 - sparse_categorical_accuracy: 0.6242 - val_loss: 1.2552 - val_sparse_categorical_accuracy: 0.5507\n",
            "Epoch 57/100\n",
            "675/675 [==============================] - 7s 11ms/step - loss: 1.0672 - sparse_categorical_accuracy: 0.6258 - val_loss: 1.2409 - val_sparse_categorical_accuracy: 0.5630\n",
            "Epoch 58/100\n",
            "675/675 [==============================] - 7s 11ms/step - loss: 1.0626 - sparse_categorical_accuracy: 0.6287 - val_loss: 1.2302 - val_sparse_categorical_accuracy: 0.5626\n",
            "Epoch 59/100\n",
            "675/675 [==============================] - 7s 10ms/step - loss: 1.0559 - sparse_categorical_accuracy: 0.6296 - val_loss: 1.2504 - val_sparse_categorical_accuracy: 0.5630\n",
            "Epoch 60/100\n",
            "675/675 [==============================] - 7s 10ms/step - loss: 1.0572 - sparse_categorical_accuracy: 0.6281 - val_loss: 1.2359 - val_sparse_categorical_accuracy: 0.5633\n",
            "Epoch 61/100\n",
            "675/675 [==============================] - 7s 10ms/step - loss: 1.0521 - sparse_categorical_accuracy: 0.6326 - val_loss: 1.2540 - val_sparse_categorical_accuracy: 0.5585\n",
            "Epoch 62/100\n",
            "675/675 [==============================] - 7s 10ms/step - loss: 1.0474 - sparse_categorical_accuracy: 0.6341 - val_loss: 1.2593 - val_sparse_categorical_accuracy: 0.5381\n",
            "Epoch 63/100\n",
            "675/675 [==============================] - 7s 10ms/step - loss: 1.0407 - sparse_categorical_accuracy: 0.6350 - val_loss: 1.2306 - val_sparse_categorical_accuracy: 0.5626\n",
            "Epoch 64/100\n",
            "675/675 [==============================] - 7s 10ms/step - loss: 1.0369 - sparse_categorical_accuracy: 0.6333 - val_loss: 1.2511 - val_sparse_categorical_accuracy: 0.5433\n",
            "Epoch 65/100\n",
            "675/675 [==============================] - 7s 10ms/step - loss: 1.0327 - sparse_categorical_accuracy: 0.6383 - val_loss: 1.2327 - val_sparse_categorical_accuracy: 0.5726\n",
            "Epoch 66/100\n",
            "675/675 [==============================] - 7s 10ms/step - loss: 1.0325 - sparse_categorical_accuracy: 0.6379 - val_loss: 1.2472 - val_sparse_categorical_accuracy: 0.5711\n",
            "Epoch 67/100\n",
            "675/675 [==============================] - 7s 10ms/step - loss: 1.0251 - sparse_categorical_accuracy: 0.6439 - val_loss: 1.2381 - val_sparse_categorical_accuracy: 0.5489\n",
            "Epoch 68/100\n",
            "675/675 [==============================] - 7s 10ms/step - loss: 1.0194 - sparse_categorical_accuracy: 0.6431 - val_loss: 1.2296 - val_sparse_categorical_accuracy: 0.5633\n",
            "Epoch 69/100\n",
            "675/675 [==============================] - 7s 10ms/step - loss: 1.0133 - sparse_categorical_accuracy: 0.6454 - val_loss: 1.2488 - val_sparse_categorical_accuracy: 0.5633\n",
            "Epoch 70/100\n",
            "675/675 [==============================] - 7s 11ms/step - loss: 1.0102 - sparse_categorical_accuracy: 0.6483 - val_loss: 1.2182 - val_sparse_categorical_accuracy: 0.5796\n",
            "Epoch 71/100\n",
            "675/675 [==============================] - 7s 10ms/step - loss: 1.0114 - sparse_categorical_accuracy: 0.6475 - val_loss: 1.2281 - val_sparse_categorical_accuracy: 0.5759\n",
            "Epoch 72/100\n",
            "675/675 [==============================] - 7s 10ms/step - loss: 1.0077 - sparse_categorical_accuracy: 0.6484 - val_loss: 1.2062 - val_sparse_categorical_accuracy: 0.5756\n",
            "Epoch 73/100\n",
            "675/675 [==============================] - 7s 10ms/step - loss: 1.0026 - sparse_categorical_accuracy: 0.6510 - val_loss: 1.2048 - val_sparse_categorical_accuracy: 0.5774\n",
            "Epoch 74/100\n",
            "675/675 [==============================] - 7s 10ms/step - loss: 0.9993 - sparse_categorical_accuracy: 0.6536 - val_loss: 1.2112 - val_sparse_categorical_accuracy: 0.5696\n",
            "Epoch 75/100\n",
            "675/675 [==============================] - 7s 10ms/step - loss: 1.0000 - sparse_categorical_accuracy: 0.6505 - val_loss: 1.2250 - val_sparse_categorical_accuracy: 0.5637\n",
            "Epoch 76/100\n",
            "675/675 [==============================] - 7s 11ms/step - loss: 0.9951 - sparse_categorical_accuracy: 0.6549 - val_loss: 1.2027 - val_sparse_categorical_accuracy: 0.5815\n",
            "Epoch 77/100\n",
            "675/675 [==============================] - 7s 10ms/step - loss: 0.9860 - sparse_categorical_accuracy: 0.6587 - val_loss: 1.2128 - val_sparse_categorical_accuracy: 0.5767\n",
            "Epoch 78/100\n",
            "675/675 [==============================] - 7s 10ms/step - loss: 0.9826 - sparse_categorical_accuracy: 0.6600 - val_loss: 1.2066 - val_sparse_categorical_accuracy: 0.5844\n",
            "Epoch 79/100\n",
            "675/675 [==============================] - 7s 10ms/step - loss: 0.9818 - sparse_categorical_accuracy: 0.6607 - val_loss: 1.2091 - val_sparse_categorical_accuracy: 0.5826\n",
            "Epoch 80/100\n",
            "675/675 [==============================] - 7s 10ms/step - loss: 0.9792 - sparse_categorical_accuracy: 0.6598 - val_loss: 1.2220 - val_sparse_categorical_accuracy: 0.5759\n",
            "Epoch 81/100\n",
            "675/675 [==============================] - 7s 10ms/step - loss: 0.9759 - sparse_categorical_accuracy: 0.6612 - val_loss: 1.2058 - val_sparse_categorical_accuracy: 0.5759\n",
            "Epoch 82/100\n",
            "675/675 [==============================] - 7s 10ms/step - loss: 0.9699 - sparse_categorical_accuracy: 0.6636 - val_loss: 1.2094 - val_sparse_categorical_accuracy: 0.5870\n",
            "Epoch 83/100\n",
            "675/675 [==============================] - 7s 11ms/step - loss: 0.9716 - sparse_categorical_accuracy: 0.6650 - val_loss: 1.2318 - val_sparse_categorical_accuracy: 0.5811\n",
            "Epoch 84/100\n",
            "675/675 [==============================] - 7s 11ms/step - loss: 0.9642 - sparse_categorical_accuracy: 0.6669 - val_loss: 1.1948 - val_sparse_categorical_accuracy: 0.5815\n",
            "Epoch 85/100\n",
            "675/675 [==============================] - 7s 10ms/step - loss: 0.9642 - sparse_categorical_accuracy: 0.6652 - val_loss: 1.2070 - val_sparse_categorical_accuracy: 0.5878\n",
            "Epoch 86/100\n",
            "675/675 [==============================] - 7s 10ms/step - loss: 0.9578 - sparse_categorical_accuracy: 0.6695 - val_loss: 1.2147 - val_sparse_categorical_accuracy: 0.5715\n",
            "Epoch 87/100\n",
            "675/675 [==============================] - 7s 10ms/step - loss: 0.9570 - sparse_categorical_accuracy: 0.6725 - val_loss: 1.1985 - val_sparse_categorical_accuracy: 0.5819\n",
            "Epoch 88/100\n",
            "675/675 [==============================] - 7s 10ms/step - loss: 0.9510 - sparse_categorical_accuracy: 0.6715 - val_loss: 1.2095 - val_sparse_categorical_accuracy: 0.5774\n",
            "Epoch 89/100\n",
            "675/675 [==============================] - 7s 11ms/step - loss: 0.9499 - sparse_categorical_accuracy: 0.6729 - val_loss: 1.2003 - val_sparse_categorical_accuracy: 0.5822\n",
            "Epoch 90/100\n",
            "675/675 [==============================] - 7s 10ms/step - loss: 0.9456 - sparse_categorical_accuracy: 0.6742 - val_loss: 1.1991 - val_sparse_categorical_accuracy: 0.5804\n",
            "Epoch 91/100\n",
            "675/675 [==============================] - 7s 10ms/step - loss: 0.9458 - sparse_categorical_accuracy: 0.6742 - val_loss: 1.1996 - val_sparse_categorical_accuracy: 0.5919\n",
            "Epoch 92/100\n",
            "675/675 [==============================] - 7s 10ms/step - loss: 0.9402 - sparse_categorical_accuracy: 0.6769 - val_loss: 1.1914 - val_sparse_categorical_accuracy: 0.5881\n",
            "Epoch 93/100\n",
            "675/675 [==============================] - 7s 10ms/step - loss: 0.9414 - sparse_categorical_accuracy: 0.6765 - val_loss: 1.1869 - val_sparse_categorical_accuracy: 0.5867\n",
            "Epoch 94/100\n",
            "675/675 [==============================] - 7s 10ms/step - loss: 0.9346 - sparse_categorical_accuracy: 0.6813 - val_loss: 1.2058 - val_sparse_categorical_accuracy: 0.5848\n",
            "Epoch 95/100\n",
            "675/675 [==============================] - 7s 10ms/step - loss: 0.9322 - sparse_categorical_accuracy: 0.6805 - val_loss: 1.2003 - val_sparse_categorical_accuracy: 0.5811\n",
            "Epoch 96/100\n",
            "675/675 [==============================] - 7s 11ms/step - loss: 0.9297 - sparse_categorical_accuracy: 0.6819 - val_loss: 1.1874 - val_sparse_categorical_accuracy: 0.5915\n",
            "Epoch 97/100\n",
            "675/675 [==============================] - 7s 10ms/step - loss: 0.9273 - sparse_categorical_accuracy: 0.6837 - val_loss: 1.1950 - val_sparse_categorical_accuracy: 0.5807\n",
            "Epoch 98/100\n",
            "675/675 [==============================] - 9s 13ms/step - loss: 0.9228 - sparse_categorical_accuracy: 0.6865 - val_loss: 1.1811 - val_sparse_categorical_accuracy: 0.5926\n",
            "Epoch 99/100\n",
            "675/675 [==============================] - 7s 10ms/step - loss: 0.9200 - sparse_categorical_accuracy: 0.6876 - val_loss: 1.1819 - val_sparse_categorical_accuracy: 0.5948\n",
            "Epoch 100/100\n",
            "675/675 [==============================] - 7s 10ms/step - loss: 0.9147 - sparse_categorical_accuracy: 0.6888 - val_loss: 1.1803 - val_sparse_categorical_accuracy: 0.5978\n"
          ]
        }
      ],
      "source": [
        "# fitting the trainig dataset to the model\n",
        "\n",
        "history = model.fit(\n",
        "          train_ds,\n",
        "          epochs = 100,\n",
        "          steps_per_epoch = np.sum(train_occurences) // batch_size,\n",
        "          validation_data = val_ds,\n",
        ")"
      ]
    },
    {
      "cell_type": "markdown",
      "metadata": {
        "id": "AMNpYwNkeMTz"
      },
      "source": [
        "17. Save your model as ```my_first_model.h5```."
      ]
    },
    {
      "cell_type": "code",
      "execution_count": null,
      "metadata": {
        "id": "4H_1axgKeMT0"
      },
      "outputs": [],
      "source": [
        "# saving the model\n",
        "\n",
        "model.save('my_first_model.h5')"
      ]
    },
    {
      "cell_type": "markdown",
      "metadata": {
        "id": "zROgy_yBeMT0"
      },
      "source": [
        "18. Execute the following code to load your model again (this can be helpful if you pause and want to continue later)."
      ]
    },
    {
      "cell_type": "code",
      "execution_count": null,
      "metadata": {
        "id": "ekhjsQSyeMT1"
      },
      "outputs": [],
      "source": [
        "# loading the model\n",
        "\n",
        "#new_model = tf.keras.models.load_model('my_first_model.h5')\n",
        "#new_model.summary()\n",
        "model = keras.models.load_model('/content/drive/MyDrive/FPDS/my_first_model.h5')"
      ]
    },
    {
      "cell_type": "markdown",
      "metadata": {
        "id": "QcJ6M1oMeMT1"
      },
      "source": [
        "**Checkpoint:** You should have been able to save and load your model again."
      ]
    },
    {
      "cell_type": "code",
      "execution_count": null,
      "metadata": {
        "colab": {
          "base_uri": "https://localhost:8080/"
        },
        "id": "KCvVq0oJBFOn",
        "outputId": "3cf3043c-7621-46dd-d0e6-7690d18e714e"
      },
      "outputs": [
        {
          "name": "stdout",
          "output_type": "stream",
          "text": [
            "Mounted at /content/drive\n"
          ]
        }
      ],
      "source": [
        "from google.colab import drive\n",
        "drive.mount('/content/drive')"
      ]
    },
    {
      "cell_type": "markdown",
      "metadata": {
        "id": "5m4GoR2weMT1"
      },
      "source": [
        "### Learning curves\n",
        "\n",
        "The return value of ```model.fit``` is an object ```history``` of type ```keras.callbacks.History```. This object features attributes ```history.history``` and ```history.params```. The former is a dictionary with keys ```\"loss\"```, ```\"sparse_categorical_accuracy\"```, ```\"val_loss\"```, and ```\"val_sparse_categorical_accuracy\"```. The associated values are lists containing the respective metrics computed towards the end of each epoch.\n",
        "\n",
        "19. Construct an object ```history_frame``` of class ```pd.DataFrame``` from ```history.history```. Call ```history_frame.plot(figsize=(8, 5))``` and afterwards ```plt.show()```.\n",
        "\n",
        "Write your code below the two lines at the top of the following cell. The usage of ```seaborn``` here only provides a standardized and relatively pleasing style and rendering of the plots."
      ]
    },
    {
      "cell_type": "code",
      "execution_count": null,
      "metadata": {
        "colab": {
          "base_uri": "https://localhost:8080/",
          "height": 322
        },
        "id": "BEDisepueMT1",
        "outputId": "5c1caf7a-2061-4e1c-9e3c-9c9dff5aabcc",
        "scrolled": true
      },
      "outputs": [
        {
          "data": {
            "image/png": "[encoded data removed]",
            "text/plain": [
              "<Figure size 576x360 with 1 Axes>"
            ]
          },
          "metadata": {},
          "output_type": "display_data"
        }
      ],
      "source": [
        "sns.set_style('darkgrid', {'axes.facecolor': '.9'})\n",
        "sns.set_context('notebook')\n",
        "history_frame = pd.DataFrame(data = history.history)\n",
        "history_frame.plot(figsize = (8,5))\n",
        "plt.show()"
      ]
    },
    {
      "cell_type": "markdown",
      "metadata": {
        "id": "q3v64c9PeMT2"
      },
      "source": [
        "### Model evaluation\n",
        "\n",
        "During training, you could already watch the values of ```loss```, ```sparse_categorical_accuracy```, ```val_loss``` and ```sparse_categorical_val_accuracy``` evolve. To evaluate your model manually on a dataset, you can also call ```model.evaluate```.\n",
        "\n",
        "20. Apply ```model.evaluate``` twice to evaluate your model on training and validation data."
      ]
    },
    {
      "cell_type": "code",
      "execution_count": null,
      "metadata": {
        "colab": {
          "base_uri": "https://localhost:8080/"
        },
        "id": "c3NkgNyreMT2",
        "outputId": "378df04a-e967-43a4-c428-1eec8d3cc68e",
        "scrolled": true
      },
      "outputs": [
        {
          "name": "stdout",
          "output_type": "stream",
          "text": [
            "675/675 [==============================] - 2s 3ms/step - loss: 0.9094 - sparse_categorical_accuracy: 0.6917\n",
            "675/675 [==============================] - 2s 2ms/step - loss: 1.2076 - sparse_categorical_accuracy: 0.6059\n"
          ]
        },
        {
          "data": {
            "text/plain": [
              "[1.20758855342865, 0.6059259176254272]"
            ]
          },
          "execution_count": 21,
          "metadata": {},
          "output_type": "execute_result"
        }
      ],
      "source": [
        "model.evaluate(train_ds, steps = np.sum(train_occurences) // batch_size)\n",
        "model.evaluate(val_ds, steps = np.sum(train_occurences) // batch_size)"
      ]
    },
    {
      "cell_type": "markdown",
      "metadata": {
        "id": "kO8fPl-9eMT2"
      },
      "source": [
        "***Congratulations!***\n",
        "\n",
        "You have trained a first model for multiclass classification on ```EUROSAT``` and that is an important milestone!"
      ]
    },
    {
      "cell_type": "markdown",
      "metadata": {
        "id": "4spZ6ZFNeMT2"
      },
      "source": [
        "## 1.3 After training\n",
        "\n",
        "Apart from the model architecture and the observed metrics ```loss```, ```sparse_categorical_accuracy```, ```val_loss``` and ```val_sparse_categorical_accuracy```, we know yet only little about the functionality of our model. In this section, you will get to know two techniques for model visualization and interpretation."
      ]
    },
    {
      "cell_type": "markdown",
      "metadata": {
        "id": "AZgBTC11eMT2"
      },
      "source": [
        "### Forward propagation and model prediction\n",
        "\n",
        "Before we proceed to a first visualization technique, we recapitulate the forward propagation of an input image through a fully connected neural network. For a model with one $\\mathrm{ReLU}$ hidden layer and $\\mathrm{softmax}$ output layer, the forward mapping can be written as follows.\n",
        "\n",
        "$f(\\mathbf x) = \\underbrace{\\mathrm{softmax}(\\mathbf W^{[2]} \\underbrace{\\mathrm{ReLU}(\\mathbf W^{[1]}\\mathbf x + \\mathbf b^{[1]})}_{\\mathbf a^{[1]}} + \\mathbf b^{[2]})}_{\\mathbf a^{[2]}}$\n",
        "\n",
        "As a first step, we will now compute $f(\\mathbf x)$ using ```model```. The fastest way to do so is generally via the method ```model.predict```. However, just once, we will evaluate each layer of ```model``` separately to compute the network output. You can access the layers via ```model.layers[i]``` and use this object like a function.\n",
        "\n",
        "21. Complete the following code where indicated. The variable ```output``` shall ultimately contain $f(\\mathbf x)$ while ```prediction``` shall be a single number representing the predicted class."
      ]
    },
    {
      "cell_type": "code",
      "execution_count": null,
      "metadata": {
        "colab": {
          "base_uri": "https://localhost:8080/",
          "height": 813
        },
        "id": "levU5xcmeMT3",
        "outputId": "38897c1d-16bc-4e4d-cc4f-47a671cfa21e"
      },
      "outputs": [
        {
          "data": {
            "image/png": "[encoded data removed]",
            "text/plain": [
              "<Figure size 432x288 with 1 Axes>"
            ]
          },
          "metadata": {},
          "output_type": "display_data"
        },
        {
          "name": "stdout",
          "output_type": "stream",
          "text": [
            "True label: 0 (AnnualCrop)\n",
            "\n",
            "My Predicted Class Probabilities:\n",
            "\n",
            "0: 0.99757\n",
            "1: 0.00000\n",
            "2: 0.00000\n",
            "3: 0.00033\n",
            "4: 0.00000\n",
            "5: 0.00000\n",
            "6: 0.00004\n",
            "7: 0.00000\n",
            "8: 0.00206\n",
            "9: 0.00000\n",
            "\n",
            "My Predicted label: 0 (AnnualCrop)\n",
            "1/1 [==============================] - 0s 70ms/step\n",
            "\n",
            "Model Predicted Class Probabilities:\n",
            "\n",
            "0: 0.99757\n",
            "1: 0.00000\n",
            "2: 0.00000\n",
            "3: 0.00033\n",
            "4: 0.00000\n",
            "5: 0.00000\n",
            "6: 0.00004\n",
            "7: 0.00000\n",
            "8: 0.00206\n",
            "9: 0.00000\n"
          ]
        }
      ],
      "source": [
        "# get one batch from train_ds and select first item\n",
        "for item in train_ds.take(1):\n",
        "    demo_image = item[0][:1, ...]\n",
        "    demo_label = item[1][0]\n",
        "\n",
        "# compute hidden activations, model output and predicted_label\n",
        "flattened_input = model.layers[0](demo_image)\n",
        "hidden_activations = model.layers[1](flattened_input)\n",
        "output = model.layers[2](hidden_activations)\n",
        "predicted_label = np.argmax(output.numpy())\n",
        "\n",
        "# plot demo_image, print demo_label\n",
        "plt.imshow(demo_image[0, ...], cmap='gray')\n",
        "plt.xticks([])\n",
        "plt.yticks([])\n",
        "plt.xlabel('Input demo_image')\n",
        "plt.show()\n",
        "print(f'True label: {demo_label} ({info_ds.features[\"label\"].names[demo_label]})\\n')\n",
        "\n",
        "# print my predicted class probabilities and demo_label\n",
        "print('My Predicted Class Probabilities:\\n')\n",
        "for i in range(output.shape[1]):\n",
        "    print(f'{i}: {output[0][i]:.5f}')\n",
        "print(f'\\nMy Predicted label: {predicted_label} ({info_ds.features[\"label\"].names[predicted_label]})')\n",
        "\n",
        "# print model predicted class probabilities\n",
        "model_output = model.predict(demo_image)\n",
        "print('\\nModel Predicted Class Probabilities:\\n')\n",
        "for i in range(model_output.shape[1]):\n",
        "    print(f'{i}: {model_output[0][i]:.5f}')"
      ]
    },
    {
      "cell_type": "markdown",
      "metadata": {
        "id": "xanxTMkbeMT3"
      },
      "source": [
        "**Checkpoint:** The values ```My Predicted Class Probabilities``` should be equal to ```Model Predicted Class Probabilities```. Moreover, the value ```My Predicted Label``` should correspond to the index of the largest entry of ```My Predicted Class Probabilities```."
      ]
    },
    {
      "cell_type": "markdown",
      "metadata": {
        "id": "dAHYZ1ZgeMT3"
      },
      "source": [
        "### Interpretation of model predictions\n",
        "\n",
        "Now that we have visualized the connection between model parameters and activations, we will implement another method to explain the relation between model input and prediction: *Layer-Wise Relevance Propagation* (LRP) computes one so-called relevance score per input pixel, which can be considered the contribution of that pixel to the model prediction. To that end, relevance scores for all neurons in the network are successively generated via backpropagation from the output layer to the input layer.\n",
        "\n",
        "Relevance scores for the ouput layer are initially defined using the model output (i.e., the predicted probability) corresponding to ```predicted_label``` ($k$ represents the respective index here):\n",
        "\n",
        "$\\mathbf r^{[L]} := \\begin{pmatrix}0\\\\\\vdots\\\\\\mathbf a^{[L]}_k\\\\\\vdots\\\\0\\end{pmatrix}\\in \\mathbb R^{n_L}$\n",
        "\n",
        "Afterwards, relevance scores $\\mathbf r^{[L-1]}, \\mathbf r^{[L-2]}, \\dots, \\mathbf r^{[1]}, \\mathbf r^{[0]}$ (in exactly this order) are computed for all other layers as follows:\n",
        "\n",
        "$\\displaystyle \\mathbf r^{[\\ell-1]} := \\alpha \\ \\frac{\\mathbf a^{[\\ell -1]}\\odot \\mathbf W^{[\\ell]\\top+}}{\\mathbf a^{[\\ell -1]\\top} \\mathbf W^{[\\ell]\\top+}} \\ \\mathbf r^{[\\ell]} \\ - \\ \\beta \\ \\frac{\\mathbf a^{[\\ell -1]}\\odot \\mathbf W^{[\\ell]\\top-}}{\\mathbf a^{[\\ell -1]\\top} \\mathbf W^{[\\ell]\\top-}} \\ \\mathbf r^{[\\ell]}$\n",
        "\n",
        "Therein\n",
        "\n",
        "$\\mathbf W^{[\\ell]\\top+} := \\max(\\mathbf W^{[\\ell]\\top}, \\mathbf 0)$\n",
        "\n",
        "denotes the positive part and\n",
        "\n",
        "$\\mathbf W^{[\\ell]\\top-} := -\\min(\\mathbf W^{[\\ell]\\top}, \\mathbf 0)$\n",
        "\n",
        "denotes the negative part of $\\mathbf W^{[\\ell]\\top} \\in \\mathbb R^{n_{\\ell-1}\\times n_{\\ell}}$, where minimum and maximum are computed componentwise. Moreover,\n",
        "\n",
        "$\\mathbf a^{[\\ell -1]}\\odot \\mathbf W^{[\\ell]\\top+}\\in \\mathbb R^{n_{\\ell-1}\\times n_{\\ell}}$\n",
        "\n",
        "results from componentwise multiplication of $\\mathbf a^{[\\ell -1]}\\in \\mathbb R^{n_{\\ell-1}}$ with each column of $\\mathbf W^{[\\ell]\\top+}$ (same for the negative part). Analogously, the fraction line stands for componentwise division of the rows of $\\mathbf a^{[\\ell -1]}\\odot \\mathbf W^{[\\ell]\\top+}$ by $\\mathbf a^{[\\ell -1]\\top} \\mathbf W^{[\\ell]\\top+}\\in \\mathbb R^{1\\times n_{\\ell}}$ (same for the other fraction). Consequently, each fraction represents a $n_{\\ell-1}\\times n_{\\ell}$ matrix which is then multiplied with $\\mathbf r^{[\\ell]}\\in \\mathbb R^{n_{\\ell}\\times 1}$.\n",
        "\n",
        "The scalar values $\\alpha, \\beta \\geq 0$ are chosen such that $\\alpha - \\beta = 1$. Therewith, it can be shown that\n",
        "\n",
        "$\\sum_j \\mathbf r^{[L]}_j = \\sum_j \\mathbf r^{[L-1]}_j = \\sum_j \\mathbf r^{[L-2]}_j = \\dots = \\sum_j \\mathbf r^{[1]}_j = \\sum_j \\mathbf r^{[0]}_j$\n",
        "\n",
        "holds. Therefore, LRP has a so-called *relevance conservation property*.\n",
        "\n",
        "The above formulas are kept as brief as possible. However, they have a concrete interpretation: Each neuron in a layer contributes positively or negatively to all neuron activations in successive layers. The relevance score of a neuron can be considered a proportionate sum of these contributions, and that is exactly reflected in the above formulas.\n",
        "\n",
        "If you have questions regarding LRP or want to know more about it, join Question Time or have a look at https://www.sciencedirect.com/science/article/pii/S1051200417302385?via%3Dihub.\n",
        "\n",
        "Here is your exercise:\n",
        "\n",
        "22. Complete the following function at the positions indicated by ```None``` such that it fits exactly with the above LRP formula. Again, be aware that ```model.layers[l].weights[0]``` corresponds to $\\mathbf W^{[\\ell]\\top}$. If you are unsure about shapes or dimensions of tensors, you can use ```tf.Tensor.shape``` to generate intermediate outputs. Also note that the function ```LRP``` should work for arbitrarily deep and wide fully connected $\\mathrm{ReLU}$ networks with $\\mathrm{softmax}$ output activation."
      ]
    },
    {
      "cell_type": "code",
      "execution_count": null,
      "metadata": {
        "id": "XWDNxH5TeMT3"
      },
      "outputs": [],
      "source": [
        "from operator import matmul\n",
        "def lrp(alpha, beta, model, x):\n",
        "\n",
        "    # get number of layers (including input layer)\n",
        "    num_layers = len(model.layers)\n",
        "\n",
        "    # get activations\n",
        "    activations = [model.layers[0](x)]\n",
        "    for l in range(1, num_layers):\n",
        "        activations.append(model.layers[l](activations[-1]))\n",
        "\n",
        "    # compute scores\n",
        "    scores = [tf.transpose(activations[-1])]\n",
        "    c = tf.squeeze(tf.math.argmax(scores[0]))\n",
        "    for l in range(num_layers-2, -1, -1):\n",
        "        w = model.layers[l+1].weights[0]\n",
        "        if l == num_layers-2:\n",
        "            w_pos = tf.clip_by_value(w[:, c:c+1], 0, np.inf)\n",
        "            w_neg = -tf.clip_by_value(w[:, c:c+1], -np.inf, 0)\n",
        "            s = scores[0][c:c+1]\n",
        "            scores[0] = s\n",
        "        else:\n",
        "            w_pos = tf.clip_by_value(w, 0, np.inf)\n",
        "            w_neg = -tf.clip_by_value(w, -np.inf, 0)\n",
        "            s = scores[0]\n",
        "        a = activations[l]\n",
        "\n",
        "        # use the following mask_pos and mask_neg to prevent from division by zero when computing score_pos and score_neg\n",
        "        mask_pos = tf.cast(tf.matmul(a, w_pos) == 0, tf.float32) + 1e-6\n",
        "        mask_neg = tf.cast(tf.matmul(a, w_neg) == 0, tf.float32) + 1e-6\n",
        "        # score_pos = alpha*tf.matmul((mask_pos/(tf.transpose(a @ w_pos))),s)\n",
        "        # score_neg = beta*tf.matmul((mask_neg/(tf.transpose(a @ w_neg))),s)\n",
        "\n",
        "        #mask_pos = tf.transpose(a)* w_pos\n",
        "        #mask_neg = tf.transpose(a)* w_neg\n",
        "        score_pos = alpha * tf.matmul((tf.transpose(a)* w_pos/(mask_pos+(tf.matmul(a, w_pos)))) , s)\n",
        "        score_neg = beta * tf.matmul((tf.transpose(a)* w_neg/(mask_neg+(tf.matmul(a, w_neg)))) , s)\n",
        "        score_total = score_pos - score_neg\n",
        "        scores.insert(0, score_total)\n",
        "    return scores, activations"
      ]
    },
    {
      "cell_type": "markdown",
      "metadata": {
        "id": "VtYvKS3LeMT4"
      },
      "source": [
        "23. Apply LRP with $\\alpha=2$ and $\\beta=1$ to ```model``` and ```demo_image```."
      ]
    },
    {
      "cell_type": "code",
      "execution_count": null,
      "metadata": {
        "colab": {
          "base_uri": "https://localhost:8080/",
          "height": 700
        },
        "id": "HWWFhWxueMT4",
        "outputId": "8a238676-9359-419b-a173-50ec233ba606"
      },
      "outputs": [
        {
          "name": "stdout",
          "output_type": "stream",
          "text": [
            "Predicted Probability for Predicted Class (Relevance in Output Layer):\n",
            "\n",
            "0.99757\n",
            "\n",
            "\n",
            "Sum of all Relevances in Input Layer:\n",
            "\n",
            "0.99757\n",
            "\n",
            "\n",
            "True Class\n",
            "\n",
            "0 (AnnualCrop)\n",
            "\n",
            "1/1 [==============================] - 0s 16ms/step\n",
            "\n",
            "Predicted Class\n",
            "\n",
            "0 (AnnualCrop) with probability 0.9975715279579163\n",
            "\n"
          ]
        },
        {
          "data": {
            "image/png": "[encoded data removed]",
            "text/plain": [
              "<Figure size 864x486 with 2 Axes>"
            ]
          },
          "metadata": {},
          "output_type": "display_data"
        }
      ],
      "source": [
        "# you can uncomment the following three lines to try demo_image / demo_label other than the above-defined\n",
        "#for item in train_ds.take(1):\n",
        "#      demo_image = item[0][:1, ...]\n",
        "#      demo_label = item[1][0]\n",
        "\n",
        "scores, _ = lrp(alpha = 2,beta =  1,model = model, x = demo_image)\n",
        "scores_input = scores[0].numpy().reshape(64, 64, 3)\n",
        "\n",
        "print('Predicted Probability for Predicted Class (Relevance in Output Layer):\\n')\n",
        "print(f'{tf.squeeze(scores[-1]).numpy():.5f}\\n')\n",
        "\n",
        "print('\\nSum of all Relevances in Input Layer:\\n')\n",
        "print(f'{tf.squeeze(tf.reduce_sum(scores[0])).numpy():.5f}\\n')\n",
        "\n",
        "print('\\nTrue Class\\n')\n",
        "print(f'{demo_label} ({info_ds.features[\"label\"].names[demo_label]})\\n')\n",
        "\n",
        "prediction = model.predict(demo_image)\n",
        "predicted_label = np.argmax(prediction)\n",
        "print('\\nPredicted Class\\n')\n",
        "print(f'{predicted_label} ({info_ds.features[\"label\"].names[predicted_label]}) with probability {prediction[0][predicted_label]}\\n')\n",
        "\n",
        "plt.subplots(1, 2, figsize=(12, 6.75))\n",
        "plt.subplot(1, 2, 1)\n",
        "plt.imshow(demo_image[0, ...], norm=mcolors.TwoSlopeNorm(vcenter=0.5))\n",
        "plt.xticks([])\n",
        "plt.yticks([])\n",
        "plt.subplot(1, 2, 2)\n",
        "tmp = np.sum(scores_input, axis=2)\n",
        "min_score = tmp.min()\n",
        "max_score = tmp.max()\n",
        "tmp = (tmp - min_score) / (max_score - min_score)\n",
        "plt.imshow(tmp, cmap=plt.cm.seismic, norm=mcolors.TwoSlopeNorm(vcenter=-min_score / (max_score - min_score)), alpha=1.)\n",
        "plt.xticks([])\n",
        "plt.yticks([])\n",
        "plt.show()"
      ]
    },
    {
      "cell_type": "markdown",
      "metadata": {
        "id": "g9nfa-sWeMT4"
      },
      "source": [
        "**Checkpoint**: Both displayed numbers should be equal if your implementation of LRP is correct (otherwise, your implementation does not obey the relevance conservation property)."
      ]
    },
    {
      "cell_type": "markdown",
      "metadata": {
        "id": "iyyQNQCReMT4"
      },
      "source": [
        "### Hyperparameter Tuning\n",
        "\n",
        "Your first model had only one hidden layer and a very small number of neurons. In this section, you will train many more models to find a configuration of *hyperparameters* that yield a much better performance on the validation data. Although there exist dedicated approaches and software to explore the space of hyperparameters, we will start with simple nested ```for``` loops. This is for certain not the most efficient among the available approaches, which is why you should carry out the following computation on the GPU-cluster. You may extend the hyperparameter configurations specified below to extend the search space.\n",
        "\n",
        "24. Understand and complete the following code and discuss it with your teammate. Execute the code on the GPU-cluster."
      ]
    },
    {
      "cell_type": "code",
      "execution_count": null,
      "metadata": {
        "colab": {
          "base_uri": "https://localhost:8080/"
        },
        "id": "On5yR5iieMT5",
        "outputId": "a1814426-8994-4a50-fb2e-f44c2a2dace6"
      },
      "outputs": [
        {
          "name": "stdout",
          "output_type": "stream",
          "text": [
            "675/675 [==============================] - 2s 3ms/step - loss: 1.6898 - sparse_categorical_accuracy: 0.3855\n",
            "2700/2700 [==============================] - 6s 2ms/step - loss: 1.6922 - sparse_categorical_accuracy: 0.3856\n",
            "675/675 [==============================] - 2s 3ms/step - loss: 1.6174 - sparse_categorical_accuracy: 0.3991\n",
            "2700/2700 [==============================] - 6s 2ms/step - loss: 1.6137 - sparse_categorical_accuracy: 0.4181\n",
            "675/675 [==============================] - 2s 3ms/step - loss: 1.6977 - sparse_categorical_accuracy: 0.3559\n",
            "2700/2700 [==============================] - 6s 2ms/step - loss: 1.6959 - sparse_categorical_accuracy: 0.3478\n",
            "675/675 [==============================] - 2s 3ms/step - loss: 1.6093 - sparse_categorical_accuracy: 0.3765\n",
            "2700/2700 [==============================] - 6s 2ms/step - loss: 1.6060 - sparse_categorical_accuracy: 0.3819\n",
            "675/675 [==============================] - 2s 3ms/step - loss: 1.7976 - sparse_categorical_accuracy: 0.2510\n",
            "2700/2700 [==============================] - 6s 2ms/step - loss: 1.7877 - sparse_categorical_accuracy: 0.2607\n",
            "675/675 [==============================] - 2s 3ms/step - loss: 1.6957 - sparse_categorical_accuracy: 0.3640\n",
            "2700/2700 [==============================] - 6s 2ms/step - loss: 1.7073 - sparse_categorical_accuracy: 0.3500\n",
            "675/675 [==============================] - 2s 3ms/step - loss: 1.7554 - sparse_categorical_accuracy: 0.3633\n",
            "2700/2700 [==============================] - 6s 2ms/step - loss: 1.7504 - sparse_categorical_accuracy: 0.3730\n",
            "675/675 [==============================] - 2s 3ms/step - loss: 1.6049 - sparse_categorical_accuracy: 0.3794\n",
            "2700/2700 [==============================] - 6s 2ms/step - loss: 1.6142 - sparse_categorical_accuracy: 0.3707\n"
          ]
        }
      ],
      "source": [
        "results = pd.DataFrame(columns=['start_learning_rate', 'width', 'depth', 'l2_weight', 'train_loss', 'val_loss', 'train_acc', 'val_acc'])\n",
        "\n",
        "start_learning_rates = [1e-5, 1e-4, 1e-3]\n",
        "widths = [256, 512, 1024]\n",
        "depths = [1, 2,3]\n",
        "l2_weights = [0,1,2]\n",
        "\n",
        "for start_learning_rate in start_learning_rates:\n",
        "    for width in widths:\n",
        "        for depth in depths:\n",
        "            for l2_weight in l2_weights:\n",
        "                model = keras.models.Sequential()\n",
        "                model.add(tf.keras.layers.Flatten(input_shape=info_ds.features[\"image\"].shape)) # (input layer)\n",
        "                for _ in range(depth):\n",
        "                    model.add(keras.layers.Dense(units=width, activation=\"relu\", kernel_regularizer=keras.regularizers.l2(l2_weight)))\n",
        "                model.add(tf.keras.layers.Dense(10, activation = 'softmax')) # (output layer)\n",
        "                scheduler = tf.keras.optimizers.schedules.PolynomialDecay(start_learning_rate, epochs * sum(train_occurences) // batch_size, 1e-8, power=1.0)\n",
        "                model.compile(loss=keras.losses.sparse_categorical_crossentropy, optimizer=keras.optimizers.Adam(learning_rate=scheduler), metrics=[keras.metrics.sparse_categorical_accuracy])\n",
        "                model.fit(train_ds, epochs = 1, steps_per_epoch = np.sum(train_occurences) // batch_size,validation_data = val_ds,verbose = 0)# (call fit function with verbose=0)\n",
        "                train_loss, train_acc = model.evaluate(train_ds, steps=np.sum(train_occurences) // batch_size)\n",
        "                val_loss, val_acc = model.evaluate(val_ds)\n",
        "                results_tmp = np.array([start_learning_rate, width, depth, l2_weight, train_loss, val_loss, train_acc, val_acc]).reshape(1, -1)\n",
        "                results = results.append(pd.DataFrame(data=results_tmp, columns=results.columns), ignore_index=True)\n",
        "results.to_csv('results.csv')"
      ]
    },
    {
      "cell_type": "markdown",
      "metadata": {
        "id": "leiGsOjleMT5"
      },
      "source": [
        "25. Load the file ```results.csv``` using Pandas and find out which hyperparameter configuration worked best. Train a model ```my_best_model``` using these hyperparameters and evaluate it on ```test_ds```. Apply LRP to at least ten images from ```test_ds``` and visualize the results."
      ]
    },
    {
      "cell_type": "code",
      "execution_count": null,
      "metadata": {
        "colab": {
          "base_uri": "https://localhost:8080/",
          "height": 300
        },
        "id": "jbjBCeljeMT5",
        "outputId": "637f00a7-a3df-4bf3-a346-1dbfc97d722b"
      },
      "outputs": [
        {
          "data": {
            "text/html": [
              "\n",
              "  <div id=\"df-f15a66f9-8a9b-4f28-a283-4cf8e00fc5c5\">\n",
              "    <div class=\"colab-df-container\">\n",
              "      <div>\n",
              "<style scoped>\n",
              "    .dataframe tbody tr th:only-of-type {\n",
              "        vertical-align: middle;\n",
              "    }\n",
              "\n",
              "    .dataframe tbody tr th {\n",
              "        vertical-align: top;\n",
              "    }\n",
              "\n",
              "    .dataframe thead th {\n",
              "        text-align: right;\n",
              "    }\n",
              "</style>\n",
              "<table border=\"1\" class=\"dataframe\">\n",
              "  <thead>\n",
              "    <tr style=\"text-align: right;\">\n",
              "      <th></th>\n",
              "      <th>Unnamed: 0</th>\n",
              "      <th>start_learning_rate</th>\n",
              "      <th>width</th>\n",
              "      <th>depth</th>\n",
              "      <th>l2_weight</th>\n",
              "      <th>train_loss</th>\n",
              "      <th>val_loss</th>\n",
              "      <th>train_acc</th>\n",
              "      <th>val_acc</th>\n",
              "    </tr>\n",
              "  </thead>\n",
              "  <tbody>\n",
              "    <tr>\n",
              "      <th>0</th>\n",
              "      <td>0</td>\n",
              "      <td>0.0001</td>\n",
              "      <td>256.0</td>\n",
              "      <td>1.0</td>\n",
              "      <td>0.0</td>\n",
              "      <td>1.689776</td>\n",
              "      <td>1.692239</td>\n",
              "      <td>0.385463</td>\n",
              "      <td>0.385556</td>\n",
              "    </tr>\n",
              "    <tr>\n",
              "      <th>1</th>\n",
              "      <td>1</td>\n",
              "      <td>0.0001</td>\n",
              "      <td>256.0</td>\n",
              "      <td>2.0</td>\n",
              "      <td>0.0</td>\n",
              "      <td>1.617369</td>\n",
              "      <td>1.613734</td>\n",
              "      <td>0.399074</td>\n",
              "      <td>0.418148</td>\n",
              "    </tr>\n",
              "    <tr>\n",
              "      <th>2</th>\n",
              "      <td>2</td>\n",
              "      <td>0.0001</td>\n",
              "      <td>512.0</td>\n",
              "      <td>1.0</td>\n",
              "      <td>0.0</td>\n",
              "      <td>1.697703</td>\n",
              "      <td>1.695911</td>\n",
              "      <td>0.355926</td>\n",
              "      <td>0.347778</td>\n",
              "    </tr>\n",
              "    <tr>\n",
              "      <th>3</th>\n",
              "      <td>3</td>\n",
              "      <td>0.0001</td>\n",
              "      <td>512.0</td>\n",
              "      <td>2.0</td>\n",
              "      <td>0.0</td>\n",
              "      <td>1.609303</td>\n",
              "      <td>1.606014</td>\n",
              "      <td>0.376481</td>\n",
              "      <td>0.381852</td>\n",
              "    </tr>\n",
              "    <tr>\n",
              "      <th>4</th>\n",
              "      <td>4</td>\n",
              "      <td>0.0010</td>\n",
              "      <td>256.0</td>\n",
              "      <td>1.0</td>\n",
              "      <td>0.0</td>\n",
              "      <td>1.797562</td>\n",
              "      <td>1.787736</td>\n",
              "      <td>0.251019</td>\n",
              "      <td>0.260741</td>\n",
              "    </tr>\n",
              "    <tr>\n",
              "      <th>5</th>\n",
              "      <td>5</td>\n",
              "      <td>0.0010</td>\n",
              "      <td>256.0</td>\n",
              "      <td>2.0</td>\n",
              "      <td>0.0</td>\n",
              "      <td>1.695730</td>\n",
              "      <td>1.707345</td>\n",
              "      <td>0.363981</td>\n",
              "      <td>0.350000</td>\n",
              "    </tr>\n",
              "    <tr>\n",
              "      <th>6</th>\n",
              "      <td>6</td>\n",
              "      <td>0.0010</td>\n",
              "      <td>512.0</td>\n",
              "      <td>1.0</td>\n",
              "      <td>0.0</td>\n",
              "      <td>1.755363</td>\n",
              "      <td>1.750362</td>\n",
              "      <td>0.363287</td>\n",
              "      <td>0.372963</td>\n",
              "    </tr>\n",
              "    <tr>\n",
              "      <th>7</th>\n",
              "      <td>7</td>\n",
              "      <td>0.0010</td>\n",
              "      <td>512.0</td>\n",
              "      <td>2.0</td>\n",
              "      <td>0.0</td>\n",
              "      <td>1.604918</td>\n",
              "      <td>1.614157</td>\n",
              "      <td>0.379444</td>\n",
              "      <td>0.370741</td>\n",
              "    </tr>\n",
              "  </tbody>\n",
              "</table>\n",
              "</div>\n",
              "      <button class=\"colab-df-convert\" onclick=\"convertToInteractive('df-f15a66f9-8a9b-4f28-a283-4cf8e00fc5c5')\"\n",
              "              title=\"Convert this dataframe to an interactive table.\"\n",
              "              style=\"display:none;\">\n",
              "        \n",
              "  <svg xmlns=\"http://www.w3.org/2000/svg\" height=\"24px\"viewBox=\"0 0 24 24\"\n",
              "       width=\"24px\">\n",
              "    <path d=\"M0 0h24v24H0V0z\" fill=\"none\"/>\n",
              "    <path d=\"M18.56 5.44l.94 2.06.94-2.06 2.06-.94-2.06-.94-.94-2.06-.94 2.06-2.06.94zm-11 1L8.5 8.5l.94-2.06 2.06-.94-2.06-.94L8.5 2.5l-.94 2.06-2.06.94zm10 10l.94 2.06.94-2.06 2.06-.94-2.06-.94-.94-2.06-.94 2.06-2.06.94z\"/><path d=\"M17.41 7.96l-1.37-1.37c-.4-.4-.92-.59-1.43-.59-.52 0-1.04.2-1.43.59L10.3 9.45l-7.72 7.72c-.78.78-.78 2.05 0 2.83L4 21.41c.39.39.9.59 1.41.59.51 0 1.02-.2 1.41-.59l7.78-7.78 2.81-2.81c.8-.78.8-2.07 0-2.86zM5.41 20L4 18.59l7.72-7.72 1.47 1.35L5.41 20z\"/>\n",
              "  </svg>\n",
              "      </button>\n",
              "      \n",
              "  <style>\n",
              "    .colab-df-container {\n",
              "      display:flex;\n",
              "      flex-wrap:wrap;\n",
              "      gap: 12px;\n",
              "    }\n",
              "\n",
              "    .colab-df-convert {\n",
              "      background-color: #E8F0FE;\n",
              "      border: none;\n",
              "      border-radius: 50%;\n",
              "      cursor: pointer;\n",
              "      display: none;\n",
              "      fill: #1967D2;\n",
              "      height: 32px;\n",
              "      padding: 0 0 0 0;\n",
              "      width: 32px;\n",
              "    }\n",
              "\n",
              "    .colab-df-convert:hover {\n",
              "      background-color: #E2EBFA;\n",
              "      box-shadow: 0px 1px 2px rgba(60, 64, 67, 0.3), 0px 1px 3px 1px rgba(60, 64, 67, 0.15);\n",
              "      fill: #174EA6;\n",
              "    }\n",
              "\n",
              "    [theme=dark] .colab-df-convert {\n",
              "      background-color: #3B4455;\n",
              "      fill: #D2E3FC;\n",
              "    }\n",
              "\n",
              "    [theme=dark] .colab-df-convert:hover {\n",
              "      background-color: #434B5C;\n",
              "      box-shadow: 0px 1px 3px 1px rgba(0, 0, 0, 0.15);\n",
              "      filter: drop-shadow(0px 1px 2px rgba(0, 0, 0, 0.3));\n",
              "      fill: #FFFFFF;\n",
              "    }\n",
              "  </style>\n",
              "\n",
              "      <script>\n",
              "        const buttonEl =\n",
              "          document.querySelector('#df-f15a66f9-8a9b-4f28-a283-4cf8e00fc5c5 button.colab-df-convert');\n",
              "        buttonEl.style.display =\n",
              "          google.colab.kernel.accessAllowed ? 'block' : 'none';\n",
              "\n",
              "        async function convertToInteractive(key) {\n",
              "          const element = document.querySelector('#df-f15a66f9-8a9b-4f28-a283-4cf8e00fc5c5');\n",
              "          const dataTable =\n",
              "            await google.colab.kernel.invokeFunction('convertToInteractive',\n",
              "                                                     [key], {});\n",
              "          if (!dataTable) return;\n",
              "\n",
              "          const docLinkHtml = 'Like what you see? Visit the ' +\n",
              "            '<a target=\"_blank\" href=https://colab.research.google.com/notebooks/data_table.ipynb>data table notebook</a>'\n",
              "            + ' to learn more about interactive tables.';\n",
              "          element.innerHTML = '';\n",
              "          dataTable['output_type'] = 'display_data';\n",
              "          await google.colab.output.renderOutput(dataTable, element);\n",
              "          const docLink = document.createElement('div');\n",
              "          docLink.innerHTML = docLinkHtml;\n",
              "          element.appendChild(docLink);\n",
              "        }\n",
              "      </script>\n",
              "    </div>\n",
              "  </div>\n",
              "  "
            ],
            "text/plain": [
              "   Unnamed: 0  start_learning_rate  width  depth  l2_weight  train_loss  \\\n",
              "0           0               0.0001  256.0    1.0        0.0    1.689776   \n",
              "1           1               0.0001  256.0    2.0        0.0    1.617369   \n",
              "2           2               0.0001  512.0    1.0        0.0    1.697703   \n",
              "3           3               0.0001  512.0    2.0        0.0    1.609303   \n",
              "4           4               0.0010  256.0    1.0        0.0    1.797562   \n",
              "5           5               0.0010  256.0    2.0        0.0    1.695730   \n",
              "6           6               0.0010  512.0    1.0        0.0    1.755363   \n",
              "7           7               0.0010  512.0    2.0        0.0    1.604918   \n",
              "\n",
              "   val_loss  train_acc   val_acc  \n",
              "0  1.692239   0.385463  0.385556  \n",
              "1  1.613734   0.399074  0.418148  \n",
              "2  1.695911   0.355926  0.347778  \n",
              "3  1.606014   0.376481  0.381852  \n",
              "4  1.787736   0.251019  0.260741  \n",
              "5  1.707345   0.363981  0.350000  \n",
              "6  1.750362   0.363287  0.372963  \n",
              "7  1.614157   0.379444  0.370741  "
            ]
          },
          "execution_count": 26,
          "metadata": {},
          "output_type": "execute_result"
        }
      ],
      "source": [
        "df = pd.read_csv('results.csv')\n",
        "df"
      ]
    },
    {
      "cell_type": "code",
      "execution_count": null,
      "metadata": {
        "colab": {
          "base_uri": "https://localhost:8080/",
          "height": 81
        },
        "id": "UszDJ8Yzs7yE",
        "outputId": "ea41f815-203c-4a5c-b511-039936e414d0"
      },
      "outputs": [
        {
          "data": {
            "text/html": [
              "\n",
              "  <div id=\"df-b1e14cd9-3aca-43df-a323-210618819975\">\n",
              "    <div class=\"colab-df-container\">\n",
              "      <div>\n",
              "<style scoped>\n",
              "    .dataframe tbody tr th:only-of-type {\n",
              "        vertical-align: middle;\n",
              "    }\n",
              "\n",
              "    .dataframe tbody tr th {\n",
              "        vertical-align: top;\n",
              "    }\n",
              "\n",
              "    .dataframe thead th {\n",
              "        text-align: right;\n",
              "    }\n",
              "</style>\n",
              "<table border=\"1\" class=\"dataframe\">\n",
              "  <thead>\n",
              "    <tr style=\"text-align: right;\">\n",
              "      <th></th>\n",
              "      <th>Unnamed: 0</th>\n",
              "      <th>start_learning_rate</th>\n",
              "      <th>width</th>\n",
              "      <th>depth</th>\n",
              "      <th>l2_weight</th>\n",
              "      <th>train_loss</th>\n",
              "      <th>val_loss</th>\n",
              "      <th>train_acc</th>\n",
              "      <th>val_acc</th>\n",
              "    </tr>\n",
              "  </thead>\n",
              "  <tbody>\n",
              "    <tr>\n",
              "      <th>1</th>\n",
              "      <td>1</td>\n",
              "      <td>0.0001</td>\n",
              "      <td>256.0</td>\n",
              "      <td>2.0</td>\n",
              "      <td>0.0</td>\n",
              "      <td>1.617369</td>\n",
              "      <td>1.613734</td>\n",
              "      <td>0.399074</td>\n",
              "      <td>0.418148</td>\n",
              "    </tr>\n",
              "  </tbody>\n",
              "</table>\n",
              "</div>\n",
              "      <button class=\"colab-df-convert\" onclick=\"convertToInteractive('df-b1e14cd9-3aca-43df-a323-210618819975')\"\n",
              "              title=\"Convert this dataframe to an interactive table.\"\n",
              "              style=\"display:none;\">\n",
              "        \n",
              "  <svg xmlns=\"http://www.w3.org/2000/svg\" height=\"24px\"viewBox=\"0 0 24 24\"\n",
              "       width=\"24px\">\n",
              "    <path d=\"M0 0h24v24H0V0z\" fill=\"none\"/>\n",
              "    <path d=\"M18.56 5.44l.94 2.06.94-2.06 2.06-.94-2.06-.94-.94-2.06-.94 2.06-2.06.94zm-11 1L8.5 8.5l.94-2.06 2.06-.94-2.06-.94L8.5 2.5l-.94 2.06-2.06.94zm10 10l.94 2.06.94-2.06 2.06-.94-2.06-.94-.94-2.06-.94 2.06-2.06.94z\"/><path d=\"M17.41 7.96l-1.37-1.37c-.4-.4-.92-.59-1.43-.59-.52 0-1.04.2-1.43.59L10.3 9.45l-7.72 7.72c-.78.78-.78 2.05 0 2.83L4 21.41c.39.39.9.59 1.41.59.51 0 1.02-.2 1.41-.59l7.78-7.78 2.81-2.81c.8-.78.8-2.07 0-2.86zM5.41 20L4 18.59l7.72-7.72 1.47 1.35L5.41 20z\"/>\n",
              "  </svg>\n",
              "      </button>\n",
              "      \n",
              "  <style>\n",
              "    .colab-df-container {\n",
              "      display:flex;\n",
              "      flex-wrap:wrap;\n",
              "      gap: 12px;\n",
              "    }\n",
              "\n",
              "    .colab-df-convert {\n",
              "      background-color: #E8F0FE;\n",
              "      border: none;\n",
              "      border-radius: 50%;\n",
              "      cursor: pointer;\n",
              "      display: none;\n",
              "      fill: #1967D2;\n",
              "      height: 32px;\n",
              "      padding: 0 0 0 0;\n",
              "      width: 32px;\n",
              "    }\n",
              "\n",
              "    .colab-df-convert:hover {\n",
              "      background-color: #E2EBFA;\n",
              "      box-shadow: 0px 1px 2px rgba(60, 64, 67, 0.3), 0px 1px 3px 1px rgba(60, 64, 67, 0.15);\n",
              "      fill: #174EA6;\n",
              "    }\n",
              "\n",
              "    [theme=dark] .colab-df-convert {\n",
              "      background-color: #3B4455;\n",
              "      fill: #D2E3FC;\n",
              "    }\n",
              "\n",
              "    [theme=dark] .colab-df-convert:hover {\n",
              "      background-color: #434B5C;\n",
              "      box-shadow: 0px 1px 3px 1px rgba(0, 0, 0, 0.15);\n",
              "      filter: drop-shadow(0px 1px 2px rgba(0, 0, 0, 0.3));\n",
              "      fill: #FFFFFF;\n",
              "    }\n",
              "  </style>\n",
              "\n",
              "      <script>\n",
              "        const buttonEl =\n",
              "          document.querySelector('#df-b1e14cd9-3aca-43df-a323-210618819975 button.colab-df-convert');\n",
              "        buttonEl.style.display =\n",
              "          google.colab.kernel.accessAllowed ? 'block' : 'none';\n",
              "\n",
              "        async function convertToInteractive(key) {\n",
              "          const element = document.querySelector('#df-b1e14cd9-3aca-43df-a323-210618819975');\n",
              "          const dataTable =\n",
              "            await google.colab.kernel.invokeFunction('convertToInteractive',\n",
              "                                                     [key], {});\n",
              "          if (!dataTable) return;\n",
              "\n",
              "          const docLinkHtml = 'Like what you see? Visit the ' +\n",
              "            '<a target=\"_blank\" href=https://colab.research.google.com/notebooks/data_table.ipynb>data table notebook</a>'\n",
              "            + ' to learn more about interactive tables.';\n",
              "          element.innerHTML = '';\n",
              "          dataTable['output_type'] = 'display_data';\n",
              "          await google.colab.output.renderOutput(dataTable, element);\n",
              "          const docLink = document.createElement('div');\n",
              "          docLink.innerHTML = docLinkHtml;\n",
              "          element.appendChild(docLink);\n",
              "        }\n",
              "      </script>\n",
              "    </div>\n",
              "  </div>\n",
              "  "
            ],
            "text/plain": [
              "   Unnamed: 0  start_learning_rate  width  depth  l2_weight  train_loss  \\\n",
              "1           1               0.0001  256.0    2.0        0.0    1.617369   \n",
              "\n",
              "   val_loss  train_acc   val_acc  \n",
              "1  1.613734   0.399074  0.418148  "
            ]
          },
          "execution_count": 27,
          "metadata": {},
          "output_type": "execute_result"
        }
      ],
      "source": [
        "df[df.val_acc == df.val_acc.max()]"
      ]
    },
    {
      "cell_type": "code",
      "execution_count": null,
      "metadata": {
        "id": "7JDUBNFDtOxL"
      },
      "outputs": [],
      "source": [
        "optimizer = keras.optimizers.Adam\n",
        "learning_rate = 0.0001\n",
        "width = 256\n",
        "depth = 2\n",
        "l2_weight = 0"
      ]
    },
    {
      "cell_type": "code",
      "execution_count": null,
      "metadata": {
        "colab": {
          "base_uri": "https://localhost:8080/"
        },
        "id": "D8oYY84ntpku",
        "outputId": "887aadfa-f6da-4a4d-c027-0013105a5ed4"
      },
      "outputs": [
        {
          "name": "stdout",
          "output_type": "stream",
          "text": [
            "Epoch 1/100\n",
            "675/675 [==============================] - 8s 11ms/step - loss: 1.7869 - sparse_categorical_accuracy: 0.3327 - val_loss: 1.6058 - val_sparse_categorical_accuracy: 0.3915\n",
            "Epoch 2/100\n",
            "675/675 [==============================] - 7s 10ms/step - loss: 1.6000 - sparse_categorical_accuracy: 0.4109 - val_loss: 1.5421 - val_sparse_categorical_accuracy: 0.4281\n",
            "Epoch 3/100\n",
            "675/675 [==============================] - 7s 10ms/step - loss: 1.5267 - sparse_categorical_accuracy: 0.4372 - val_loss: 1.5680 - val_sparse_categorical_accuracy: 0.3978\n",
            "Epoch 4/100\n",
            "675/675 [==============================] - 7s 10ms/step - loss: 1.4790 - sparse_categorical_accuracy: 0.4582 - val_loss: 1.4588 - val_sparse_categorical_accuracy: 0.4667\n",
            "Epoch 5/100\n",
            "675/675 [==============================] - 7s 10ms/step - loss: 1.4491 - sparse_categorical_accuracy: 0.4656 - val_loss: 1.4641 - val_sparse_categorical_accuracy: 0.4726\n",
            "Epoch 6/100\n",
            "675/675 [==============================] - 8s 11ms/step - loss: 1.4141 - sparse_categorical_accuracy: 0.4895 - val_loss: 1.4115 - val_sparse_categorical_accuracy: 0.4863\n",
            "Epoch 7/100\n",
            "675/675 [==============================] - 7s 11ms/step - loss: 1.3796 - sparse_categorical_accuracy: 0.4994 - val_loss: 1.3910 - val_sparse_categorical_accuracy: 0.4981\n",
            "Epoch 8/100\n",
            "675/675 [==============================] - 7s 10ms/step - loss: 1.3508 - sparse_categorical_accuracy: 0.5136 - val_loss: 1.3810 - val_sparse_categorical_accuracy: 0.4919\n",
            "Epoch 9/100\n",
            "675/675 [==============================] - 8s 11ms/step - loss: 1.3239 - sparse_categorical_accuracy: 0.5246 - val_loss: 1.3646 - val_sparse_categorical_accuracy: 0.5204\n",
            "Epoch 10/100\n",
            "675/675 [==============================] - 7s 10ms/step - loss: 1.2938 - sparse_categorical_accuracy: 0.5374 - val_loss: 1.3047 - val_sparse_categorical_accuracy: 0.5311\n",
            "Epoch 11/100\n",
            "675/675 [==============================] - 7s 10ms/step - loss: 1.2672 - sparse_categorical_accuracy: 0.5483 - val_loss: 1.3233 - val_sparse_categorical_accuracy: 0.5133\n",
            "Epoch 12/100\n",
            "675/675 [==============================] - 8s 12ms/step - loss: 1.2558 - sparse_categorical_accuracy: 0.5510 - val_loss: 1.3279 - val_sparse_categorical_accuracy: 0.5267\n",
            "Epoch 13/100\n",
            "675/675 [==============================] - 8s 11ms/step - loss: 1.2315 - sparse_categorical_accuracy: 0.5599 - val_loss: 1.2870 - val_sparse_categorical_accuracy: 0.5433\n",
            "Epoch 14/100\n",
            "675/675 [==============================] - 7s 10ms/step - loss: 1.2106 - sparse_categorical_accuracy: 0.5663 - val_loss: 1.3032 - val_sparse_categorical_accuracy: 0.5315\n",
            "Epoch 15/100\n",
            "675/675 [==============================] - 7s 10ms/step - loss: 1.1986 - sparse_categorical_accuracy: 0.5701 - val_loss: 1.2569 - val_sparse_categorical_accuracy: 0.5433\n",
            "Epoch 16/100\n",
            "675/675 [==============================] - 7s 10ms/step - loss: 1.1945 - sparse_categorical_accuracy: 0.5760 - val_loss: 1.2194 - val_sparse_categorical_accuracy: 0.5567\n",
            "Epoch 17/100\n",
            "675/675 [==============================] - 7s 10ms/step - loss: 1.1690 - sparse_categorical_accuracy: 0.5836 - val_loss: 1.2122 - val_sparse_categorical_accuracy: 0.5596\n",
            "Epoch 18/100\n",
            "675/675 [==============================] - 8s 11ms/step - loss: 1.1514 - sparse_categorical_accuracy: 0.5856 - val_loss: 1.2192 - val_sparse_categorical_accuracy: 0.5711\n",
            "Epoch 19/100\n",
            "675/675 [==============================] - 7s 10ms/step - loss: 1.1492 - sparse_categorical_accuracy: 0.5894 - val_loss: 1.2123 - val_sparse_categorical_accuracy: 0.5711\n",
            "Epoch 20/100\n",
            "675/675 [==============================] - 7s 10ms/step - loss: 1.1324 - sparse_categorical_accuracy: 0.5973 - val_loss: 1.2358 - val_sparse_categorical_accuracy: 0.5648\n",
            "Epoch 21/100\n",
            "675/675 [==============================] - 7s 10ms/step - loss: 1.1234 - sparse_categorical_accuracy: 0.5990 - val_loss: 1.2350 - val_sparse_categorical_accuracy: 0.5556\n",
            "Epoch 22/100\n",
            "675/675 [==============================] - 7s 10ms/step - loss: 1.1066 - sparse_categorical_accuracy: 0.6066 - val_loss: 1.2080 - val_sparse_categorical_accuracy: 0.5689\n",
            "Epoch 23/100\n",
            "675/675 [==============================] - 7s 11ms/step - loss: 1.0974 - sparse_categorical_accuracy: 0.6101 - val_loss: 1.2431 - val_sparse_categorical_accuracy: 0.5533\n",
            "Epoch 24/100\n",
            "675/675 [==============================] - 8s 11ms/step - loss: 1.0828 - sparse_categorical_accuracy: 0.6115 - val_loss: 1.2655 - val_sparse_categorical_accuracy: 0.5485\n",
            "Epoch 25/100\n",
            "675/675 [==============================] - 7s 10ms/step - loss: 1.0745 - sparse_categorical_accuracy: 0.6153 - val_loss: 1.2127 - val_sparse_categorical_accuracy: 0.5685\n",
            "Epoch 26/100\n",
            "675/675 [==============================] - 7s 11ms/step - loss: 1.0655 - sparse_categorical_accuracy: 0.6211 - val_loss: 1.1756 - val_sparse_categorical_accuracy: 0.5837\n",
            "Epoch 27/100\n",
            "675/675 [==============================] - 7s 11ms/step - loss: 1.0550 - sparse_categorical_accuracy: 0.6225 - val_loss: 1.1529 - val_sparse_categorical_accuracy: 0.5896\n",
            "Epoch 28/100\n",
            "675/675 [==============================] - 7s 11ms/step - loss: 1.0525 - sparse_categorical_accuracy: 0.6236 - val_loss: 1.1919 - val_sparse_categorical_accuracy: 0.5656\n",
            "Epoch 29/100\n",
            "675/675 [==============================] - 7s 10ms/step - loss: 1.0349 - sparse_categorical_accuracy: 0.6292 - val_loss: 1.1454 - val_sparse_categorical_accuracy: 0.5956\n",
            "Epoch 30/100\n",
            "675/675 [==============================] - 8s 12ms/step - loss: 1.0208 - sparse_categorical_accuracy: 0.6373 - val_loss: 1.1618 - val_sparse_categorical_accuracy: 0.5900\n",
            "Epoch 31/100\n",
            "675/675 [==============================] - 7s 10ms/step - loss: 1.0227 - sparse_categorical_accuracy: 0.6339 - val_loss: 1.1515 - val_sparse_categorical_accuracy: 0.5933\n",
            "Epoch 32/100\n",
            "675/675 [==============================] - 7s 10ms/step - loss: 1.0124 - sparse_categorical_accuracy: 0.6389 - val_loss: 1.1400 - val_sparse_categorical_accuracy: 0.5926\n",
            "Epoch 33/100\n",
            "675/675 [==============================] - 7s 10ms/step - loss: 0.9974 - sparse_categorical_accuracy: 0.6439 - val_loss: 1.1213 - val_sparse_categorical_accuracy: 0.6041\n",
            "Epoch 34/100\n",
            "675/675 [==============================] - 7s 10ms/step - loss: 0.9963 - sparse_categorical_accuracy: 0.6437 - val_loss: 1.1237 - val_sparse_categorical_accuracy: 0.5904\n",
            "Epoch 35/100\n",
            "675/675 [==============================] - 7s 10ms/step - loss: 0.9884 - sparse_categorical_accuracy: 0.6464 - val_loss: 1.1575 - val_sparse_categorical_accuracy: 0.5933\n",
            "Epoch 36/100\n",
            "675/675 [==============================] - 8s 12ms/step - loss: 0.9755 - sparse_categorical_accuracy: 0.6523 - val_loss: 1.1346 - val_sparse_categorical_accuracy: 0.5922\n",
            "Epoch 37/100\n",
            "675/675 [==============================] - 8s 11ms/step - loss: 0.9726 - sparse_categorical_accuracy: 0.6507 - val_loss: 1.0966 - val_sparse_categorical_accuracy: 0.6119\n",
            "Epoch 38/100\n",
            "675/675 [==============================] - 7s 11ms/step - loss: 0.9615 - sparse_categorical_accuracy: 0.6575 - val_loss: 1.0912 - val_sparse_categorical_accuracy: 0.6163\n",
            "Epoch 39/100\n",
            "675/675 [==============================] - 7s 10ms/step - loss: 0.9610 - sparse_categorical_accuracy: 0.6552 - val_loss: 1.1312 - val_sparse_categorical_accuracy: 0.6070\n",
            "Epoch 40/100\n",
            "675/675 [==============================] - 7s 10ms/step - loss: 0.9440 - sparse_categorical_accuracy: 0.6644 - val_loss: 1.1129 - val_sparse_categorical_accuracy: 0.6033\n",
            "Epoch 41/100\n",
            "675/675 [==============================] - 7s 11ms/step - loss: 0.9393 - sparse_categorical_accuracy: 0.6658 - val_loss: 1.1358 - val_sparse_categorical_accuracy: 0.6093\n",
            "Epoch 42/100\n",
            "675/675 [==============================] - 8s 11ms/step - loss: 0.9266 - sparse_categorical_accuracy: 0.6681 - val_loss: 1.1131 - val_sparse_categorical_accuracy: 0.6196\n",
            "Epoch 43/100\n",
            "675/675 [==============================] - 7s 11ms/step - loss: 0.9185 - sparse_categorical_accuracy: 0.6714 - val_loss: 1.1032 - val_sparse_categorical_accuracy: 0.6189\n",
            "Epoch 44/100\n",
            "675/675 [==============================] - 7s 11ms/step - loss: 0.9156 - sparse_categorical_accuracy: 0.6725 - val_loss: 1.0893 - val_sparse_categorical_accuracy: 0.6093\n",
            "Epoch 45/100\n",
            "675/675 [==============================] - 7s 11ms/step - loss: 0.9020 - sparse_categorical_accuracy: 0.6810 - val_loss: 1.0893 - val_sparse_categorical_accuracy: 0.6122\n",
            "Epoch 46/100\n",
            "675/675 [==============================] - 7s 10ms/step - loss: 0.9034 - sparse_categorical_accuracy: 0.6780 - val_loss: 1.0892 - val_sparse_categorical_accuracy: 0.6037\n",
            "Epoch 47/100\n",
            "675/675 [==============================] - 7s 11ms/step - loss: 0.8907 - sparse_categorical_accuracy: 0.6841 - val_loss: 1.1152 - val_sparse_categorical_accuracy: 0.5996\n",
            "Epoch 48/100\n",
            "675/675 [==============================] - 8s 11ms/step - loss: 0.8915 - sparse_categorical_accuracy: 0.6815 - val_loss: 1.1073 - val_sparse_categorical_accuracy: 0.6044\n",
            "Epoch 49/100\n",
            "675/675 [==============================] - 7s 11ms/step - loss: 0.8805 - sparse_categorical_accuracy: 0.6875 - val_loss: 1.0843 - val_sparse_categorical_accuracy: 0.6126\n",
            "Epoch 50/100\n",
            "675/675 [==============================] - 7s 10ms/step - loss: 0.8734 - sparse_categorical_accuracy: 0.6896 - val_loss: 1.0811 - val_sparse_categorical_accuracy: 0.6189\n",
            "Epoch 51/100\n",
            "675/675 [==============================] - 7s 10ms/step - loss: 0.8764 - sparse_categorical_accuracy: 0.6879 - val_loss: 1.1192 - val_sparse_categorical_accuracy: 0.6100\n",
            "Epoch 52/100\n",
            "675/675 [==============================] - 7s 11ms/step - loss: 0.8570 - sparse_categorical_accuracy: 0.6948 - val_loss: 1.1453 - val_sparse_categorical_accuracy: 0.6059\n",
            "Epoch 53/100\n",
            "675/675 [==============================] - 7s 10ms/step - loss: 0.8516 - sparse_categorical_accuracy: 0.6975 - val_loss: 1.0686 - val_sparse_categorical_accuracy: 0.6270\n",
            "Epoch 54/100\n",
            "675/675 [==============================] - 8s 11ms/step - loss: 0.8526 - sparse_categorical_accuracy: 0.6973 - val_loss: 1.1683 - val_sparse_categorical_accuracy: 0.5959\n",
            "Epoch 55/100\n",
            "675/675 [==============================] - 7s 11ms/step - loss: 0.8406 - sparse_categorical_accuracy: 0.6999 - val_loss: 1.0902 - val_sparse_categorical_accuracy: 0.6170\n",
            "Epoch 56/100\n",
            "675/675 [==============================] - 7s 10ms/step - loss: 0.8352 - sparse_categorical_accuracy: 0.7031 - val_loss: 1.0856 - val_sparse_categorical_accuracy: 0.6159\n",
            "Epoch 57/100\n",
            "675/675 [==============================] - 7s 10ms/step - loss: 0.8328 - sparse_categorical_accuracy: 0.7054 - val_loss: 1.0670 - val_sparse_categorical_accuracy: 0.6226\n",
            "Epoch 58/100\n",
            "675/675 [==============================] - 7s 10ms/step - loss: 0.8174 - sparse_categorical_accuracy: 0.7123 - val_loss: 1.0673 - val_sparse_categorical_accuracy: 0.6296\n",
            "Epoch 59/100\n",
            "675/675 [==============================] - 7s 10ms/step - loss: 0.8235 - sparse_categorical_accuracy: 0.7073 - val_loss: 1.0704 - val_sparse_categorical_accuracy: 0.6226\n",
            "Epoch 60/100\n",
            "675/675 [==============================] - 8s 11ms/step - loss: 0.8151 - sparse_categorical_accuracy: 0.7127 - val_loss: 1.0677 - val_sparse_categorical_accuracy: 0.6259\n",
            "Epoch 61/100\n",
            "675/675 [==============================] - 7s 10ms/step - loss: 0.8090 - sparse_categorical_accuracy: 0.7105 - val_loss: 1.0851 - val_sparse_categorical_accuracy: 0.6267\n",
            "Epoch 62/100\n",
            "675/675 [==============================] - 8s 11ms/step - loss: 0.7912 - sparse_categorical_accuracy: 0.7200 - val_loss: 1.0773 - val_sparse_categorical_accuracy: 0.6193\n",
            "Epoch 63/100\n",
            "675/675 [==============================] - 7s 10ms/step - loss: 0.7947 - sparse_categorical_accuracy: 0.7188 - val_loss: 1.0700 - val_sparse_categorical_accuracy: 0.6359\n",
            "Epoch 64/100\n",
            "675/675 [==============================] - 7s 10ms/step - loss: 0.7898 - sparse_categorical_accuracy: 0.7179 - val_loss: 1.0479 - val_sparse_categorical_accuracy: 0.6322\n",
            "Epoch 65/100\n",
            "675/675 [==============================] - 7s 10ms/step - loss: 0.7811 - sparse_categorical_accuracy: 0.7212 - val_loss: 1.0662 - val_sparse_categorical_accuracy: 0.6304\n",
            "Epoch 66/100\n",
            "675/675 [==============================] - 8s 11ms/step - loss: 0.7706 - sparse_categorical_accuracy: 0.7269 - val_loss: 1.0985 - val_sparse_categorical_accuracy: 0.6219\n",
            "Epoch 67/100\n",
            "675/675 [==============================] - 7s 10ms/step - loss: 0.7792 - sparse_categorical_accuracy: 0.7246 - val_loss: 1.0699 - val_sparse_categorical_accuracy: 0.6341\n",
            "Epoch 68/100\n",
            "675/675 [==============================] - 7s 11ms/step - loss: 0.7658 - sparse_categorical_accuracy: 0.7317 - val_loss: 1.0772 - val_sparse_categorical_accuracy: 0.6189\n",
            "Epoch 69/100\n",
            "675/675 [==============================] - 7s 11ms/step - loss: 0.7598 - sparse_categorical_accuracy: 0.7312 - val_loss: 1.0752 - val_sparse_categorical_accuracy: 0.6189\n",
            "Epoch 70/100\n",
            "675/675 [==============================] - 7s 11ms/step - loss: 0.7573 - sparse_categorical_accuracy: 0.7316 - val_loss: 1.0871 - val_sparse_categorical_accuracy: 0.6278\n",
            "Epoch 71/100\n",
            "675/675 [==============================] - 7s 11ms/step - loss: 0.7532 - sparse_categorical_accuracy: 0.7343 - val_loss: 1.1228 - val_sparse_categorical_accuracy: 0.6104\n",
            "Epoch 72/100\n",
            "675/675 [==============================] - 8s 11ms/step - loss: 0.7510 - sparse_categorical_accuracy: 0.7329 - val_loss: 1.0877 - val_sparse_categorical_accuracy: 0.6241\n",
            "Epoch 73/100\n",
            "675/675 [==============================] - 7s 11ms/step - loss: 0.7381 - sparse_categorical_accuracy: 0.7400 - val_loss: 1.0699 - val_sparse_categorical_accuracy: 0.6259\n",
            "Epoch 74/100\n",
            "675/675 [==============================] - 7s 11ms/step - loss: 0.7342 - sparse_categorical_accuracy: 0.7387 - val_loss: 1.1115 - val_sparse_categorical_accuracy: 0.6089\n",
            "Epoch 75/100\n",
            "675/675 [==============================] - 7s 11ms/step - loss: 0.7274 - sparse_categorical_accuracy: 0.7455 - val_loss: 1.0674 - val_sparse_categorical_accuracy: 0.6352\n",
            "Epoch 76/100\n",
            "675/675 [==============================] - 7s 10ms/step - loss: 0.7230 - sparse_categorical_accuracy: 0.7442 - val_loss: 1.0709 - val_sparse_categorical_accuracy: 0.6359\n",
            "Epoch 77/100\n",
            "675/675 [==============================] - 7s 11ms/step - loss: 0.7203 - sparse_categorical_accuracy: 0.7476 - val_loss: 1.1005 - val_sparse_categorical_accuracy: 0.6289\n",
            "Epoch 78/100\n",
            "675/675 [==============================] - 8s 11ms/step - loss: 0.7081 - sparse_categorical_accuracy: 0.7499 - val_loss: 1.0512 - val_sparse_categorical_accuracy: 0.6444\n",
            "Epoch 79/100\n",
            "675/675 [==============================] - 7s 10ms/step - loss: 0.7090 - sparse_categorical_accuracy: 0.7490 - val_loss: 1.0783 - val_sparse_categorical_accuracy: 0.6281\n",
            "Epoch 80/100\n",
            "675/675 [==============================] - 7s 10ms/step - loss: 0.7046 - sparse_categorical_accuracy: 0.7523 - val_loss: 1.0854 - val_sparse_categorical_accuracy: 0.6385\n",
            "Epoch 81/100\n",
            "675/675 [==============================] - 7s 10ms/step - loss: 0.6983 - sparse_categorical_accuracy: 0.7542 - val_loss: 1.0729 - val_sparse_categorical_accuracy: 0.6430\n",
            "Epoch 82/100\n",
            "675/675 [==============================] - 7s 10ms/step - loss: 0.6905 - sparse_categorical_accuracy: 0.7556 - val_loss: 1.0597 - val_sparse_categorical_accuracy: 0.6419\n",
            "Epoch 83/100\n",
            "675/675 [==============================] - 7s 10ms/step - loss: 0.6850 - sparse_categorical_accuracy: 0.7581 - val_loss: 1.1514 - val_sparse_categorical_accuracy: 0.6278\n",
            "Epoch 84/100\n",
            "675/675 [==============================] - 8s 11ms/step - loss: 0.6906 - sparse_categorical_accuracy: 0.7537 - val_loss: 1.1604 - val_sparse_categorical_accuracy: 0.6293\n",
            "Epoch 85/100\n",
            "675/675 [==============================] - 7s 10ms/step - loss: 0.6836 - sparse_categorical_accuracy: 0.7608 - val_loss: 1.0941 - val_sparse_categorical_accuracy: 0.6315\n",
            "Epoch 86/100\n",
            "675/675 [==============================] - 8s 11ms/step - loss: 0.6743 - sparse_categorical_accuracy: 0.7657 - val_loss: 1.0774 - val_sparse_categorical_accuracy: 0.6363\n",
            "Epoch 87/100\n",
            "675/675 [==============================] - 7s 10ms/step - loss: 0.6664 - sparse_categorical_accuracy: 0.7662 - val_loss: 1.1974 - val_sparse_categorical_accuracy: 0.6089\n",
            "Epoch 88/100\n",
            "675/675 [==============================] - 7s 11ms/step - loss: 0.6578 - sparse_categorical_accuracy: 0.7709 - val_loss: 1.0583 - val_sparse_categorical_accuracy: 0.6441\n",
            "Epoch 89/100\n",
            "675/675 [==============================] - 7s 10ms/step - loss: 0.6603 - sparse_categorical_accuracy: 0.7690 - val_loss: 1.0662 - val_sparse_categorical_accuracy: 0.6493\n",
            "Epoch 90/100\n",
            "675/675 [==============================] - 8s 11ms/step - loss: 0.6647 - sparse_categorical_accuracy: 0.7684 - val_loss: 1.0826 - val_sparse_categorical_accuracy: 0.6267\n",
            "Epoch 91/100\n",
            "675/675 [==============================] - 7s 10ms/step - loss: 0.6445 - sparse_categorical_accuracy: 0.7725 - val_loss: 1.0764 - val_sparse_categorical_accuracy: 0.6481\n",
            "Epoch 92/100\n",
            "675/675 [==============================] - 7s 10ms/step - loss: 0.6464 - sparse_categorical_accuracy: 0.7722 - val_loss: 1.0836 - val_sparse_categorical_accuracy: 0.6426\n",
            "Epoch 93/100\n",
            "675/675 [==============================] - 7s 10ms/step - loss: 0.6408 - sparse_categorical_accuracy: 0.7788 - val_loss: 1.0736 - val_sparse_categorical_accuracy: 0.6407\n",
            "Epoch 94/100\n",
            "675/675 [==============================] - 7s 10ms/step - loss: 0.6327 - sparse_categorical_accuracy: 0.7771 - val_loss: 1.1574 - val_sparse_categorical_accuracy: 0.6267\n",
            "Epoch 95/100\n",
            "675/675 [==============================] - 7s 10ms/step - loss: 0.6339 - sparse_categorical_accuracy: 0.7747 - val_loss: 1.0527 - val_sparse_categorical_accuracy: 0.6478\n",
            "Epoch 96/100\n",
            "675/675 [==============================] - 8s 12ms/step - loss: 0.6267 - sparse_categorical_accuracy: 0.7773 - val_loss: 1.0611 - val_sparse_categorical_accuracy: 0.6404\n",
            "Epoch 97/100\n",
            "675/675 [==============================] - 7s 11ms/step - loss: 0.6264 - sparse_categorical_accuracy: 0.7798 - val_loss: 1.0967 - val_sparse_categorical_accuracy: 0.6448\n",
            "Epoch 98/100\n",
            "675/675 [==============================] - 7s 11ms/step - loss: 0.6123 - sparse_categorical_accuracy: 0.7839 - val_loss: 1.2207 - val_sparse_categorical_accuracy: 0.6252\n",
            "Epoch 99/100\n",
            "675/675 [==============================] - 7s 10ms/step - loss: 0.6180 - sparse_categorical_accuracy: 0.7843 - val_loss: 1.1725 - val_sparse_categorical_accuracy: 0.6322\n",
            "Epoch 100/100\n",
            "675/675 [==============================] - 7s 10ms/step - loss: 0.6143 - sparse_categorical_accuracy: 0.7846 - val_loss: 1.1574 - val_sparse_categorical_accuracy: 0.6263\n",
            "675/675 [==============================] - 2s 3ms/step - loss: 0.6912 - sparse_categorical_accuracy: 0.7487\n"
          ]
        }
      ],
      "source": [
        "my_best_model = keras.models.Sequential()\n",
        "my_best_model.add(tf.keras.layers.Flatten(input_shape=info_ds.features[\"image\"].shape))\n",
        "for _ in range(depth):\n",
        "   my_best_model.add(keras.layers.Dense(units=width, activation=\"relu\", kernel_regularizer=keras.regularizers.l2(l2_weight)))\n",
        "my_best_model.add(tf.keras.layers.Dense(10, activation = 'softmax'))\n",
        "my_best_model.compile(loss=keras.losses.sparse_categorical_crossentropy, optimizer=optimizer(learning_rate), metrics=[keras.metrics.sparse_categorical_accuracy])\n",
        "my_best_model.fit(train_ds, epochs = 100, steps_per_epoch =np.sum(train_occurences) // batch_size,validation_data = val_ds,)\n",
        "train_loss, train_acc =my_best_model.evaluate(train_ds, steps=np.sum(train_occurences) // batch_size )"
      ]
    },
    {
      "cell_type": "code",
      "execution_count": null,
      "metadata": {
        "colab": {
          "base_uri": "https://localhost:8080/"
        },
        "id": "kofZVWtR0iEI",
        "outputId": "38c11475-52d9-494e-b262-6999b692d46f"
      },
      "outputs": [
        {
          "name": "stdout",
          "output_type": "stream",
          "text": [
            " 77/675 [==>...........................] - ETA: 2s - loss: 1.1893 - sparse_categorical_accuracy: 0.5873"
          ]
        },
        {
          "name": "stderr",
          "output_type": "stream",
          "text": [
            "WARNING:tensorflow:Your input ran out of data; interrupting training. Make sure that your dataset or generator can generate at least `steps_per_epoch * epochs` batches (in this case, 675 batches). You may need to use the repeat() function when building your dataset.\n"
          ]
        },
        {
          "name": "stdout",
          "output_type": "stream",
          "text": [
            "\b\b\b\b\b\b\b\b\b\b\b\b\b\b\b\b\b\b\b\b\b\b\b\b\b\b\b\b\b\b\b\b\b\b\b\b\b\b\b\b\b\b\b\b\b\b\b\b\b\b\b\b\b\b\b\b\b\b\b\b\b\b\b\b\b\b\b\b\b\b\b\b\b\b\b\b\b\b\b\b\b\b\b\b\b\b\b\b\b\b\b\b\b\b\b\b\b\b\b\b\b\b\b\r675/675 [==============================] - 3s 667us/step - loss: 1.1883 - sparse_categorical_accuracy: 0.5919\n"
          ]
        },
        {
          "data": {
            "text/plain": [
              "[1.1882704496383667, 0.5918518304824829]"
            ]
          },
          "execution_count": 16,
          "metadata": {},
          "output_type": "execute_result"
        }
      ],
      "source": [
        "model.evaluate(test_ds, steps =np.sum(train_occurences) // batch_size)"
      ]
    },
    {
      "cell_type": "code",
      "execution_count": null,
      "metadata": {
        "id": "gqept3Snnl5M"
      },
      "outputs": [],
      "source": [
        "from operator import matmul\n",
        "def lrp(alpha, beta, model, x):\n",
        "\n",
        "    # get number of layers (including input layer)\n",
        "    num_layers = len(my_best_model.layers)\n",
        "\n",
        "    # get activations\n",
        "    activations = [my_best_model.layers[0](x)]\n",
        "    for l in range(1, num_layers):\n",
        "        activations.append(my_best_model.layers[l](activations[-1]))\n",
        "\n",
        "    # compute scores\n",
        "    scores = [tf.transpose(activations[-1])]\n",
        "    c = tf.squeeze(tf.math.argmax(scores[0]))\n",
        "    for l in range(num_layers-2, -1, -1):\n",
        "        w = my_best_model.layers[l+1].weights[0]\n",
        "        if l == num_layers-2:\n",
        "            w_pos = tf.clip_by_value(w[:, c:c+1], 0, np.inf)\n",
        "            w_neg = -tf.clip_by_value(w[:, c:c+1], -np.inf, 0)\n",
        "            s = scores[0][c:c+1]\n",
        "            scores[0] = s\n",
        "        else:\n",
        "            w_pos = tf.clip_by_value(w, 0, np.inf)\n",
        "            w_neg = -tf.clip_by_value(w, -np.inf, 0)\n",
        "            s = scores[0]\n",
        "        a = activations[l]\n",
        "\n",
        "        mask_pos = tf.transpose(a)* w_pos\n",
        "        mask_neg = tf.transpose(a)* w_neg\n",
        "        score_pos = alpha * tf.matmul((mask_pos/(tf.matmul(a, w_pos))) , s)\n",
        "        score_neg = beta * tf.matmul((mask_neg/(tf.matmul(a, w_neg))) , s)\n",
        "        score_total = score_pos - score_neg\n",
        "        scores.insert(0, score_total)\n",
        "    return scores, activations"
      ]
    },
    {
      "cell_type": "code",
      "execution_count": null,
      "metadata": {
        "colab": {
          "base_uri": "https://localhost:8080/",
          "height": 700
        },
        "id": "lBzLahHnoT9I",
        "outputId": "00f62998-9d8f-4e37-a0df-79ce5facf1ba"
      },
      "outputs": [
        {
          "name": "stdout",
          "output_type": "stream",
          "text": [
            "Predicted Probability for Predicted Class (Relevance in Output Layer):\n",
            "\n",
            "0.78232\n",
            "\n",
            "\n",
            "Sum of all Relevances in Input Layer:\n",
            "\n",
            "0.78232\n",
            "\n",
            "\n",
            "True Class\n",
            "\n",
            "0 (AnnualCrop)\n",
            "\n",
            "1/1 [==============================] - 0s 41ms/step\n",
            "\n",
            "Predicted Class\n",
            "\n",
            "0 (AnnualCrop) with probability 0.7823194265365601\n",
            "\n"
          ]
        },
        {
          "data": {
            "image/png": "[encoded data removed]",
            "text/plain": [
              "<Figure size 864x486 with 2 Axes>"
            ]
          },
          "metadata": {},
          "output_type": "display_data"
        }
      ],
      "source": [
        "for item in test_ds.take(1):\n",
        "    dem_image = item[0][:1, ...]\n",
        "    dem_label = item[1][0]\n",
        "\n",
        "scores, _ = lrp(alpha = 2,beta =  1,model = my_best_model, x = dem_image)\n",
        "scores_input = scores[0].numpy().reshape(64, 64, 3)\n",
        "\n",
        "print('Predicted Probability for Predicted Class (Relevance in Output Layer):\\n')\n",
        "print(f'{tf.squeeze(scores[-1]).numpy():.5f}\\n')\n",
        "\n",
        "print('\\nSum of all Relevances in Input Layer:\\n')\n",
        "print(f'{tf.squeeze(tf.reduce_sum(scores[0])).numpy():.5f}\\n')\n",
        "\n",
        "print('\\nTrue Class\\n')\n",
        "print(f'{dem_label} ({info_ds.features[\"label\"].names[dem_label]})\\n')\n",
        "\n",
        "prediction = my_best_model.predict(dem_image)\n",
        "predicted_label = np.argmax(prediction)\n",
        "print('\\nPredicted Class\\n')\n",
        "print(f'{predicted_label} ({info_ds.features[\"label\"].names[predicted_label]}) with probability {prediction[0][predicted_label]}\\n')\n",
        "\n",
        "plt.subplots(1, 2, figsize=(12, 6.75))\n",
        "plt.subplot(1, 2, 1)\n",
        "plt.imshow(demo_image[0,...], norm=mcolors.TwoSlopeNorm(vcenter=0.5))\n",
        "plt.xticks([])\n",
        "plt.yticks([])\n",
        "plt.subplot(1, 2, 2)\n",
        "tmp = np.sum(scores_input, axis=2)\n",
        "min_score = tmp.min()\n",
        "max_score = tmp.max()\n",
        "tmp = (tmp - min_score) / (max_score - min_score)\n",
        "plt.imshow(tmp, cmap=plt.cm.seismic, norm=mcolors.TwoSlopeNorm(vcenter=-min_score / (max_score - min_score)), alpha=1.)\n",
        "plt.xticks([])\n",
        "plt.yticks([])\n",
        "plt.show()"
      ]
    },
    {
      "cell_type": "markdown",
      "metadata": {
        "id": "z_SetXzReMT5"
      },
      "source": [
        "### Confusion matrix\n",
        "\n",
        "The confusion matrix is a useful tool to evaluate your model's performance on each specific class rather than looking at an overall accuracy as above.\n",
        "\n",
        "26. Make yourself familiar with the concept of the confusion matrix, complete and execute the code below using your ```my_best_model```. Discuss the results with your teammate. The information under https://www.tensorflow.org/api_docs/python/tf/math/confusion_matrix could be helpful."
      ]
    },
    {
      "cell_type": "code",
      "execution_count": null,
      "metadata": {
        "id": "wpi0ToadeMT6"
      },
      "outputs": [],
      "source": [
        "def show_confusion_matrix(cm, labels):\n",
        "    plt.figure(figsize=(10, 8))\n",
        "    sns.heatmap(cm, xticklabels=labels, yticklabels=labels, annot=True, fmt='g')\n",
        "    plt.xlabel('Prediction')\n",
        "    plt.ylabel('Label')\n",
        "    plt.show()"
      ]
    },
    {
      "cell_type": "code",
      "execution_count": null,
      "metadata": {
        "colab": {
          "base_uri": "https://localhost:8080/",
          "height": 618
        },
        "id": "my0TMRz0eMT7",
        "outputId": "921fa58c-c260-4497-dc77-4e9731b3571d"
      },
      "outputs": [
        {
          "name": "stdout",
          "output_type": "stream",
          "text": [
            "85/85 [==============================] - 0s 3ms/step\n"
          ]
        },
        {
          "data": {
            "image/png": "[encoded data removed]",
            "text/plain": [
              "<Figure size 720x576 with 2 Axes>"
            ]
          },
          "metadata": {
            "needs_background": "light"
          },
          "output_type": "display_data"
        }
      ],
      "source": [
        "#y = np.concatenate([y for x, y in test_ds], axis=0)\n",
        "true_test_labels = np.concatenate([y for x, y in test_ds], axis=0)\n",
        "#print(true_test_labels)\n",
        "predicted = model.predict(test_ds)\n",
        "#print(predicted)\n",
        "predicted_test_labels = tf.math.argmax(predicted, axis = 1)\n",
        "#print(predicted_test_labels)\n",
        "num_classes = info_ds.features[\"label\"].num_classes\n",
        "confusion_mtx = tf.math.confusion_matrix(true_test_labels, predicted_test_labels, num_classes)\n",
        "show_confusion_matrix(confusion_mtx, info_ds.features[\"label\"].names)"
      ]
    }
  ],
  "metadata": {
    "accelerator": "GPU",
    "celltoolbar": "Raw Cell Format",
    "colab": {
      "collapsed_sections": [
        "RDCj4v-VeMT7"
      ],
      "provenance": []
    },
    "gpuClass": "standard",
    "kernelspec": {
      "display_name": "Python 3 (ipykernel)",
      "language": "python",
      "name": "python3"
    },
    "language_info": {
      "codemirror_mode": {
        "name": "ipython",
        "version": 3
      },
      "file_extension": ".py",
      "mimetype": "text/x-python",
      "name": "python",
      "nbconvert_exporter": "python",
      "pygments_lexer": "ipython3",
      "version": "3.8.13"
    },
    "widgets": {
      "application/vnd.jupyter.widget-state+json": {
        "0983439fa9544ba198d6197460ad5da3": {
          "model_module": "@jupyter-widgets/controls",
          "model_module_version": "1.5.0",
          "model_name": "HBoxModel",
          "state": {
            "_dom_classes": [],
            "_model_module": "@jupyter-widgets/controls",
            "_model_module_version": "1.5.0",
            "_model_name": "HBoxModel",
            "_view_count": null,
            "_view_module": "@jupyter-widgets/controls",
            "_view_module_version": "1.5.0",
            "_view_name": "HBoxView",
            "box_style": "",
            "children": [
              "IPY_MODEL_580ecc6d89a34a5eaa5d3e8dc7f27cad",
              "IPY_MODEL_32e258e7360d4598ac95e2b9bd6c8a21",
              "IPY_MODEL_ef01068c1fb44a3fb4ec1f9d5dda9e60"
            ],
            "layout": "IPY_MODEL_5b59358a717149aca562b0d697e400dc"
          }
        },
        "0b2a1671d28a4588aa8749b8a727cd23": {
          "model_module": "@jupyter-widgets/controls",
          "model_module_version": "1.5.0",
          "model_name": "HBoxModel",
          "state": {
            "_dom_classes": [],
            "_model_module": "@jupyter-widgets/controls",
            "_model_module_version": "1.5.0",
            "_model_name": "HBoxModel",
            "_view_count": null,
            "_view_module": "@jupyter-widgets/controls",
            "_view_module_version": "1.5.0",
            "_view_name": "HBoxView",
            "box_style": "",
            "children": [
              "IPY_MODEL_212ba0eb2a9b429ea2ab32d8ffad9f19",
              "IPY_MODEL_cc58d6522be944fca831fb45f3f9d3a4",
              "IPY_MODEL_ed8a92e799074fd387c4ba769e1f71e7"
            ],
            "layout": "IPY_MODEL_637a66af84294dabb69d089fb654a7f6"
          }
        },
        "0bf25860d8014180804664cb7636f649": {
          "model_module": "@jupyter-widgets/controls",
          "model_module_version": "1.5.0",
          "model_name": "ProgressStyleModel",
          "state": {
            "_model_module": "@jupyter-widgets/controls",
            "_model_module_version": "1.5.0",
            "_model_name": "ProgressStyleModel",
            "_view_count": null,
            "_view_module": "@jupyter-widgets/base",
            "_view_module_version": "1.2.0",
            "_view_name": "StyleView",
            "bar_color": null,
            "description_width": ""
          }
        },
        "0c5cf373d2e147a6b727bdbdc0b2664f": {
          "model_module": "@jupyter-widgets/controls",
          "model_module_version": "1.5.0",
          "model_name": "ProgressStyleModel",
          "state": {
            "_model_module": "@jupyter-widgets/controls",
            "_model_module_version": "1.5.0",
            "_model_name": "ProgressStyleModel",
            "_view_count": null,
            "_view_module": "@jupyter-widgets/base",
            "_view_module_version": "1.2.0",
            "_view_name": "StyleView",
            "bar_color": null,
            "description_width": ""
          }
        },
        "102ccb7943aa43c38fd6cc85f9cc072c": {
          "model_module": "@jupyter-widgets/base",
          "model_module_version": "1.2.0",
          "model_name": "LayoutModel",
          "state": {
            "_model_module": "@jupyter-widgets/base",
            "_model_module_version": "1.2.0",
            "_model_name": "LayoutModel",
            "_view_count": null,
            "_view_module": "@jupyter-widgets/base",
            "_view_module_version": "1.2.0",
            "_view_name": "LayoutView",
            "align_content": null,
            "align_items": null,
            "align_self": null,
            "border": null,
            "bottom": null,
            "display": null,
            "flex": null,
            "flex_flow": null,
            "grid_area": null,
            "grid_auto_columns": null,
            "grid_auto_flow": null,
            "grid_auto_rows": null,
            "grid_column": null,
            "grid_gap": null,
            "grid_row": null,
            "grid_template_areas": null,
            "grid_template_columns": null,
            "grid_template_rows": null,
            "height": null,
            "justify_content": null,
            "justify_items": null,
            "left": null,
            "margin": null,
            "max_height": null,
            "max_width": null,
            "min_height": null,
            "min_width": null,
            "object_fit": null,
            "object_position": null,
            "order": null,
            "overflow": null,
            "overflow_x": null,
            "overflow_y": null,
            "padding": null,
            "right": null,
            "top": null,
            "visibility": null,
            "width": "20px"
          }
        },
        "19f8901abb6a4abeac22022fec95bd97": {
          "model_module": "@jupyter-widgets/base",
          "model_module_version": "1.2.0",
          "model_name": "LayoutModel",
          "state": {
            "_model_module": "@jupyter-widgets/base",
            "_model_module_version": "1.2.0",
            "_model_name": "LayoutModel",
            "_view_count": null,
            "_view_module": "@jupyter-widgets/base",
            "_view_module_version": "1.2.0",
            "_view_name": "LayoutView",
            "align_content": null,
            "align_items": null,
            "align_self": null,
            "border": null,
            "bottom": null,
            "display": null,
            "flex": null,
            "flex_flow": null,
            "grid_area": null,
            "grid_auto_columns": null,
            "grid_auto_flow": null,
            "grid_auto_rows": null,
            "grid_column": null,
            "grid_gap": null,
            "grid_row": null,
            "grid_template_areas": null,
            "grid_template_columns": null,
            "grid_template_rows": null,
            "height": null,
            "justify_content": null,
            "justify_items": null,
            "left": null,
            "margin": null,
            "max_height": null,
            "max_width": null,
            "min_height": null,
            "min_width": null,
            "object_fit": null,
            "object_position": null,
            "order": null,
            "overflow": null,
            "overflow_x": null,
            "overflow_y": null,
            "padding": null,
            "right": null,
            "top": null,
            "visibility": null,
            "width": null
          }
        },
        "1f0dd61a92184299954d87b159107d12": {
          "model_module": "@jupyter-widgets/base",
          "model_module_version": "1.2.0",
          "model_name": "LayoutModel",
          "state": {
            "_model_module": "@jupyter-widgets/base",
            "_model_module_version": "1.2.0",
            "_model_name": "LayoutModel",
            "_view_count": null,
            "_view_module": "@jupyter-widgets/base",
            "_view_module_version": "1.2.0",
            "_view_name": "LayoutView",
            "align_content": null,
            "align_items": null,
            "align_self": null,
            "border": null,
            "bottom": null,
            "display": null,
            "flex": null,
            "flex_flow": null,
            "grid_area": null,
            "grid_auto_columns": null,
            "grid_auto_flow": null,
            "grid_auto_rows": null,
            "grid_column": null,
            "grid_gap": null,
            "grid_row": null,
            "grid_template_areas": null,
            "grid_template_columns": null,
            "grid_template_rows": null,
            "height": null,
            "justify_content": null,
            "justify_items": null,
            "left": null,
            "margin": null,
            "max_height": null,
            "max_width": null,
            "min_height": null,
            "min_width": null,
            "object_fit": null,
            "object_position": null,
            "order": null,
            "overflow": null,
            "overflow_x": null,
            "overflow_y": null,
            "padding": null,
            "right": null,
            "top": null,
            "visibility": null,
            "width": null
          }
        },
        "200b529a0e0243b2b5e057bce4ae59ba": {
          "model_module": "@jupyter-widgets/controls",
          "model_module_version": "1.5.0",
          "model_name": "DescriptionStyleModel",
          "state": {
            "_model_module": "@jupyter-widgets/controls",
            "_model_module_version": "1.5.0",
            "_model_name": "DescriptionStyleModel",
            "_view_count": null,
            "_view_module": "@jupyter-widgets/base",
            "_view_module_version": "1.2.0",
            "_view_name": "StyleView",
            "description_width": ""
          }
        },
        "212ba0eb2a9b429ea2ab32d8ffad9f19": {
          "model_module": "@jupyter-widgets/controls",
          "model_module_version": "1.5.0",
          "model_name": "HTMLModel",
          "state": {
            "_dom_classes": [],
            "_model_module": "@jupyter-widgets/controls",
            "_model_module_version": "1.5.0",
            "_model_name": "HTMLModel",
            "_view_count": null,
            "_view_module": "@jupyter-widgets/controls",
            "_view_module_version": "1.5.0",
            "_view_name": "HTMLView",
            "description": "",
            "description_tooltip": null,
            "layout": "IPY_MODEL_417e6898f9fe4280a244c711c56c56f8",
            "placeholder": "​",
            "style": "IPY_MODEL_823072a2c62e44bbae0e37b6f5f4d65c",
            "value": "Generating splits...: 100%"
          }
        },
        "21619bf6cbc04b5f9b5fb43400d5d2e5": {
          "model_module": "@jupyter-widgets/controls",
          "model_module_version": "1.5.0",
          "model_name": "DescriptionStyleModel",
          "state": {
            "_model_module": "@jupyter-widgets/controls",
            "_model_module_version": "1.5.0",
            "_model_name": "DescriptionStyleModel",
            "_view_count": null,
            "_view_module": "@jupyter-widgets/base",
            "_view_module_version": "1.2.0",
            "_view_name": "StyleView",
            "description_width": ""
          }
        },
        "30933700de06456c93fe7300389c5cc0": {
          "model_module": "@jupyter-widgets/controls",
          "model_module_version": "1.5.0",
          "model_name": "DescriptionStyleModel",
          "state": {
            "_model_module": "@jupyter-widgets/controls",
            "_model_module_version": "1.5.0",
            "_model_name": "DescriptionStyleModel",
            "_view_count": null,
            "_view_module": "@jupyter-widgets/base",
            "_view_module_version": "1.2.0",
            "_view_name": "StyleView",
            "description_width": ""
          }
        },
        "32e258e7360d4598ac95e2b9bd6c8a21": {
          "model_module": "@jupyter-widgets/controls",
          "model_module_version": "1.5.0",
          "model_name": "FloatProgressModel",
          "state": {
            "_dom_classes": [],
            "_model_module": "@jupyter-widgets/controls",
            "_model_module_version": "1.5.0",
            "_model_name": "FloatProgressModel",
            "_view_count": null,
            "_view_module": "@jupyter-widgets/controls",
            "_view_module_version": "1.5.0",
            "_view_name": "ProgressView",
            "bar_style": "",
            "description": "",
            "description_tooltip": null,
            "layout": "IPY_MODEL_52957eb585b8496cbec165041f9e2179",
            "max": 27000,
            "min": 0,
            "orientation": "horizontal",
            "style": "IPY_MODEL_0bf25860d8014180804664cb7636f649",
            "value": 27000
          }
        },
        "34f06627acd84f62ad837c0d5a2c6898": {
          "model_module": "@jupyter-widgets/base",
          "model_module_version": "1.2.0",
          "model_name": "LayoutModel",
          "state": {
            "_model_module": "@jupyter-widgets/base",
            "_model_module_version": "1.2.0",
            "_model_name": "LayoutModel",
            "_view_count": null,
            "_view_module": "@jupyter-widgets/base",
            "_view_module_version": "1.2.0",
            "_view_name": "LayoutView",
            "align_content": null,
            "align_items": null,
            "align_self": null,
            "border": null,
            "bottom": null,
            "display": null,
            "flex": null,
            "flex_flow": null,
            "grid_area": null,
            "grid_auto_columns": null,
            "grid_auto_flow": null,
            "grid_auto_rows": null,
            "grid_column": null,
            "grid_gap": null,
            "grid_row": null,
            "grid_template_areas": null,
            "grid_template_columns": null,
            "grid_template_rows": null,
            "height": null,
            "justify_content": null,
            "justify_items": null,
            "left": null,
            "margin": null,
            "max_height": null,
            "max_width": null,
            "min_height": null,
            "min_width": null,
            "object_fit": null,
            "object_position": null,
            "order": null,
            "overflow": null,
            "overflow_x": null,
            "overflow_y": null,
            "padding": null,
            "right": null,
            "top": null,
            "visibility": null,
            "width": "20px"
          }
        },
        "3789fc91cc9946858058518ccc6463c9": {
          "model_module": "@jupyter-widgets/controls",
          "model_module_version": "1.5.0",
          "model_name": "HTMLModel",
          "state": {
            "_dom_classes": [],
            "_model_module": "@jupyter-widgets/controls",
            "_model_module_version": "1.5.0",
            "_model_name": "HTMLModel",
            "_view_count": null,
            "_view_module": "@jupyter-widgets/controls",
            "_view_module_version": "1.5.0",
            "_view_name": "HTMLView",
            "description": "",
            "description_tooltip": null,
            "layout": "IPY_MODEL_1f0dd61a92184299954d87b159107d12",
            "placeholder": "​",
            "style": "IPY_MODEL_7bf1bb5676634163892a6fd135931c34",
            "value": "Dl Size...: 100%"
          }
        },
        "39cfb4c7aabb45c9b03af12cd88efde5": {
          "model_module": "@jupyter-widgets/base",
          "model_module_version": "1.2.0",
          "model_name": "LayoutModel",
          "state": {
            "_model_module": "@jupyter-widgets/base",
            "_model_module_version": "1.2.0",
            "_model_name": "LayoutModel",
            "_view_count": null,
            "_view_module": "@jupyter-widgets/base",
            "_view_module_version": "1.2.0",
            "_view_name": "LayoutView",
            "align_content": null,
            "align_items": null,
            "align_self": null,
            "border": null,
            "bottom": null,
            "display": null,
            "flex": null,
            "flex_flow": null,
            "grid_area": null,
            "grid_auto_columns": null,
            "grid_auto_flow": null,
            "grid_auto_rows": null,
            "grid_column": null,
            "grid_gap": null,
            "grid_row": null,
            "grid_template_areas": null,
            "grid_template_columns": null,
            "grid_template_rows": null,
            "height": null,
            "justify_content": null,
            "justify_items": null,
            "left": null,
            "margin": null,
            "max_height": null,
            "max_width": null,
            "min_height": null,
            "min_width": null,
            "object_fit": null,
            "object_position": null,
            "order": null,
            "overflow": null,
            "overflow_x": null,
            "overflow_y": null,
            "padding": null,
            "right": null,
            "top": null,
            "visibility": null,
            "width": null
          }
        },
        "3cea6df4a866403891f0ec16804b11a0": {
          "model_module": "@jupyter-widgets/controls",
          "model_module_version": "1.5.0",
          "model_name": "FloatProgressModel",
          "state": {
            "_dom_classes": [],
            "_model_module": "@jupyter-widgets/controls",
            "_model_module_version": "1.5.0",
            "_model_name": "FloatProgressModel",
            "_view_count": null,
            "_view_module": "@jupyter-widgets/controls",
            "_view_module_version": "1.5.0",
            "_view_name": "ProgressView",
            "bar_style": "success",
            "description": "",
            "description_tooltip": null,
            "layout": "IPY_MODEL_102ccb7943aa43c38fd6cc85f9cc072c",
            "max": 1,
            "min": 0,
            "orientation": "horizontal",
            "style": "IPY_MODEL_da1c7e07585948d388eebe5c58f46a5a",
            "value": 1
          }
        },
        "4147716ffb75497696d52f383db8d15c": {
          "model_module": "@jupyter-widgets/controls",
          "model_module_version": "1.5.0",
          "model_name": "HTMLModel",
          "state": {
            "_dom_classes": [],
            "_model_module": "@jupyter-widgets/controls",
            "_model_module_version": "1.5.0",
            "_model_name": "HTMLModel",
            "_view_count": null,
            "_view_module": "@jupyter-widgets/controls",
            "_view_module_version": "1.5.0",
            "_view_name": "HTMLView",
            "description": "",
            "description_tooltip": null,
            "layout": "IPY_MODEL_c2bea92e813d4b6295aac507802e8dbe",
            "placeholder": "​",
            "style": "IPY_MODEL_517f855b323f4853aab7924592616582",
            "value": "Shuffling ~/tensorflow_datasets/eurosat/rgb/2.0.0.incompleteU15NQ2/eurosat-train.tfrecord*...:  70%"
          }
        },
        "417e6898f9fe4280a244c711c56c56f8": {
          "model_module": "@jupyter-widgets/base",
          "model_module_version": "1.2.0",
          "model_name": "LayoutModel",
          "state": {
            "_model_module": "@jupyter-widgets/base",
            "_model_module_version": "1.2.0",
            "_model_name": "LayoutModel",
            "_view_count": null,
            "_view_module": "@jupyter-widgets/base",
            "_view_module_version": "1.2.0",
            "_view_name": "LayoutView",
            "align_content": null,
            "align_items": null,
            "align_self": null,
            "border": null,
            "bottom": null,
            "display": null,
            "flex": null,
            "flex_flow": null,
            "grid_area": null,
            "grid_auto_columns": null,
            "grid_auto_flow": null,
            "grid_auto_rows": null,
            "grid_column": null,
            "grid_gap": null,
            "grid_row": null,
            "grid_template_areas": null,
            "grid_template_columns": null,
            "grid_template_rows": null,
            "height": null,
            "justify_content": null,
            "justify_items": null,
            "left": null,
            "margin": null,
            "max_height": null,
            "max_width": null,
            "min_height": null,
            "min_width": null,
            "object_fit": null,
            "object_position": null,
            "order": null,
            "overflow": null,
            "overflow_x": null,
            "overflow_y": null,
            "padding": null,
            "right": null,
            "top": null,
            "visibility": null,
            "width": null
          }
        },
        "4bc65fa7a25f41dfacb5eb0ca58ff22c": {
          "model_module": "@jupyter-widgets/controls",
          "model_module_version": "1.5.0",
          "model_name": "HTMLModel",
          "state": {
            "_dom_classes": [],
            "_model_module": "@jupyter-widgets/controls",
            "_model_module_version": "1.5.0",
            "_model_name": "HTMLModel",
            "_view_count": null,
            "_view_module": "@jupyter-widgets/controls",
            "_view_module_version": "1.5.0",
            "_view_name": "HTMLView",
            "description": "",
            "description_tooltip": null,
            "layout": "IPY_MODEL_8e930d9120ef453a8fc73233e106de16",
            "placeholder": "​",
            "style": "IPY_MODEL_30933700de06456c93fe7300389c5cc0",
            "value": " 1/1 [00:15&lt;00:00,  9.65s/ url]"
          }
        },
        "5072266bddf640708628f4ee4fdbd0b1": {
          "model_module": "@jupyter-widgets/controls",
          "model_module_version": "1.5.0",
          "model_name": "HBoxModel",
          "state": {
            "_dom_classes": [],
            "_model_module": "@jupyter-widgets/controls",
            "_model_module_version": "1.5.0",
            "_model_name": "HBoxModel",
            "_view_count": null,
            "_view_module": "@jupyter-widgets/controls",
            "_view_module_version": "1.5.0",
            "_view_name": "HBoxView",
            "box_style": "",
            "children": [
              "IPY_MODEL_4147716ffb75497696d52f383db8d15c",
              "IPY_MODEL_947ccb4272a04d2e80a4c98f4892a419",
              "IPY_MODEL_96eead6828a24b50bedcb5b1630cfc1a"
            ],
            "layout": "IPY_MODEL_cf9d5f383e3744dba19bf374351b60e6"
          }
        },
        "517f855b323f4853aab7924592616582": {
          "model_module": "@jupyter-widgets/controls",
          "model_module_version": "1.5.0",
          "model_name": "DescriptionStyleModel",
          "state": {
            "_model_module": "@jupyter-widgets/controls",
            "_model_module_version": "1.5.0",
            "_model_name": "DescriptionStyleModel",
            "_view_count": null,
            "_view_module": "@jupyter-widgets/base",
            "_view_module_version": "1.2.0",
            "_view_name": "StyleView",
            "description_width": ""
          }
        },
        "52957eb585b8496cbec165041f9e2179": {
          "model_module": "@jupyter-widgets/base",
          "model_module_version": "1.2.0",
          "model_name": "LayoutModel",
          "state": {
            "_model_module": "@jupyter-widgets/base",
            "_model_module_version": "1.2.0",
            "_model_name": "LayoutModel",
            "_view_count": null,
            "_view_module": "@jupyter-widgets/base",
            "_view_module_version": "1.2.0",
            "_view_name": "LayoutView",
            "align_content": null,
            "align_items": null,
            "align_self": null,
            "border": null,
            "bottom": null,
            "display": null,
            "flex": null,
            "flex_flow": null,
            "grid_area": null,
            "grid_auto_columns": null,
            "grid_auto_flow": null,
            "grid_auto_rows": null,
            "grid_column": null,
            "grid_gap": null,
            "grid_row": null,
            "grid_template_areas": null,
            "grid_template_columns": null,
            "grid_template_rows": null,
            "height": null,
            "justify_content": null,
            "justify_items": null,
            "left": null,
            "margin": null,
            "max_height": null,
            "max_width": null,
            "min_height": null,
            "min_width": null,
            "object_fit": null,
            "object_position": null,
            "order": null,
            "overflow": null,
            "overflow_x": null,
            "overflow_y": null,
            "padding": null,
            "right": null,
            "top": null,
            "visibility": null,
            "width": null
          }
        },
        "55bd74c838374360ac0b4c3eaadf31e3": {
          "model_module": "@jupyter-widgets/controls",
          "model_module_version": "1.5.0",
          "model_name": "FloatProgressModel",
          "state": {
            "_dom_classes": [],
            "_model_module": "@jupyter-widgets/controls",
            "_model_module_version": "1.5.0",
            "_model_name": "FloatProgressModel",
            "_view_count": null,
            "_view_module": "@jupyter-widgets/controls",
            "_view_module_version": "1.5.0",
            "_view_name": "ProgressView",
            "bar_style": "success",
            "description": "",
            "description_tooltip": null,
            "layout": "IPY_MODEL_7e4b351d393144d4b378954267e86454",
            "max": 1,
            "min": 0,
            "orientation": "horizontal",
            "style": "IPY_MODEL_84dd639d031048adb8a8e35738d6fbe2",
            "value": 1
          }
        },
        "56f62437ee3649d496718539dae9ffd1": {
          "model_module": "@jupyter-widgets/controls",
          "model_module_version": "1.5.0",
          "model_name": "HTMLModel",
          "state": {
            "_dom_classes": [],
            "_model_module": "@jupyter-widgets/controls",
            "_model_module_version": "1.5.0",
            "_model_name": "HTMLModel",
            "_view_count": null,
            "_view_module": "@jupyter-widgets/controls",
            "_view_module_version": "1.5.0",
            "_view_name": "HTMLView",
            "description": "",
            "description_tooltip": null,
            "layout": "IPY_MODEL_bb22b50ae92845f7879bfd53b70404c0",
            "placeholder": "​",
            "style": "IPY_MODEL_91780ac6aec24968b3f8ac1dfec441b4",
            "value": " 1/1 [00:15&lt;00:00, 15.47s/ file]"
          }
        },
        "580ecc6d89a34a5eaa5d3e8dc7f27cad": {
          "model_module": "@jupyter-widgets/controls",
          "model_module_version": "1.5.0",
          "model_name": "HTMLModel",
          "state": {
            "_dom_classes": [],
            "_model_module": "@jupyter-widgets/controls",
            "_model_module_version": "1.5.0",
            "_model_name": "HTMLModel",
            "_view_count": null,
            "_view_module": "@jupyter-widgets/controls",
            "_view_module_version": "1.5.0",
            "_view_name": "HTMLView",
            "description": "",
            "description_tooltip": null,
            "layout": "IPY_MODEL_ef2eae73d2aa4dae848046131b6873a0",
            "placeholder": "​",
            "style": "IPY_MODEL_d5bbfe8ca5fb43dda41be56f8c8560ad",
            "value": "Generating train examples...: 100%"
          }
        },
        "5b59358a717149aca562b0d697e400dc": {
          "model_module": "@jupyter-widgets/base",
          "model_module_version": "1.2.0",
          "model_name": "LayoutModel",
          "state": {
            "_model_module": "@jupyter-widgets/base",
            "_model_module_version": "1.2.0",
            "_model_name": "LayoutModel",
            "_view_count": null,
            "_view_module": "@jupyter-widgets/base",
            "_view_module_version": "1.2.0",
            "_view_name": "LayoutView",
            "align_content": null,
            "align_items": null,
            "align_self": null,
            "border": null,
            "bottom": null,
            "display": null,
            "flex": null,
            "flex_flow": null,
            "grid_area": null,
            "grid_auto_columns": null,
            "grid_auto_flow": null,
            "grid_auto_rows": null,
            "grid_column": null,
            "grid_gap": null,
            "grid_row": null,
            "grid_template_areas": null,
            "grid_template_columns": null,
            "grid_template_rows": null,
            "height": null,
            "justify_content": null,
            "justify_items": null,
            "left": null,
            "margin": null,
            "max_height": null,
            "max_width": null,
            "min_height": null,
            "min_width": null,
            "object_fit": null,
            "object_position": null,
            "order": null,
            "overflow": null,
            "overflow_x": null,
            "overflow_y": null,
            "padding": null,
            "right": null,
            "top": null,
            "visibility": "hidden",
            "width": null
          }
        },
        "637a66af84294dabb69d089fb654a7f6": {
          "model_module": "@jupyter-widgets/base",
          "model_module_version": "1.2.0",
          "model_name": "LayoutModel",
          "state": {
            "_model_module": "@jupyter-widgets/base",
            "_model_module_version": "1.2.0",
            "_model_name": "LayoutModel",
            "_view_count": null,
            "_view_module": "@jupyter-widgets/base",
            "_view_module_version": "1.2.0",
            "_view_name": "LayoutView",
            "align_content": null,
            "align_items": null,
            "align_self": null,
            "border": null,
            "bottom": null,
            "display": null,
            "flex": null,
            "flex_flow": null,
            "grid_area": null,
            "grid_auto_columns": null,
            "grid_auto_flow": null,
            "grid_auto_rows": null,
            "grid_column": null,
            "grid_gap": null,
            "grid_row": null,
            "grid_template_areas": null,
            "grid_template_columns": null,
            "grid_template_rows": null,
            "height": null,
            "justify_content": null,
            "justify_items": null,
            "left": null,
            "margin": null,
            "max_height": null,
            "max_width": null,
            "min_height": null,
            "min_width": null,
            "object_fit": null,
            "object_position": null,
            "order": null,
            "overflow": null,
            "overflow_x": null,
            "overflow_y": null,
            "padding": null,
            "right": null,
            "top": null,
            "visibility": "hidden",
            "width": null
          }
        },
        "6486bef5806d4d98b29fd4c5ce5f9ade": {
          "model_module": "@jupyter-widgets/controls",
          "model_module_version": "1.5.0",
          "model_name": "HBoxModel",
          "state": {
            "_dom_classes": [],
            "_model_module": "@jupyter-widgets/controls",
            "_model_module_version": "1.5.0",
            "_model_name": "HBoxModel",
            "_view_count": null,
            "_view_module": "@jupyter-widgets/controls",
            "_view_module_version": "1.5.0",
            "_view_name": "HBoxView",
            "box_style": "",
            "children": [
              "IPY_MODEL_8fe3ff01e9114649ab46ebe4cc574323",
              "IPY_MODEL_7a484339d34a412b8a5cd17c59d1dcd9",
              "IPY_MODEL_56f62437ee3649d496718539dae9ffd1"
            ],
            "layout": "IPY_MODEL_66e34dc1df014a24acbf86cae1a72aee"
          }
        },
        "66e34dc1df014a24acbf86cae1a72aee": {
          "model_module": "@jupyter-widgets/base",
          "model_module_version": "1.2.0",
          "model_name": "LayoutModel",
          "state": {
            "_model_module": "@jupyter-widgets/base",
            "_model_module_version": "1.2.0",
            "_model_name": "LayoutModel",
            "_view_count": null,
            "_view_module": "@jupyter-widgets/base",
            "_view_module_version": "1.2.0",
            "_view_name": "LayoutView",
            "align_content": null,
            "align_items": null,
            "align_self": null,
            "border": null,
            "bottom": null,
            "display": null,
            "flex": null,
            "flex_flow": null,
            "grid_area": null,
            "grid_auto_columns": null,
            "grid_auto_flow": null,
            "grid_auto_rows": null,
            "grid_column": null,
            "grid_gap": null,
            "grid_row": null,
            "grid_template_areas": null,
            "grid_template_columns": null,
            "grid_template_rows": null,
            "height": null,
            "justify_content": null,
            "justify_items": null,
            "left": null,
            "margin": null,
            "max_height": null,
            "max_width": null,
            "min_height": null,
            "min_width": null,
            "object_fit": null,
            "object_position": null,
            "order": null,
            "overflow": null,
            "overflow_x": null,
            "overflow_y": null,
            "padding": null,
            "right": null,
            "top": null,
            "visibility": null,
            "width": null
          }
        },
        "6a249e10e17345e5938c8390df6d2bc2": {
          "model_module": "@jupyter-widgets/controls",
          "model_module_version": "1.5.0",
          "model_name": "DescriptionStyleModel",
          "state": {
            "_model_module": "@jupyter-widgets/controls",
            "_model_module_version": "1.5.0",
            "_model_name": "DescriptionStyleModel",
            "_view_count": null,
            "_view_module": "@jupyter-widgets/base",
            "_view_module_version": "1.2.0",
            "_view_name": "StyleView",
            "description_width": ""
          }
        },
        "7a484339d34a412b8a5cd17c59d1dcd9": {
          "model_module": "@jupyter-widgets/controls",
          "model_module_version": "1.5.0",
          "model_name": "FloatProgressModel",
          "state": {
            "_dom_classes": [],
            "_model_module": "@jupyter-widgets/controls",
            "_model_module_version": "1.5.0",
            "_model_name": "FloatProgressModel",
            "_view_count": null,
            "_view_module": "@jupyter-widgets/controls",
            "_view_module_version": "1.5.0",
            "_view_name": "ProgressView",
            "bar_style": "success",
            "description": "",
            "description_tooltip": null,
            "layout": "IPY_MODEL_34f06627acd84f62ad837c0d5a2c6898",
            "max": 1,
            "min": 0,
            "orientation": "horizontal",
            "style": "IPY_MODEL_91675d94d970413d9b88b2be750fc2dd",
            "value": 1
          }
        },
        "7bf1bb5676634163892a6fd135931c34": {
          "model_module": "@jupyter-widgets/controls",
          "model_module_version": "1.5.0",
          "model_name": "DescriptionStyleModel",
          "state": {
            "_model_module": "@jupyter-widgets/controls",
            "_model_module_version": "1.5.0",
            "_model_name": "DescriptionStyleModel",
            "_view_count": null,
            "_view_module": "@jupyter-widgets/base",
            "_view_module_version": "1.2.0",
            "_view_name": "StyleView",
            "description_width": ""
          }
        },
        "7e4b351d393144d4b378954267e86454": {
          "model_module": "@jupyter-widgets/base",
          "model_module_version": "1.2.0",
          "model_name": "LayoutModel",
          "state": {
            "_model_module": "@jupyter-widgets/base",
            "_model_module_version": "1.2.0",
            "_model_name": "LayoutModel",
            "_view_count": null,
            "_view_module": "@jupyter-widgets/base",
            "_view_module_version": "1.2.0",
            "_view_name": "LayoutView",
            "align_content": null,
            "align_items": null,
            "align_self": null,
            "border": null,
            "bottom": null,
            "display": null,
            "flex": null,
            "flex_flow": null,
            "grid_area": null,
            "grid_auto_columns": null,
            "grid_auto_flow": null,
            "grid_auto_rows": null,
            "grid_column": null,
            "grid_gap": null,
            "grid_row": null,
            "grid_template_areas": null,
            "grid_template_columns": null,
            "grid_template_rows": null,
            "height": null,
            "justify_content": null,
            "justify_items": null,
            "left": null,
            "margin": null,
            "max_height": null,
            "max_width": null,
            "min_height": null,
            "min_width": null,
            "object_fit": null,
            "object_position": null,
            "order": null,
            "overflow": null,
            "overflow_x": null,
            "overflow_y": null,
            "padding": null,
            "right": null,
            "top": null,
            "visibility": null,
            "width": "20px"
          }
        },
        "823072a2c62e44bbae0e37b6f5f4d65c": {
          "model_module": "@jupyter-widgets/controls",
          "model_module_version": "1.5.0",
          "model_name": "DescriptionStyleModel",
          "state": {
            "_model_module": "@jupyter-widgets/controls",
            "_model_module_version": "1.5.0",
            "_model_name": "DescriptionStyleModel",
            "_view_count": null,
            "_view_module": "@jupyter-widgets/base",
            "_view_module_version": "1.2.0",
            "_view_name": "StyleView",
            "description_width": ""
          }
        },
        "84dd639d031048adb8a8e35738d6fbe2": {
          "model_module": "@jupyter-widgets/controls",
          "model_module_version": "1.5.0",
          "model_name": "ProgressStyleModel",
          "state": {
            "_model_module": "@jupyter-widgets/controls",
            "_model_module_version": "1.5.0",
            "_model_name": "ProgressStyleModel",
            "_view_count": null,
            "_view_module": "@jupyter-widgets/base",
            "_view_module_version": "1.2.0",
            "_view_name": "StyleView",
            "bar_color": null,
            "description_width": ""
          }
        },
        "8e930d9120ef453a8fc73233e106de16": {
          "model_module": "@jupyter-widgets/base",
          "model_module_version": "1.2.0",
          "model_name": "LayoutModel",
          "state": {
            "_model_module": "@jupyter-widgets/base",
            "_model_module_version": "1.2.0",
            "_model_name": "LayoutModel",
            "_view_count": null,
            "_view_module": "@jupyter-widgets/base",
            "_view_module_version": "1.2.0",
            "_view_name": "LayoutView",
            "align_content": null,
            "align_items": null,
            "align_self": null,
            "border": null,
            "bottom": null,
            "display": null,
            "flex": null,
            "flex_flow": null,
            "grid_area": null,
            "grid_auto_columns": null,
            "grid_auto_flow": null,
            "grid_auto_rows": null,
            "grid_column": null,
            "grid_gap": null,
            "grid_row": null,
            "grid_template_areas": null,
            "grid_template_columns": null,
            "grid_template_rows": null,
            "height": null,
            "justify_content": null,
            "justify_items": null,
            "left": null,
            "margin": null,
            "max_height": null,
            "max_width": null,
            "min_height": null,
            "min_width": null,
            "object_fit": null,
            "object_position": null,
            "order": null,
            "overflow": null,
            "overflow_x": null,
            "overflow_y": null,
            "padding": null,
            "right": null,
            "top": null,
            "visibility": null,
            "width": null
          }
        },
        "8fe3ff01e9114649ab46ebe4cc574323": {
          "model_module": "@jupyter-widgets/controls",
          "model_module_version": "1.5.0",
          "model_name": "HTMLModel",
          "state": {
            "_dom_classes": [],
            "_model_module": "@jupyter-widgets/controls",
            "_model_module_version": "1.5.0",
            "_model_name": "HTMLModel",
            "_view_count": null,
            "_view_module": "@jupyter-widgets/controls",
            "_view_module_version": "1.5.0",
            "_view_name": "HTMLView",
            "description": "",
            "description_tooltip": null,
            "layout": "IPY_MODEL_e6d9d5a84c584c31aaff300e07c83838",
            "placeholder": "​",
            "style": "IPY_MODEL_21619bf6cbc04b5f9b5fb43400d5d2e5",
            "value": "Extraction completed...: 100%"
          }
        },
        "91675d94d970413d9b88b2be750fc2dd": {
          "model_module": "@jupyter-widgets/controls",
          "model_module_version": "1.5.0",
          "model_name": "ProgressStyleModel",
          "state": {
            "_model_module": "@jupyter-widgets/controls",
            "_model_module_version": "1.5.0",
            "_model_name": "ProgressStyleModel",
            "_view_count": null,
            "_view_module": "@jupyter-widgets/base",
            "_view_module_version": "1.2.0",
            "_view_name": "StyleView",
            "bar_color": null,
            "description_width": ""
          }
        },
        "91780ac6aec24968b3f8ac1dfec441b4": {
          "model_module": "@jupyter-widgets/controls",
          "model_module_version": "1.5.0",
          "model_name": "DescriptionStyleModel",
          "state": {
            "_model_module": "@jupyter-widgets/controls",
            "_model_module_version": "1.5.0",
            "_model_name": "DescriptionStyleModel",
            "_view_count": null,
            "_view_module": "@jupyter-widgets/base",
            "_view_module_version": "1.2.0",
            "_view_name": "StyleView",
            "description_width": ""
          }
        },
        "947ccb4272a04d2e80a4c98f4892a419": {
          "model_module": "@jupyter-widgets/controls",
          "model_module_version": "1.5.0",
          "model_name": "FloatProgressModel",
          "state": {
            "_dom_classes": [],
            "_model_module": "@jupyter-widgets/controls",
            "_model_module_version": "1.5.0",
            "_model_name": "FloatProgressModel",
            "_view_count": null,
            "_view_module": "@jupyter-widgets/controls",
            "_view_module_version": "1.5.0",
            "_view_name": "ProgressView",
            "bar_style": "",
            "description": "",
            "description_tooltip": null,
            "layout": "IPY_MODEL_d91038efd4fa42a197f531bd4b90c536",
            "max": 27000,
            "min": 0,
            "orientation": "horizontal",
            "style": "IPY_MODEL_ddd93acb9b9d459187a7fecf03a9880d",
            "value": 27000
          }
        },
        "968fc6b112fb45fdb6698bf33c1ea0a7": {
          "model_module": "@jupyter-widgets/controls",
          "model_module_version": "1.5.0",
          "model_name": "DescriptionStyleModel",
          "state": {
            "_model_module": "@jupyter-widgets/controls",
            "_model_module_version": "1.5.0",
            "_model_name": "DescriptionStyleModel",
            "_view_count": null,
            "_view_module": "@jupyter-widgets/base",
            "_view_module_version": "1.2.0",
            "_view_name": "StyleView",
            "description_width": ""
          }
        },
        "96eead6828a24b50bedcb5b1630cfc1a": {
          "model_module": "@jupyter-widgets/controls",
          "model_module_version": "1.5.0",
          "model_name": "HTMLModel",
          "state": {
            "_dom_classes": [],
            "_model_module": "@jupyter-widgets/controls",
            "_model_module_version": "1.5.0",
            "_model_name": "HTMLModel",
            "_view_count": null,
            "_view_module": "@jupyter-widgets/controls",
            "_view_module_version": "1.5.0",
            "_view_name": "HTMLView",
            "description": "",
            "description_tooltip": null,
            "layout": "IPY_MODEL_19f8901abb6a4abeac22022fec95bd97",
            "placeholder": "​",
            "style": "IPY_MODEL_6a249e10e17345e5938c8390df6d2bc2",
            "value": " 18882/27000 [00:00&lt;00:00, 101661.43 examples/s]"
          }
        },
        "a060b9114ca7465c9c14ab408c5730f7": {
          "model_module": "@jupyter-widgets/base",
          "model_module_version": "1.2.0",
          "model_name": "LayoutModel",
          "state": {
            "_model_module": "@jupyter-widgets/base",
            "_model_module_version": "1.2.0",
            "_model_name": "LayoutModel",
            "_view_count": null,
            "_view_module": "@jupyter-widgets/base",
            "_view_module_version": "1.2.0",
            "_view_name": "LayoutView",
            "align_content": null,
            "align_items": null,
            "align_self": null,
            "border": null,
            "bottom": null,
            "display": null,
            "flex": null,
            "flex_flow": null,
            "grid_area": null,
            "grid_auto_columns": null,
            "grid_auto_flow": null,
            "grid_auto_rows": null,
            "grid_column": null,
            "grid_gap": null,
            "grid_row": null,
            "grid_template_areas": null,
            "grid_template_columns": null,
            "grid_template_rows": null,
            "height": null,
            "justify_content": null,
            "justify_items": null,
            "left": null,
            "margin": null,
            "max_height": null,
            "max_width": null,
            "min_height": null,
            "min_width": null,
            "object_fit": null,
            "object_position": null,
            "order": null,
            "overflow": null,
            "overflow_x": null,
            "overflow_y": null,
            "padding": null,
            "right": null,
            "top": null,
            "visibility": null,
            "width": null
          }
        },
        "a4a6dfffcc9442588a369e1f6db246af": {
          "model_module": "@jupyter-widgets/controls",
          "model_module_version": "1.5.0",
          "model_name": "DescriptionStyleModel",
          "state": {
            "_model_module": "@jupyter-widgets/controls",
            "_model_module_version": "1.5.0",
            "_model_name": "DescriptionStyleModel",
            "_view_count": null,
            "_view_module": "@jupyter-widgets/base",
            "_view_module_version": "1.2.0",
            "_view_name": "StyleView",
            "description_width": ""
          }
        },
        "a57a49e3fb3c47c9b03d56b750ae71f1": {
          "model_module": "@jupyter-widgets/base",
          "model_module_version": "1.2.0",
          "model_name": "LayoutModel",
          "state": {
            "_model_module": "@jupyter-widgets/base",
            "_model_module_version": "1.2.0",
            "_model_name": "LayoutModel",
            "_view_count": null,
            "_view_module": "@jupyter-widgets/base",
            "_view_module_version": "1.2.0",
            "_view_name": "LayoutView",
            "align_content": null,
            "align_items": null,
            "align_self": null,
            "border": null,
            "bottom": null,
            "display": null,
            "flex": null,
            "flex_flow": null,
            "grid_area": null,
            "grid_auto_columns": null,
            "grid_auto_flow": null,
            "grid_auto_rows": null,
            "grid_column": null,
            "grid_gap": null,
            "grid_row": null,
            "grid_template_areas": null,
            "grid_template_columns": null,
            "grid_template_rows": null,
            "height": null,
            "justify_content": null,
            "justify_items": null,
            "left": null,
            "margin": null,
            "max_height": null,
            "max_width": null,
            "min_height": null,
            "min_width": null,
            "object_fit": null,
            "object_position": null,
            "order": null,
            "overflow": null,
            "overflow_x": null,
            "overflow_y": null,
            "padding": null,
            "right": null,
            "top": null,
            "visibility": null,
            "width": null
          }
        },
        "bb22b50ae92845f7879bfd53b70404c0": {
          "model_module": "@jupyter-widgets/base",
          "model_module_version": "1.2.0",
          "model_name": "LayoutModel",
          "state": {
            "_model_module": "@jupyter-widgets/base",
            "_model_module_version": "1.2.0",
            "_model_name": "LayoutModel",
            "_view_count": null,
            "_view_module": "@jupyter-widgets/base",
            "_view_module_version": "1.2.0",
            "_view_name": "LayoutView",
            "align_content": null,
            "align_items": null,
            "align_self": null,
            "border": null,
            "bottom": null,
            "display": null,
            "flex": null,
            "flex_flow": null,
            "grid_area": null,
            "grid_auto_columns": null,
            "grid_auto_flow": null,
            "grid_auto_rows": null,
            "grid_column": null,
            "grid_gap": null,
            "grid_row": null,
            "grid_template_areas": null,
            "grid_template_columns": null,
            "grid_template_rows": null,
            "height": null,
            "justify_content": null,
            "justify_items": null,
            "left": null,
            "margin": null,
            "max_height": null,
            "max_width": null,
            "min_height": null,
            "min_width": null,
            "object_fit": null,
            "object_position": null,
            "order": null,
            "overflow": null,
            "overflow_x": null,
            "overflow_y": null,
            "padding": null,
            "right": null,
            "top": null,
            "visibility": null,
            "width": null
          }
        },
        "c2bea92e813d4b6295aac507802e8dbe": {
          "model_module": "@jupyter-widgets/base",
          "model_module_version": "1.2.0",
          "model_name": "LayoutModel",
          "state": {
            "_model_module": "@jupyter-widgets/base",
            "_model_module_version": "1.2.0",
            "_model_name": "LayoutModel",
            "_view_count": null,
            "_view_module": "@jupyter-widgets/base",
            "_view_module_version": "1.2.0",
            "_view_name": "LayoutView",
            "align_content": null,
            "align_items": null,
            "align_self": null,
            "border": null,
            "bottom": null,
            "display": null,
            "flex": null,
            "flex_flow": null,
            "grid_area": null,
            "grid_auto_columns": null,
            "grid_auto_flow": null,
            "grid_auto_rows": null,
            "grid_column": null,
            "grid_gap": null,
            "grid_row": null,
            "grid_template_areas": null,
            "grid_template_columns": null,
            "grid_template_rows": null,
            "height": null,
            "justify_content": null,
            "justify_items": null,
            "left": null,
            "margin": null,
            "max_height": null,
            "max_width": null,
            "min_height": null,
            "min_width": null,
            "object_fit": null,
            "object_position": null,
            "order": null,
            "overflow": null,
            "overflow_x": null,
            "overflow_y": null,
            "padding": null,
            "right": null,
            "top": null,
            "visibility": null,
            "width": null
          }
        },
        "cc58d6522be944fca831fb45f3f9d3a4": {
          "model_module": "@jupyter-widgets/controls",
          "model_module_version": "1.5.0",
          "model_name": "FloatProgressModel",
          "state": {
            "_dom_classes": [],
            "_model_module": "@jupyter-widgets/controls",
            "_model_module_version": "1.5.0",
            "_model_name": "FloatProgressModel",
            "_view_count": null,
            "_view_module": "@jupyter-widgets/controls",
            "_view_module_version": "1.5.0",
            "_view_name": "ProgressView",
            "bar_style": "",
            "description": "",
            "description_tooltip": null,
            "layout": "IPY_MODEL_a57a49e3fb3c47c9b03d56b750ae71f1",
            "max": 1,
            "min": 0,
            "orientation": "horizontal",
            "style": "IPY_MODEL_0c5cf373d2e147a6b727bdbdc0b2664f",
            "value": 1
          }
        },
        "cf9d5f383e3744dba19bf374351b60e6": {
          "model_module": "@jupyter-widgets/base",
          "model_module_version": "1.2.0",
          "model_name": "LayoutModel",
          "state": {
            "_model_module": "@jupyter-widgets/base",
            "_model_module_version": "1.2.0",
            "_model_name": "LayoutModel",
            "_view_count": null,
            "_view_module": "@jupyter-widgets/base",
            "_view_module_version": "1.2.0",
            "_view_name": "LayoutView",
            "align_content": null,
            "align_items": null,
            "align_self": null,
            "border": null,
            "bottom": null,
            "display": null,
            "flex": null,
            "flex_flow": null,
            "grid_area": null,
            "grid_auto_columns": null,
            "grid_auto_flow": null,
            "grid_auto_rows": null,
            "grid_column": null,
            "grid_gap": null,
            "grid_row": null,
            "grid_template_areas": null,
            "grid_template_columns": null,
            "grid_template_rows": null,
            "height": null,
            "justify_content": null,
            "justify_items": null,
            "left": null,
            "margin": null,
            "max_height": null,
            "max_width": null,
            "min_height": null,
            "min_width": null,
            "object_fit": null,
            "object_position": null,
            "order": null,
            "overflow": null,
            "overflow_x": null,
            "overflow_y": null,
            "padding": null,
            "right": null,
            "top": null,
            "visibility": "hidden",
            "width": null
          }
        },
        "d5bbfe8ca5fb43dda41be56f8c8560ad": {
          "model_module": "@jupyter-widgets/controls",
          "model_module_version": "1.5.0",
          "model_name": "DescriptionStyleModel",
          "state": {
            "_model_module": "@jupyter-widgets/controls",
            "_model_module_version": "1.5.0",
            "_model_name": "DescriptionStyleModel",
            "_view_count": null,
            "_view_module": "@jupyter-widgets/base",
            "_view_module_version": "1.2.0",
            "_view_name": "StyleView",
            "description_width": ""
          }
        },
        "d91038efd4fa42a197f531bd4b90c536": {
          "model_module": "@jupyter-widgets/base",
          "model_module_version": "1.2.0",
          "model_name": "LayoutModel",
          "state": {
            "_model_module": "@jupyter-widgets/base",
            "_model_module_version": "1.2.0",
            "_model_name": "LayoutModel",
            "_view_count": null,
            "_view_module": "@jupyter-widgets/base",
            "_view_module_version": "1.2.0",
            "_view_name": "LayoutView",
            "align_content": null,
            "align_items": null,
            "align_self": null,
            "border": null,
            "bottom": null,
            "display": null,
            "flex": null,
            "flex_flow": null,
            "grid_area": null,
            "grid_auto_columns": null,
            "grid_auto_flow": null,
            "grid_auto_rows": null,
            "grid_column": null,
            "grid_gap": null,
            "grid_row": null,
            "grid_template_areas": null,
            "grid_template_columns": null,
            "grid_template_rows": null,
            "height": null,
            "justify_content": null,
            "justify_items": null,
            "left": null,
            "margin": null,
            "max_height": null,
            "max_width": null,
            "min_height": null,
            "min_width": null,
            "object_fit": null,
            "object_position": null,
            "order": null,
            "overflow": null,
            "overflow_x": null,
            "overflow_y": null,
            "padding": null,
            "right": null,
            "top": null,
            "visibility": null,
            "width": null
          }
        },
        "da1c7e07585948d388eebe5c58f46a5a": {
          "model_module": "@jupyter-widgets/controls",
          "model_module_version": "1.5.0",
          "model_name": "ProgressStyleModel",
          "state": {
            "_model_module": "@jupyter-widgets/controls",
            "_model_module_version": "1.5.0",
            "_model_name": "ProgressStyleModel",
            "_view_count": null,
            "_view_module": "@jupyter-widgets/base",
            "_view_module_version": "1.2.0",
            "_view_name": "StyleView",
            "bar_color": null,
            "description_width": ""
          }
        },
        "ddd93acb9b9d459187a7fecf03a9880d": {
          "model_module": "@jupyter-widgets/controls",
          "model_module_version": "1.5.0",
          "model_name": "ProgressStyleModel",
          "state": {
            "_model_module": "@jupyter-widgets/controls",
            "_model_module_version": "1.5.0",
            "_model_name": "ProgressStyleModel",
            "_view_count": null,
            "_view_module": "@jupyter-widgets/base",
            "_view_module_version": "1.2.0",
            "_view_name": "StyleView",
            "bar_color": null,
            "description_width": ""
          }
        },
        "e094822e1a994d388757f1f3ec60c28e": {
          "model_module": "@jupyter-widgets/controls",
          "model_module_version": "1.5.0",
          "model_name": "HTMLModel",
          "state": {
            "_dom_classes": [],
            "_model_module": "@jupyter-widgets/controls",
            "_model_module_version": "1.5.0",
            "_model_name": "HTMLModel",
            "_view_count": null,
            "_view_module": "@jupyter-widgets/controls",
            "_view_module_version": "1.5.0",
            "_view_name": "HTMLView",
            "description": "",
            "description_tooltip": null,
            "layout": "IPY_MODEL_f9d483447f154becaa7e4afa9975846f",
            "placeholder": "​",
            "style": "IPY_MODEL_a4a6dfffcc9442588a369e1f6db246af",
            "value": "Dl Completed...: 100%"
          }
        },
        "e6d9d5a84c584c31aaff300e07c83838": {
          "model_module": "@jupyter-widgets/base",
          "model_module_version": "1.2.0",
          "model_name": "LayoutModel",
          "state": {
            "_model_module": "@jupyter-widgets/base",
            "_model_module_version": "1.2.0",
            "_model_name": "LayoutModel",
            "_view_count": null,
            "_view_module": "@jupyter-widgets/base",
            "_view_module_version": "1.2.0",
            "_view_name": "LayoutView",
            "align_content": null,
            "align_items": null,
            "align_self": null,
            "border": null,
            "bottom": null,
            "display": null,
            "flex": null,
            "flex_flow": null,
            "grid_area": null,
            "grid_auto_columns": null,
            "grid_auto_flow": null,
            "grid_auto_rows": null,
            "grid_column": null,
            "grid_gap": null,
            "grid_row": null,
            "grid_template_areas": null,
            "grid_template_columns": null,
            "grid_template_rows": null,
            "height": null,
            "justify_content": null,
            "justify_items": null,
            "left": null,
            "margin": null,
            "max_height": null,
            "max_width": null,
            "min_height": null,
            "min_width": null,
            "object_fit": null,
            "object_position": null,
            "order": null,
            "overflow": null,
            "overflow_x": null,
            "overflow_y": null,
            "padding": null,
            "right": null,
            "top": null,
            "visibility": null,
            "width": null
          }
        },
        "e84cdc5cfb774789b1f2c062b025a807": {
          "model_module": "@jupyter-widgets/controls",
          "model_module_version": "1.5.0",
          "model_name": "HTMLModel",
          "state": {
            "_dom_classes": [],
            "_model_module": "@jupyter-widgets/controls",
            "_model_module_version": "1.5.0",
            "_model_name": "HTMLModel",
            "_view_count": null,
            "_view_module": "@jupyter-widgets/controls",
            "_view_module_version": "1.5.0",
            "_view_name": "HTMLView",
            "description": "",
            "description_tooltip": null,
            "layout": "IPY_MODEL_f35ccc7047bc41dcadef7061eb61b786",
            "placeholder": "​",
            "style": "IPY_MODEL_968fc6b112fb45fdb6698bf33c1ea0a7",
            "value": " 89/89 [00:15&lt;00:00, 13.60 MiB/s]"
          }
        },
        "ed8a92e799074fd387c4ba769e1f71e7": {
          "model_module": "@jupyter-widgets/controls",
          "model_module_version": "1.5.0",
          "model_name": "HTMLModel",
          "state": {
            "_dom_classes": [],
            "_model_module": "@jupyter-widgets/controls",
            "_model_module_version": "1.5.0",
            "_model_name": "HTMLModel",
            "_view_count": null,
            "_view_module": "@jupyter-widgets/controls",
            "_view_module_version": "1.5.0",
            "_view_name": "HTMLView",
            "description": "",
            "description_tooltip": null,
            "layout": "IPY_MODEL_fa28abad3c37400ea009ad53764ca4e2",
            "placeholder": "​",
            "style": "IPY_MODEL_f6001946ea4047e996a4a4acdcb321d9",
            "value": " 1/1 [00:09&lt;00:00,  9.16s/ splits]"
          }
        },
        "eee5dc9e1b2342d8b553256c27e3c9f4": {
          "model_module": "@jupyter-widgets/controls",
          "model_module_version": "1.5.0",
          "model_name": "HBoxModel",
          "state": {
            "_dom_classes": [],
            "_model_module": "@jupyter-widgets/controls",
            "_model_module_version": "1.5.0",
            "_model_name": "HBoxModel",
            "_view_count": null,
            "_view_module": "@jupyter-widgets/controls",
            "_view_module_version": "1.5.0",
            "_view_name": "HBoxView",
            "box_style": "",
            "children": [
              "IPY_MODEL_e094822e1a994d388757f1f3ec60c28e",
              "IPY_MODEL_3cea6df4a866403891f0ec16804b11a0",
              "IPY_MODEL_4bc65fa7a25f41dfacb5eb0ca58ff22c"
            ],
            "layout": "IPY_MODEL_a060b9114ca7465c9c14ab408c5730f7"
          }
        },
        "ef01068c1fb44a3fb4ec1f9d5dda9e60": {
          "model_module": "@jupyter-widgets/controls",
          "model_module_version": "1.5.0",
          "model_name": "HTMLModel",
          "state": {
            "_dom_classes": [],
            "_model_module": "@jupyter-widgets/controls",
            "_model_module_version": "1.5.0",
            "_model_name": "HTMLModel",
            "_view_count": null,
            "_view_module": "@jupyter-widgets/controls",
            "_view_module_version": "1.5.0",
            "_view_name": "HTMLView",
            "description": "",
            "description_tooltip": null,
            "layout": "IPY_MODEL_39cfb4c7aabb45c9b03af12cd88efde5",
            "placeholder": "​",
            "style": "IPY_MODEL_200b529a0e0243b2b5e057bce4ae59ba",
            "value": " 26973/27000 [00:08&lt;00:00, 3171.02 examples/s]"
          }
        },
        "ef2eae73d2aa4dae848046131b6873a0": {
          "model_module": "@jupyter-widgets/base",
          "model_module_version": "1.2.0",
          "model_name": "LayoutModel",
          "state": {
            "_model_module": "@jupyter-widgets/base",
            "_model_module_version": "1.2.0",
            "_model_name": "LayoutModel",
            "_view_count": null,
            "_view_module": "@jupyter-widgets/base",
            "_view_module_version": "1.2.0",
            "_view_name": "LayoutView",
            "align_content": null,
            "align_items": null,
            "align_self": null,
            "border": null,
            "bottom": null,
            "display": null,
            "flex": null,
            "flex_flow": null,
            "grid_area": null,
            "grid_auto_columns": null,
            "grid_auto_flow": null,
            "grid_auto_rows": null,
            "grid_column": null,
            "grid_gap": null,
            "grid_row": null,
            "grid_template_areas": null,
            "grid_template_columns": null,
            "grid_template_rows": null,
            "height": null,
            "justify_content": null,
            "justify_items": null,
            "left": null,
            "margin": null,
            "max_height": null,
            "max_width": null,
            "min_height": null,
            "min_width": null,
            "object_fit": null,
            "object_position": null,
            "order": null,
            "overflow": null,
            "overflow_x": null,
            "overflow_y": null,
            "padding": null,
            "right": null,
            "top": null,
            "visibility": null,
            "width": null
          }
        },
        "f35ccc7047bc41dcadef7061eb61b786": {
          "model_module": "@jupyter-widgets/base",
          "model_module_version": "1.2.0",
          "model_name": "LayoutModel",
          "state": {
            "_model_module": "@jupyter-widgets/base",
            "_model_module_version": "1.2.0",
            "_model_name": "LayoutModel",
            "_view_count": null,
            "_view_module": "@jupyter-widgets/base",
            "_view_module_version": "1.2.0",
            "_view_name": "LayoutView",
            "align_content": null,
            "align_items": null,
            "align_self": null,
            "border": null,
            "bottom": null,
            "display": null,
            "flex": null,
            "flex_flow": null,
            "grid_area": null,
            "grid_auto_columns": null,
            "grid_auto_flow": null,
            "grid_auto_rows": null,
            "grid_column": null,
            "grid_gap": null,
            "grid_row": null,
            "grid_template_areas": null,
            "grid_template_columns": null,
            "grid_template_rows": null,
            "height": null,
            "justify_content": null,
            "justify_items": null,
            "left": null,
            "margin": null,
            "max_height": null,
            "max_width": null,
            "min_height": null,
            "min_width": null,
            "object_fit": null,
            "object_position": null,
            "order": null,
            "overflow": null,
            "overflow_x": null,
            "overflow_y": null,
            "padding": null,
            "right": null,
            "top": null,
            "visibility": null,
            "width": null
          }
        },
        "f6001946ea4047e996a4a4acdcb321d9": {
          "model_module": "@jupyter-widgets/controls",
          "model_module_version": "1.5.0",
          "model_name": "DescriptionStyleModel",
          "state": {
            "_model_module": "@jupyter-widgets/controls",
            "_model_module_version": "1.5.0",
            "_model_name": "DescriptionStyleModel",
            "_view_count": null,
            "_view_module": "@jupyter-widgets/base",
            "_view_module_version": "1.2.0",
            "_view_name": "StyleView",
            "description_width": ""
          }
        },
        "f64da74e841e49ad83e15d044199bd0a": {
          "model_module": "@jupyter-widgets/controls",
          "model_module_version": "1.5.0",
          "model_name": "HBoxModel",
          "state": {
            "_dom_classes": [],
            "_model_module": "@jupyter-widgets/controls",
            "_model_module_version": "1.5.0",
            "_model_name": "HBoxModel",
            "_view_count": null,
            "_view_module": "@jupyter-widgets/controls",
            "_view_module_version": "1.5.0",
            "_view_name": "HBoxView",
            "box_style": "",
            "children": [
              "IPY_MODEL_3789fc91cc9946858058518ccc6463c9",
              "IPY_MODEL_55bd74c838374360ac0b4c3eaadf31e3",
              "IPY_MODEL_e84cdc5cfb774789b1f2c062b025a807"
            ],
            "layout": "IPY_MODEL_fa411b2cc2ed469796bc78af26cb0435"
          }
        },
        "f9d483447f154becaa7e4afa9975846f": {
          "model_module": "@jupyter-widgets/base",
          "model_module_version": "1.2.0",
          "model_name": "LayoutModel",
          "state": {
            "_model_module": "@jupyter-widgets/base",
            "_model_module_version": "1.2.0",
            "_model_name": "LayoutModel",
            "_view_count": null,
            "_view_module": "@jupyter-widgets/base",
            "_view_module_version": "1.2.0",
            "_view_name": "LayoutView",
            "align_content": null,
            "align_items": null,
            "align_self": null,
            "border": null,
            "bottom": null,
            "display": null,
            "flex": null,
            "flex_flow": null,
            "grid_area": null,
            "grid_auto_columns": null,
            "grid_auto_flow": null,
            "grid_auto_rows": null,
            "grid_column": null,
            "grid_gap": null,
            "grid_row": null,
            "grid_template_areas": null,
            "grid_template_columns": null,
            "grid_template_rows": null,
            "height": null,
            "justify_content": null,
            "justify_items": null,
            "left": null,
            "margin": null,
            "max_height": null,
            "max_width": null,
            "min_height": null,
            "min_width": null,
            "object_fit": null,
            "object_position": null,
            "order": null,
            "overflow": null,
            "overflow_x": null,
            "overflow_y": null,
            "padding": null,
            "right": null,
            "top": null,
            "visibility": null,
            "width": null
          }
        },
        "fa28abad3c37400ea009ad53764ca4e2": {
          "model_module": "@jupyter-widgets/base",
          "model_module_version": "1.2.0",
          "model_name": "LayoutModel",
          "state": {
            "_model_module": "@jupyter-widgets/base",
            "_model_module_version": "1.2.0",
            "_model_name": "LayoutModel",
            "_view_count": null,
            "_view_module": "@jupyter-widgets/base",
            "_view_module_version": "1.2.0",
            "_view_name": "LayoutView",
            "align_content": null,
            "align_items": null,
            "align_self": null,
            "border": null,
            "bottom": null,
            "display": null,
            "flex": null,
            "flex_flow": null,
            "grid_area": null,
            "grid_auto_columns": null,
            "grid_auto_flow": null,
            "grid_auto_rows": null,
            "grid_column": null,
            "grid_gap": null,
            "grid_row": null,
            "grid_template_areas": null,
            "grid_template_columns": null,
            "grid_template_rows": null,
            "height": null,
            "justify_content": null,
            "justify_items": null,
            "left": null,
            "margin": null,
            "max_height": null,
            "max_width": null,
            "min_height": null,
            "min_width": null,
            "object_fit": null,
            "object_position": null,
            "order": null,
            "overflow": null,
            "overflow_x": null,
            "overflow_y": null,
            "padding": null,
            "right": null,
            "top": null,
            "visibility": null,
            "width": null
          }
        },
        "fa411b2cc2ed469796bc78af26cb0435": {
          "model_module": "@jupyter-widgets/base",
          "model_module_version": "1.2.0",
          "model_name": "LayoutModel",
          "state": {
            "_model_module": "@jupyter-widgets/base",
            "_model_module_version": "1.2.0",
            "_model_name": "LayoutModel",
            "_view_count": null,
            "_view_module": "@jupyter-widgets/base",
            "_view_module_version": "1.2.0",
            "_view_name": "LayoutView",
            "align_content": null,
            "align_items": null,
            "align_self": null,
            "border": null,
            "bottom": null,
            "display": null,
            "flex": null,
            "flex_flow": null,
            "grid_area": null,
            "grid_auto_columns": null,
            "grid_auto_flow": null,
            "grid_auto_rows": null,
            "grid_column": null,
            "grid_gap": null,
            "grid_row": null,
            "grid_template_areas": null,
            "grid_template_columns": null,
            "grid_template_rows": null,
            "height": null,
            "justify_content": null,
            "justify_items": null,
            "left": null,
            "margin": null,
            "max_height": null,
            "max_width": null,
            "min_height": null,
            "min_width": null,
            "object_fit": null,
            "object_position": null,
            "order": null,
            "overflow": null,
            "overflow_x": null,
            "overflow_y": null,
            "padding": null,
            "right": null,
            "top": null,
            "visibility": null,
            "width": null
          }
        }
      }
    }
  },
  "nbformat": 4,
  "nbformat_minor": 0
}
